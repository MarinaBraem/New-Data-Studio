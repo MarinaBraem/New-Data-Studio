{
 "cells": [
  {
   "cell_type": "code",
   "execution_count": 86,
   "metadata": {
    "collapsed": true
   },
   "outputs": [],
   "source": [
    "%matplotlib inline\n",
    "import pandas as pd\n",
    "import geopandas as gpd\n",
    "from shapely.geometry import Point\n",
    "import matplotlib.pyplot as plt\n",
    "import numpy as np\n",
    "\n",
    "import matplotlib\n",
    "matplotlib.rcParams['pdf.fonttype'] = 42\n",
    "import matplotlib.pyplot as pyplot"
   ]
  },
  {
   "cell_type": "code",
   "execution_count": 87,
   "metadata": {
    "collapsed": true
   },
   "outputs": [],
   "source": [
    "import matplotlib\n",
    "matplotlib.style.use('ggplot')"
   ]
  },
  {
   "cell_type": "code",
   "execution_count": 88,
   "metadata": {},
   "outputs": [
    {
     "data": {
      "text/html": [
       "<div>\n",
       "<style>\n",
       "    .dataframe thead tr:only-child th {\n",
       "        text-align: right;\n",
       "    }\n",
       "\n",
       "    .dataframe thead th {\n",
       "        text-align: left;\n",
       "    }\n",
       "\n",
       "    .dataframe tbody tr th {\n",
       "        vertical-align: top;\n",
       "    }\n",
       "</style>\n",
       "<table border=\"1\" class=\"dataframe\">\n",
       "  <thead>\n",
       "    <tr style=\"text-align: right;\">\n",
       "      <th></th>\n",
       "      <th>date</th>\n",
       "      <th>m_winner</th>\n",
       "      <th>m_country</th>\n",
       "      <th>m_time</th>\n",
       "      <th>f_winner</th>\n",
       "      <th>f_country</th>\n",
       "      <th>f_time</th>\n",
       "      <th>marathon</th>\n",
       "    </tr>\n",
       "  </thead>\n",
       "  <tbody>\n",
       "    <tr>\n",
       "      <th>0</th>\n",
       "      <td>1970</td>\n",
       "      <td>Gary Muhrcke</td>\n",
       "      <td>USA</td>\n",
       "      <td>02:31:39</td>\n",
       "      <td>NaN</td>\n",
       "      <td>NaN</td>\n",
       "      <td>NaN</td>\n",
       "      <td>New York</td>\n",
       "    </tr>\n",
       "    <tr>\n",
       "      <th>1</th>\n",
       "      <td>1971</td>\n",
       "      <td>Norm Higgins</td>\n",
       "      <td>USA</td>\n",
       "      <td>02:22:54</td>\n",
       "      <td>Beth Bonner</td>\n",
       "      <td>USA</td>\n",
       "      <td>02:55:22</td>\n",
       "      <td>New York</td>\n",
       "    </tr>\n",
       "    <tr>\n",
       "      <th>2</th>\n",
       "      <td>1972</td>\n",
       "      <td>Sheldon Karlin</td>\n",
       "      <td>USA</td>\n",
       "      <td>02:27:52</td>\n",
       "      <td>Nina Kuscsik</td>\n",
       "      <td>USA</td>\n",
       "      <td>03:08:41</td>\n",
       "      <td>New York</td>\n",
       "    </tr>\n",
       "    <tr>\n",
       "      <th>3</th>\n",
       "      <td>1973</td>\n",
       "      <td>Tom Fleming</td>\n",
       "      <td>USA</td>\n",
       "      <td>02:21:55</td>\n",
       "      <td>Nina Kuscsik</td>\n",
       "      <td>USA</td>\n",
       "      <td>02:57:08</td>\n",
       "      <td>New York</td>\n",
       "    </tr>\n",
       "    <tr>\n",
       "      <th>4</th>\n",
       "      <td>1974</td>\n",
       "      <td>Norbert Sander</td>\n",
       "      <td>USA</td>\n",
       "      <td>02:26:31</td>\n",
       "      <td>Kathrine Switzer</td>\n",
       "      <td>USA</td>\n",
       "      <td>03:07:29</td>\n",
       "      <td>New York</td>\n",
       "    </tr>\n",
       "  </tbody>\n",
       "</table>\n",
       "</div>"
      ],
      "text/plain": [
       "   date        m_winner m_country    m_time          f_winner f_country  \\\n",
       "0  1970    Gary Muhrcke       USA  02:31:39               NaN       NaN   \n",
       "1  1971    Norm Higgins       USA  02:22:54       Beth Bonner       USA   \n",
       "2  1972  Sheldon Karlin       USA  02:27:52      Nina Kuscsik       USA   \n",
       "3  1973     Tom Fleming       USA  02:21:55      Nina Kuscsik       USA   \n",
       "4  1974  Norbert Sander       USA  02:26:31  Kathrine Switzer       USA   \n",
       "\n",
       "     f_time  marathon  \n",
       "0       NaN  New York  \n",
       "1  02:55:22  New York  \n",
       "2  03:08:41  New York  \n",
       "3  02:57:08  New York  \n",
       "4  03:07:29  New York  "
      ]
     },
     "execution_count": 88,
     "metadata": {},
     "output_type": "execute_result"
    }
   ],
   "source": [
    "wmm_marathons = pd.read_csv(\"All_winners_marathons_Doppelte_Gewinner.csv\")\n",
    "wmm_marathons.head()"
   ]
  },
  {
   "cell_type": "code",
   "execution_count": 89,
   "metadata": {},
   "outputs": [
    {
     "data": {
      "text/plain": [
       "0    1970\n",
       "1    1971\n",
       "2    1972\n",
       "3    1973\n",
       "4    1974\n",
       "Name: date, dtype: int64"
      ]
     },
     "execution_count": 89,
     "metadata": {},
     "output_type": "execute_result"
    }
   ],
   "source": [
    "wmm_marathons.date.head()"
   ]
  },
  {
   "cell_type": "code",
   "execution_count": 90,
   "metadata": {},
   "outputs": [
    {
     "data": {
      "text/html": [
       "<div>\n",
       "<style>\n",
       "    .dataframe thead tr:only-child th {\n",
       "        text-align: right;\n",
       "    }\n",
       "\n",
       "    .dataframe thead th {\n",
       "        text-align: left;\n",
       "    }\n",
       "\n",
       "    .dataframe tbody tr th {\n",
       "        vertical-align: top;\n",
       "    }\n",
       "</style>\n",
       "<table border=\"1\" class=\"dataframe\">\n",
       "  <thead>\n",
       "    <tr style=\"text-align: right;\">\n",
       "      <th></th>\n",
       "      <th>date</th>\n",
       "      <th>m_winner</th>\n",
       "      <th>m_country</th>\n",
       "      <th>m_time</th>\n",
       "      <th>f_winner</th>\n",
       "      <th>f_country</th>\n",
       "      <th>f_time</th>\n",
       "      <th>marathon</th>\n",
       "    </tr>\n",
       "  </thead>\n",
       "  <tbody>\n",
       "    <tr>\n",
       "      <th>0</th>\n",
       "      <td>1970</td>\n",
       "      <td>Gary Muhrcke</td>\n",
       "      <td>USA</td>\n",
       "      <td>02:31:39</td>\n",
       "      <td>NaN</td>\n",
       "      <td>NaN</td>\n",
       "      <td>NaN</td>\n",
       "      <td>New York</td>\n",
       "    </tr>\n",
       "    <tr>\n",
       "      <th>1</th>\n",
       "      <td>1971</td>\n",
       "      <td>Norm Higgins</td>\n",
       "      <td>USA</td>\n",
       "      <td>02:22:54</td>\n",
       "      <td>Beth Bonner</td>\n",
       "      <td>USA</td>\n",
       "      <td>02:55:22</td>\n",
       "      <td>New York</td>\n",
       "    </tr>\n",
       "    <tr>\n",
       "      <th>2</th>\n",
       "      <td>1972</td>\n",
       "      <td>Sheldon Karlin</td>\n",
       "      <td>USA</td>\n",
       "      <td>02:27:52</td>\n",
       "      <td>Nina Kuscsik</td>\n",
       "      <td>USA</td>\n",
       "      <td>03:08:41</td>\n",
       "      <td>New York</td>\n",
       "    </tr>\n",
       "    <tr>\n",
       "      <th>3</th>\n",
       "      <td>1973</td>\n",
       "      <td>Tom Fleming</td>\n",
       "      <td>USA</td>\n",
       "      <td>02:21:55</td>\n",
       "      <td>Nina Kuscsik</td>\n",
       "      <td>USA</td>\n",
       "      <td>02:57:08</td>\n",
       "      <td>New York</td>\n",
       "    </tr>\n",
       "    <tr>\n",
       "      <th>4</th>\n",
       "      <td>1974</td>\n",
       "      <td>Norbert Sander</td>\n",
       "      <td>USA</td>\n",
       "      <td>02:26:31</td>\n",
       "      <td>Kathrine Switzer</td>\n",
       "      <td>USA</td>\n",
       "      <td>03:07:29</td>\n",
       "      <td>New York</td>\n",
       "    </tr>\n",
       "  </tbody>\n",
       "</table>\n",
       "</div>"
      ],
      "text/plain": [
       "   date        m_winner m_country    m_time          f_winner f_country  \\\n",
       "0  1970    Gary Muhrcke       USA  02:31:39               NaN       NaN   \n",
       "1  1971    Norm Higgins       USA  02:22:54       Beth Bonner       USA   \n",
       "2  1972  Sheldon Karlin       USA  02:27:52      Nina Kuscsik       USA   \n",
       "3  1973     Tom Fleming       USA  02:21:55      Nina Kuscsik       USA   \n",
       "4  1974  Norbert Sander       USA  02:26:31  Kathrine Switzer       USA   \n",
       "\n",
       "     f_time  marathon  \n",
       "0       NaN  New York  \n",
       "1  02:55:22  New York  \n",
       "2  03:08:41  New York  \n",
       "3  02:57:08  New York  \n",
       "4  03:07:29  New York  "
      ]
     },
     "execution_count": 90,
     "metadata": {},
     "output_type": "execute_result"
    }
   ],
   "source": [
    "New_York = wmm_marathons[wmm_marathons['marathon'] == 'New York']\n",
    "New_York.head()"
   ]
  },
  {
   "cell_type": "code",
   "execution_count": 91,
   "metadata": {},
   "outputs": [
    {
     "data": {
      "text/plain": [
       "<matplotlib.axes._subplots.AxesSubplot at 0x10e758630>"
      ]
     },
     "execution_count": 91,
     "metadata": {},
     "output_type": "execute_result"
    },
    {
     "data": {
      "image/png": "[encoded data removed]",
      "text/plain": [
       "<matplotlib.figure.Figure at 0x10e728eb8>"
      ]
     },
     "metadata": {},
     "output_type": "display_data"
    }
   ],
   "source": [
    "#NEW YORK | Countries | Men – Women\n",
    "fig = plt.figure()\n",
    "#ax.yaxis.set_label_coords(labelx, 0.5)\n",
    "#ax2.yaxis.set_label_coords(labelx, 0.5)\n",
    "\n",
    "\n",
    "ax = fig.add_subplot(121) # hoch/runter\n",
    "ax2 = fig.add_subplot(122) # seitlich\n",
    "ax.set_xlim(0, 16)\n",
    "ax2.set_xlim(0, 16)\n",
    "New_York.groupby('m_country')['m_winner'].count().sort_values(ascending=True).plot(title='Men', color='#81D8D0', kind='barh', x='m_winner', ax=ax, y='m_country', figsize=(15,5))\n",
    "New_York.groupby('f_country')['f_winner'].count().sort_values(ascending=True).plot(title='Women', color='#5B9EFF' ,kind='barh', x='f_winner', ax=ax2, y='m_country', figsize=(15,5))"
   ]
  },
  {
   "cell_type": "code",
   "execution_count": 92,
   "metadata": {
    "scrolled": true
   },
   "outputs": [
    {
     "data": {
      "text/html": [
       "<div>\n",
       "<style>\n",
       "    .dataframe thead tr:only-child th {\n",
       "        text-align: right;\n",
       "    }\n",
       "\n",
       "    .dataframe thead th {\n",
       "        text-align: left;\n",
       "    }\n",
       "\n",
       "    .dataframe tbody tr th {\n",
       "        vertical-align: top;\n",
       "    }\n",
       "</style>\n",
       "<table border=\"1\" class=\"dataframe\">\n",
       "  <thead>\n",
       "    <tr style=\"text-align: right;\">\n",
       "      <th></th>\n",
       "      <th>date</th>\n",
       "      <th>m_winner</th>\n",
       "      <th>m_country</th>\n",
       "      <th>m_time</th>\n",
       "      <th>f_winner</th>\n",
       "      <th>f_country</th>\n",
       "      <th>f_time</th>\n",
       "      <th>marathon</th>\n",
       "    </tr>\n",
       "  </thead>\n",
       "  <tbody>\n",
       "    <tr>\n",
       "      <th>46</th>\n",
       "      <td>1897</td>\n",
       "      <td>John J. McDermott</td>\n",
       "      <td>USA</td>\n",
       "      <td>02:55:10</td>\n",
       "      <td>NaN</td>\n",
       "      <td>NaN</td>\n",
       "      <td>NaN</td>\n",
       "      <td>Boston</td>\n",
       "    </tr>\n",
       "    <tr>\n",
       "      <th>47</th>\n",
       "      <td>1898</td>\n",
       "      <td>Ronald MacDonald</td>\n",
       "      <td>CAN</td>\n",
       "      <td>02:42:00</td>\n",
       "      <td>NaN</td>\n",
       "      <td>NaN</td>\n",
       "      <td>NaN</td>\n",
       "      <td>Boston</td>\n",
       "    </tr>\n",
       "    <tr>\n",
       "      <th>48</th>\n",
       "      <td>1899</td>\n",
       "      <td>Lawrence Brignolia</td>\n",
       "      <td>USA</td>\n",
       "      <td>02:54:38</td>\n",
       "      <td>NaN</td>\n",
       "      <td>NaN</td>\n",
       "      <td>NaN</td>\n",
       "      <td>Boston</td>\n",
       "    </tr>\n",
       "    <tr>\n",
       "      <th>49</th>\n",
       "      <td>1900</td>\n",
       "      <td>Jack Caffery</td>\n",
       "      <td>CAN</td>\n",
       "      <td>02:39:44</td>\n",
       "      <td>NaN</td>\n",
       "      <td>NaN</td>\n",
       "      <td>NaN</td>\n",
       "      <td>Boston</td>\n",
       "    </tr>\n",
       "    <tr>\n",
       "      <th>50</th>\n",
       "      <td>1901</td>\n",
       "      <td>Jack Caffery</td>\n",
       "      <td>CAN</td>\n",
       "      <td>02:29:23</td>\n",
       "      <td>NaN</td>\n",
       "      <td>NaN</td>\n",
       "      <td>NaN</td>\n",
       "      <td>Boston</td>\n",
       "    </tr>\n",
       "  </tbody>\n",
       "</table>\n",
       "</div>"
      ],
      "text/plain": [
       "    date            m_winner m_country    m_time f_winner f_country f_time  \\\n",
       "46  1897   John J. McDermott       USA  02:55:10      NaN       NaN    NaN   \n",
       "47  1898    Ronald MacDonald       CAN  02:42:00      NaN       NaN    NaN   \n",
       "48  1899  Lawrence Brignolia       USA  02:54:38      NaN       NaN    NaN   \n",
       "49  1900        Jack Caffery       CAN  02:39:44      NaN       NaN    NaN   \n",
       "50  1901        Jack Caffery       CAN  02:29:23      NaN       NaN    NaN   \n",
       "\n",
       "   marathon  \n",
       "46   Boston  \n",
       "47   Boston  \n",
       "48   Boston  \n",
       "49   Boston  \n",
       "50   Boston  "
      ]
     },
     "execution_count": 92,
     "metadata": {},
     "output_type": "execute_result"
    }
   ],
   "source": [
    "Boston = wmm_marathons[wmm_marathons['marathon'] == 'Boston']\n",
    "Boston.head()"
   ]
  },
  {
   "cell_type": "code",
   "execution_count": 93,
   "metadata": {},
   "outputs": [
    {
     "data": {
      "text/plain": [
       "<matplotlib.axes._subplots.AxesSubplot at 0x10e9ec160>"
      ]
     },
     "execution_count": 93,
     "metadata": {},
     "output_type": "execute_result"
    },
    {
     "data": {
      "image/png": "[encoded data removed]",
      "text/plain": [
       "<matplotlib.figure.Figure at 0x10e9fe160>"
      ]
     },
     "metadata": {},
     "output_type": "display_data"
    }
   ],
   "source": [
    "#BOSTON | Countries | Men – Women\n",
    "fig = plt.figure()\n",
    "ax = fig.add_subplot(121) # hoch/runter\n",
    "ax2 = fig.add_subplot(122) # seitlich\n",
    "ax.set_xlim(0, 50)\n",
    "ax2.set_xlim(0, 16)\n",
    "Boston.groupby('m_country')['m_winner'].count().sort_values(ascending=True).plot(title='Men', color='#81D8D0', kind='barh', x='m_winner', ax=ax, y='m_country', figsize=(15,5))\n",
    "Boston.groupby('f_country')['f_winner'].count().sort_values(ascending=True).plot(title='Women', color='#5B9EFF' ,kind='barh', x='f_winner', ax=ax2, y='m_country', figsize=(15,5))"
   ]
  },
  {
   "cell_type": "code",
   "execution_count": 94,
   "metadata": {
    "scrolled": true
   },
   "outputs": [
    {
     "data": {
      "text/html": [
       "<div>\n",
       "<style>\n",
       "    .dataframe thead tr:only-child th {\n",
       "        text-align: right;\n",
       "    }\n",
       "\n",
       "    .dataframe thead th {\n",
       "        text-align: left;\n",
       "    }\n",
       "\n",
       "    .dataframe tbody tr th {\n",
       "        vertical-align: top;\n",
       "    }\n",
       "</style>\n",
       "<table border=\"1\" class=\"dataframe\">\n",
       "  <thead>\n",
       "    <tr style=\"text-align: right;\">\n",
       "      <th></th>\n",
       "      <th>date</th>\n",
       "      <th>m_winner</th>\n",
       "      <th>m_country</th>\n",
       "      <th>m_time</th>\n",
       "      <th>f_winner</th>\n",
       "      <th>f_country</th>\n",
       "      <th>f_time</th>\n",
       "      <th>marathon</th>\n",
       "    </tr>\n",
       "  </thead>\n",
       "  <tbody>\n",
       "    <tr>\n",
       "      <th>168</th>\n",
       "      <td>1974</td>\n",
       "      <td>Günter Hallas (GER)</td>\n",
       "      <td>GER</td>\n",
       "      <td>02:44:53</td>\n",
       "      <td>Jutta von Haase (GER)</td>\n",
       "      <td>GER</td>\n",
       "      <td>03:22:01</td>\n",
       "      <td>Berlin</td>\n",
       "    </tr>\n",
       "    <tr>\n",
       "      <th>169</th>\n",
       "      <td>1975</td>\n",
       "      <td>Ralf Bochröder (GER)</td>\n",
       "      <td>GER</td>\n",
       "      <td>02:47:08</td>\n",
       "      <td>Kristin Bochröder (GER)</td>\n",
       "      <td>GER</td>\n",
       "      <td>03:59:15</td>\n",
       "      <td>Berlin</td>\n",
       "    </tr>\n",
       "    <tr>\n",
       "      <th>170</th>\n",
       "      <td>1976</td>\n",
       "      <td>Ingo Sensburg (GER)</td>\n",
       "      <td>GER</td>\n",
       "      <td>02:23:08</td>\n",
       "      <td>Ursula Blaschke (GER)</td>\n",
       "      <td>GER</td>\n",
       "      <td>03:05:19</td>\n",
       "      <td>Berlin</td>\n",
       "    </tr>\n",
       "    <tr>\n",
       "      <th>171</th>\n",
       "      <td>1977</td>\n",
       "      <td>Günter Mielke (GER)</td>\n",
       "      <td>GER</td>\n",
       "      <td>02:15:19</td>\n",
       "      <td>Christa Vahlensieck (GER)</td>\n",
       "      <td>GER</td>\n",
       "      <td>02:34:48</td>\n",
       "      <td>Berlin</td>\n",
       "    </tr>\n",
       "    <tr>\n",
       "      <th>172</th>\n",
       "      <td>1978</td>\n",
       "      <td>Michael Spöttel (GER)</td>\n",
       "      <td>GER</td>\n",
       "      <td>02:20:03</td>\n",
       "      <td>Ursula Blaschke (2. Sieg)</td>\n",
       "      <td>GER</td>\n",
       "      <td>02:57:09</td>\n",
       "      <td>Berlin</td>\n",
       "    </tr>\n",
       "  </tbody>\n",
       "</table>\n",
       "</div>"
      ],
      "text/plain": [
       "     date               m_winner m_country    m_time  \\\n",
       "168  1974    Günter Hallas (GER)       GER  02:44:53   \n",
       "169  1975   Ralf Bochröder (GER)       GER  02:47:08   \n",
       "170  1976    Ingo Sensburg (GER)       GER  02:23:08   \n",
       "171  1977    Günter Mielke (GER)       GER  02:15:19   \n",
       "172  1978  Michael Spöttel (GER)       GER  02:20:03   \n",
       "\n",
       "                      f_winner f_country    f_time marathon  \n",
       "168      Jutta von Haase (GER)       GER  03:22:01   Berlin  \n",
       "169    Kristin Bochröder (GER)       GER  03:59:15   Berlin  \n",
       "170      Ursula Blaschke (GER)       GER  03:05:19   Berlin  \n",
       "171  Christa Vahlensieck (GER)       GER  02:34:48   Berlin  \n",
       "172  Ursula Blaschke (2. Sieg)       GER  02:57:09   Berlin  "
      ]
     },
     "execution_count": 94,
     "metadata": {},
     "output_type": "execute_result"
    }
   ],
   "source": [
    "Berlin = wmm_marathons[wmm_marathons['marathon'] == 'Berlin']\n",
    "Berlin.head()"
   ]
  },
  {
   "cell_type": "code",
   "execution_count": 95,
   "metadata": {},
   "outputs": [
    {
     "data": {
      "text/plain": [
       "<matplotlib.axes._subplots.AxesSubplot at 0x10ec95470>"
      ]
     },
     "execution_count": 95,
     "metadata": {},
     "output_type": "execute_result"
    },
    {
     "data": {
      "image/png": "[encoded data removed]",
      "text/plain": [
       "<matplotlib.figure.Figure at 0x10ec60d30>"
      ]
     },
     "metadata": {},
     "output_type": "display_data"
    }
   ],
   "source": [
    "#BERLIN | Countries | Men – Women\n",
    "fig = plt.figure()\n",
    "ax = fig.add_subplot(121) # hoch/runter\n",
    "ax2 = fig.add_subplot(122) # seitlich\n",
    "ax.set_xlim(0, 16)\n",
    "ax2.set_xlim(0, 16)\n",
    "Berlin.groupby('m_country')['m_winner'].count().sort_values(ascending=True).plot(title='Men', color='#81D8D0', kind='barh', x='m_winner', ax=ax, y='m_country', figsize=(15,5))\n",
    "Berlin.groupby('f_country')['f_winner'].count().sort_values(ascending=True).plot(title='Women', color='#5B9EFF' ,kind='barh', x='f_winner', ax=ax2, y='m_country', figsize=(15,5))"
   ]
  },
  {
   "cell_type": "code",
   "execution_count": 96,
   "metadata": {},
   "outputs": [
    {
     "data": {
      "text/html": [
       "<div>\n",
       "<style>\n",
       "    .dataframe thead tr:only-child th {\n",
       "        text-align: right;\n",
       "    }\n",
       "\n",
       "    .dataframe thead th {\n",
       "        text-align: left;\n",
       "    }\n",
       "\n",
       "    .dataframe tbody tr th {\n",
       "        vertical-align: top;\n",
       "    }\n",
       "</style>\n",
       "<table border=\"1\" class=\"dataframe\">\n",
       "  <thead>\n",
       "    <tr style=\"text-align: right;\">\n",
       "      <th></th>\n",
       "      <th>date</th>\n",
       "      <th>m_winner</th>\n",
       "      <th>m_country</th>\n",
       "      <th>m_time</th>\n",
       "      <th>f_winner</th>\n",
       "      <th>f_country</th>\n",
       "      <th>f_time</th>\n",
       "      <th>marathon</th>\n",
       "    </tr>\n",
       "  </thead>\n",
       "  <tbody>\n",
       "    <tr>\n",
       "      <th>211</th>\n",
       "      <td>1977</td>\n",
       "      <td>Dan Cloeter (USA)</td>\n",
       "      <td>USA</td>\n",
       "      <td>02:17:52</td>\n",
       "      <td>Dorothy Doolittle (USA)</td>\n",
       "      <td>USA</td>\n",
       "      <td>02:50:47</td>\n",
       "      <td>Chicago</td>\n",
       "    </tr>\n",
       "    <tr>\n",
       "      <th>212</th>\n",
       "      <td>1978</td>\n",
       "      <td>Mark Stanforth (USA)</td>\n",
       "      <td>USA</td>\n",
       "      <td>02:19:20</td>\n",
       "      <td>Lynae Larson (USA)</td>\n",
       "      <td>USA</td>\n",
       "      <td>02:59:25</td>\n",
       "      <td>Chicago</td>\n",
       "    </tr>\n",
       "    <tr>\n",
       "      <th>213</th>\n",
       "      <td>1979</td>\n",
       "      <td>Dan Cloeter (2. Sieg)</td>\n",
       "      <td>USA</td>\n",
       "      <td>02:23:20</td>\n",
       "      <td>Laura Michalek (USA)</td>\n",
       "      <td>USA</td>\n",
       "      <td>03:15:45</td>\n",
       "      <td>Chicago</td>\n",
       "    </tr>\n",
       "    <tr>\n",
       "      <th>214</th>\n",
       "      <td>1980</td>\n",
       "      <td>Frank Richardson (USA)</td>\n",
       "      <td>USA</td>\n",
       "      <td>02:14:04</td>\n",
       "      <td>Sue Peterson (USA)</td>\n",
       "      <td>USA</td>\n",
       "      <td>02:45:03</td>\n",
       "      <td>Chicago</td>\n",
       "    </tr>\n",
       "    <tr>\n",
       "      <th>215</th>\n",
       "      <td>1981</td>\n",
       "      <td>Phil Coppess (USA)</td>\n",
       "      <td>USA</td>\n",
       "      <td>02:16:13</td>\n",
       "      <td>Tina Gandy (USA)</td>\n",
       "      <td>USA</td>\n",
       "      <td>02:49:39</td>\n",
       "      <td>Chicago</td>\n",
       "    </tr>\n",
       "  </tbody>\n",
       "</table>\n",
       "</div>"
      ],
      "text/plain": [
       "     date                m_winner m_country    m_time  \\\n",
       "211  1977       Dan Cloeter (USA)       USA  02:17:52   \n",
       "212  1978    Mark Stanforth (USA)       USA  02:19:20   \n",
       "213  1979   Dan Cloeter (2. Sieg)       USA  02:23:20   \n",
       "214  1980  Frank Richardson (USA)       USA  02:14:04   \n",
       "215  1981      Phil Coppess (USA)       USA  02:16:13   \n",
       "\n",
       "                    f_winner f_country    f_time marathon  \n",
       "211  Dorothy Doolittle (USA)       USA  02:50:47  Chicago  \n",
       "212       Lynae Larson (USA)       USA  02:59:25  Chicago  \n",
       "213     Laura Michalek (USA)       USA  03:15:45  Chicago  \n",
       "214       Sue Peterson (USA)       USA  02:45:03  Chicago  \n",
       "215         Tina Gandy (USA)       USA  02:49:39  Chicago  "
      ]
     },
     "execution_count": 96,
     "metadata": {},
     "output_type": "execute_result"
    }
   ],
   "source": [
    "Chicago = wmm_marathons[wmm_marathons['marathon'] == 'Chicago']\n",
    "Chicago.head()"
   ]
  },
  {
   "cell_type": "code",
   "execution_count": 97,
   "metadata": {},
   "outputs": [
    {
     "data": {
      "text/plain": [
       "<matplotlib.axes._subplots.AxesSubplot at 0x10f01a7b8>"
      ]
     },
     "execution_count": 97,
     "metadata": {},
     "output_type": "execute_result"
    },
    {
     "data": {
      "image/png": "[encoded data removed]",
      "text/plain": [
       "<matplotlib.figure.Figure at 0x10ef5ab38>"
      ]
     },
     "metadata": {},
     "output_type": "display_data"
    }
   ],
   "source": [
    "#CHICAGO | Countries | Men – Women\n",
    "fig = plt.figure()\n",
    "ax = fig.add_subplot(121) # hoch/runter\n",
    "ax2 = fig.add_subplot(122) # seitlich\n",
    "ax.set_xlim(0, 16)\n",
    "ax2.set_xlim(0, 16)\n",
    "Chicago.groupby('m_country')['m_winner'].count().sort_values(ascending=True).plot(title='Men', color='#81D8D0', kind='barh', x='m_winner', ax=ax, y='m_country', figsize=(15,5))\n",
    "Chicago.groupby('f_country')['f_winner'].count().sort_values(ascending=True).plot(title='Women', color='#5B9EFF' ,kind='barh', x='f_winner', ax=ax2, y='m_country', figsize=(15,5))"
   ]
  },
  {
   "cell_type": "code",
   "execution_count": 98,
   "metadata": {},
   "outputs": [
    {
     "data": {
      "text/html": [
       "<div>\n",
       "<style>\n",
       "    .dataframe thead tr:only-child th {\n",
       "        text-align: right;\n",
       "    }\n",
       "\n",
       "    .dataframe thead th {\n",
       "        text-align: left;\n",
       "    }\n",
       "\n",
       "    .dataframe tbody tr th {\n",
       "        vertical-align: top;\n",
       "    }\n",
       "</style>\n",
       "<table border=\"1\" class=\"dataframe\">\n",
       "  <thead>\n",
       "    <tr style=\"text-align: right;\">\n",
       "      <th></th>\n",
       "      <th>date</th>\n",
       "      <th>m_winner</th>\n",
       "      <th>m_country</th>\n",
       "      <th>m_time</th>\n",
       "      <th>f_winner</th>\n",
       "      <th>f_country</th>\n",
       "      <th>f_time</th>\n",
       "      <th>marathon</th>\n",
       "    </tr>\n",
       "  </thead>\n",
       "  <tbody>\n",
       "    <tr>\n",
       "      <th>251</th>\n",
       "      <td>1981</td>\n",
       "      <td>\\nInge Simonsen</td>\n",
       "      <td>NOR</td>\n",
       "      <td>02:11:48</td>\n",
       "      <td>Joyce Smith (GBR)</td>\n",
       "      <td>GBR</td>\n",
       "      <td>02:29:57</td>\n",
       "      <td>London</td>\n",
       "    </tr>\n",
       "    <tr>\n",
       "      <th>252</th>\n",
       "      <td>1982</td>\n",
       "      <td>Hugh Jones (GBR)</td>\n",
       "      <td>GBR</td>\n",
       "      <td>02:09:24</td>\n",
       "      <td>Joyce Smith -2-</td>\n",
       "      <td>GBR</td>\n",
       "      <td>02:29:43</td>\n",
       "      <td>London</td>\n",
       "    </tr>\n",
       "    <tr>\n",
       "      <th>253</th>\n",
       "      <td>1983</td>\n",
       "      <td>Mike Gratton (GBR)</td>\n",
       "      <td>GBR</td>\n",
       "      <td>02:09:43</td>\n",
       "      <td>Grete Waitz (NOR)</td>\n",
       "      <td>NOR</td>\n",
       "      <td>02:25:29</td>\n",
       "      <td>London</td>\n",
       "    </tr>\n",
       "    <tr>\n",
       "      <th>254</th>\n",
       "      <td>1984</td>\n",
       "      <td>Charlie Spedding (GBR)</td>\n",
       "      <td>GBR</td>\n",
       "      <td>02:09:57</td>\n",
       "      <td>Ingrid Kristiansen (NOR)</td>\n",
       "      <td>NOR</td>\n",
       "      <td>02:24:26</td>\n",
       "      <td>London</td>\n",
       "    </tr>\n",
       "    <tr>\n",
       "      <th>255</th>\n",
       "      <td>1985</td>\n",
       "      <td>Steve Jones (GBR)</td>\n",
       "      <td>GBR</td>\n",
       "      <td>02:08:16</td>\n",
       "      <td>Ingrid Kristiansen -2-</td>\n",
       "      <td>NOR</td>\n",
       "      <td>02:21:06</td>\n",
       "      <td>London</td>\n",
       "    </tr>\n",
       "  </tbody>\n",
       "</table>\n",
       "</div>"
      ],
      "text/plain": [
       "     date                m_winner m_country    m_time  \\\n",
       "251  1981         \\nInge Simonsen       NOR  02:11:48   \n",
       "252  1982        Hugh Jones (GBR)       GBR  02:09:24   \n",
       "253  1983      Mike Gratton (GBR)       GBR  02:09:43   \n",
       "254  1984  Charlie Spedding (GBR)       GBR  02:09:57   \n",
       "255  1985       Steve Jones (GBR)       GBR  02:08:16   \n",
       "\n",
       "                     f_winner f_country    f_time marathon  \n",
       "251         Joyce Smith (GBR)       GBR  02:29:57   London  \n",
       "252           Joyce Smith -2-       GBR  02:29:43   London  \n",
       "253         Grete Waitz (NOR)       NOR  02:25:29   London  \n",
       "254  Ingrid Kristiansen (NOR)       NOR  02:24:26   London  \n",
       "255    Ingrid Kristiansen -2-       NOR  02:21:06   London  "
      ]
     },
     "execution_count": 98,
     "metadata": {},
     "output_type": "execute_result"
    }
   ],
   "source": [
    "London = wmm_marathons[wmm_marathons['marathon'] == 'London']\n",
    "London.head()"
   ]
  },
  {
   "cell_type": "code",
   "execution_count": 99,
   "metadata": {},
   "outputs": [
    {
     "data": {
      "text/plain": [
       "KEN    13\n",
       "GBR     8\n",
       "ETH     3\n",
       "POR     3\n",
       "JPN     2\n",
       "MAR     2\n",
       "MEX     1\n",
       "DEN     1\n",
       "NOR     1\n",
       "USA     1\n",
       "ESP     1\n",
       "RUS     1\n",
       "Name: m_country, dtype: int64"
      ]
     },
     "execution_count": 99,
     "metadata": {},
     "output_type": "execute_result"
    }
   ],
   "source": [
    "London.m_country.value_counts()"
   ]
  },
  {
   "cell_type": "code",
   "execution_count": 100,
   "metadata": {},
   "outputs": [
    {
     "name": "stderr",
     "output_type": "stream",
     "text": [
      "/usr/local/lib/python3.6/site-packages/ipykernel_launcher.py:1: SettingWithCopyWarning: \n",
      "A value is trying to be set on a copy of a slice from a DataFrame.\n",
      "Try using .loc[row_indexer,col_indexer] = value instead\n",
      "\n",
      "See the caveats in the documentation: http://pandas.pydata.org/pandas-docs/stable/indexing.html#indexing-view-versus-copy\n",
      "  \"\"\"Entry point for launching an IPython kernel.\n"
     ]
    },
    {
     "data": {
      "text/plain": [
       "<matplotlib.axes._subplots.AxesSubplot at 0x10cd2ec88>"
      ]
     },
     "execution_count": 100,
     "metadata": {},
     "output_type": "execute_result"
    },
    {
     "data": {
      "image/png": "[encoded data removed]",
      "text/plain": [
       "<matplotlib.figure.Figure at 0x10c72b358>"
      ]
     },
     "metadata": {},
     "output_type": "display_data"
    }
   ],
   "source": [
    "London['nothing'] = 4\n",
    "London.set_index(\"date\").plot(color=\"black\", kind=\"bar\", figsize=(20,4))\n",
    "\n",
    "\n"
   ]
  },
  {
   "cell_type": "code",
   "execution_count": 103,
   "metadata": {},
   "outputs": [],
   "source": [
    "colormap = {\n",
    "    'KEN': '#81D8D0',\n",
    "    'USA': 'red'\n",
    "}"
   ]
  },
  {
   "cell_type": "code",
   "execution_count": 104,
   "metadata": {},
   "outputs": [
    {
     "data": {
      "text/plain": [
       "{'KEN': '#81D8D0', 'USA': 'red'}"
      ]
     },
     "execution_count": 104,
     "metadata": {},
     "output_type": "execute_result"
    }
   ],
   "source": [
    "colormap"
   ]
  },
  {
   "cell_type": "code",
   "execution_count": 106,
   "metadata": {},
   "outputs": [
    {
     "data": {
      "text/plain": [
       "251    NOR\n",
       "252    GBR\n",
       "253    GBR\n",
       "254    GBR\n",
       "255    GBR\n",
       "Name: m_country, dtype: object"
      ]
     },
     "execution_count": 106,
     "metadata": {},
     "output_type": "execute_result"
    }
   ],
   "source": [
    "London.m_country.head()"
   ]
  },
  {
   "cell_type": "code",
   "execution_count": 114,
   "metadata": {},
   "outputs": [
    {
     "ename": "KeyError",
     "evalue": "'NOR'",
     "output_type": "error",
     "traceback": [
      "\u001b[0;31m---------------------------------------------------------------------------\u001b[0m",
      "\u001b[0;31mKeyError\u001b[0m                                  Traceback (most recent call last)",
      "\u001b[0;32m<ipython-input-114-e21a959fa417>\u001b[0m in \u001b[0;36m<module>\u001b[0;34m()\u001b[0m\n\u001b[1;32m      4\u001b[0m }\n\u001b[1;32m      5\u001b[0m \u001b[0;34m\u001b[0m\u001b[0m\n\u001b[0;32m----> 6\u001b[0;31m \u001b[0mcolors\u001b[0m \u001b[0;34m=\u001b[0m \u001b[0mLondon\u001b[0m\u001b[0;34m.\u001b[0m\u001b[0mm_country\u001b[0m\u001b[0;34m.\u001b[0m\u001b[0mapply\u001b[0m\u001b[0;34m(\u001b[0m\u001b[0;32mlambda\u001b[0m \u001b[0mnothing\u001b[0m\u001b[0;34m:\u001b[0m \u001b[0mcolormap\u001b[0m\u001b[0;34m[\u001b[0m\u001b[0mnothing\u001b[0m\u001b[0;34m]\u001b[0m\u001b[0;34m)\u001b[0m\u001b[0;34m\u001b[0m\u001b[0m\n\u001b[0m\u001b[1;32m      7\u001b[0m \u001b[0mcolors\u001b[0m\u001b[0;34m\u001b[0m\u001b[0m\n",
      "\u001b[0;32m/usr/local/lib/python3.6/site-packages/pandas/core/series.py\u001b[0m in \u001b[0;36mapply\u001b[0;34m(self, func, convert_dtype, args, **kwds)\u001b[0m\n\u001b[1;32m   2353\u001b[0m             \u001b[0;32melse\u001b[0m\u001b[0;34m:\u001b[0m\u001b[0;34m\u001b[0m\u001b[0m\n\u001b[1;32m   2354\u001b[0m                 \u001b[0mvalues\u001b[0m \u001b[0;34m=\u001b[0m \u001b[0mself\u001b[0m\u001b[0;34m.\u001b[0m\u001b[0masobject\u001b[0m\u001b[0;34m\u001b[0m\u001b[0m\n\u001b[0;32m-> 2355\u001b[0;31m                 \u001b[0mmapped\u001b[0m \u001b[0;34m=\u001b[0m \u001b[0mlib\u001b[0m\u001b[0;34m.\u001b[0m\u001b[0mmap_infer\u001b[0m\u001b[0;34m(\u001b[0m\u001b[0mvalues\u001b[0m\u001b[0;34m,\u001b[0m \u001b[0mf\u001b[0m\u001b[0;34m,\u001b[0m \u001b[0mconvert\u001b[0m\u001b[0;34m=\u001b[0m\u001b[0mconvert_dtype\u001b[0m\u001b[0;34m)\u001b[0m\u001b[0;34m\u001b[0m\u001b[0m\n\u001b[0m\u001b[1;32m   2356\u001b[0m \u001b[0;34m\u001b[0m\u001b[0m\n\u001b[1;32m   2357\u001b[0m         \u001b[0;32mif\u001b[0m \u001b[0mlen\u001b[0m\u001b[0;34m(\u001b[0m\u001b[0mmapped\u001b[0m\u001b[0;34m)\u001b[0m \u001b[0;32mand\u001b[0m \u001b[0misinstance\u001b[0m\u001b[0;34m(\u001b[0m\u001b[0mmapped\u001b[0m\u001b[0;34m[\u001b[0m\u001b[0;36m0\u001b[0m\u001b[0;34m]\u001b[0m\u001b[0;34m,\u001b[0m \u001b[0mSeries\u001b[0m\u001b[0;34m)\u001b[0m\u001b[0;34m:\u001b[0m\u001b[0;34m\u001b[0m\u001b[0m\n",
      "\u001b[0;32mpandas/_libs/src/inference.pyx\u001b[0m in \u001b[0;36mpandas._libs.lib.map_infer (pandas/_libs/lib.c:66645)\u001b[0;34m()\u001b[0m\n",
      "\u001b[0;32m<ipython-input-114-e21a959fa417>\u001b[0m in \u001b[0;36m<lambda>\u001b[0;34m(nothing)\u001b[0m\n\u001b[1;32m      4\u001b[0m }\n\u001b[1;32m      5\u001b[0m \u001b[0;34m\u001b[0m\u001b[0m\n\u001b[0;32m----> 6\u001b[0;31m \u001b[0mcolors\u001b[0m \u001b[0;34m=\u001b[0m \u001b[0mLondon\u001b[0m\u001b[0;34m.\u001b[0m\u001b[0mm_country\u001b[0m\u001b[0;34m.\u001b[0m\u001b[0mapply\u001b[0m\u001b[0;34m(\u001b[0m\u001b[0;32mlambda\u001b[0m \u001b[0mnothing\u001b[0m\u001b[0;34m:\u001b[0m \u001b[0mcolormap\u001b[0m\u001b[0;34m[\u001b[0m\u001b[0mnothing\u001b[0m\u001b[0;34m]\u001b[0m\u001b[0;34m)\u001b[0m\u001b[0;34m\u001b[0m\u001b[0m\n\u001b[0m\u001b[1;32m      7\u001b[0m \u001b[0mcolors\u001b[0m\u001b[0;34m\u001b[0m\u001b[0m\n",
      "\u001b[0;31mKeyError\u001b[0m: 'NOR'"
     ]
    }
   ],
   "source": [
    "colormap = {\n",
    "    'KEN': '#81D8D0',\n",
    "    'USA': 'red'\n",
    "}\n",
    "\n",
    "colors = London.m_country.apply(lambda m_countryname: colormap[m_countryname])\n",
    "colors"
   ]
  },
  {
   "cell_type": "code",
   "execution_count": null,
   "metadata": {
    "collapsed": true
   },
   "outputs": [],
   "source": [
    "colormap = {\n",
    "    'KEN': '#81D8D0',\n",
    "    'USA': 'red'\n",
    "}\n",
    "\n",
    "colors = London.m_country.apply(lambda m_countryname: colormap[m_countryname])\n",
    "colors\n",
    "\n",
    "ax = London.plot(y='Nothing', kind='barh', x='date', color=[colors], legend=False)\n",
    "ax.set_title(\"Countrycolors\")"
   ]
  },
  {
   "cell_type": "code",
   "execution_count": null,
   "metadata": {},
   "outputs": [],
   "source": []
  },
  {
   "cell_type": "code",
   "execution_count": null,
   "metadata": {
    "collapsed": true
   },
   "outputs": [],
   "source": []
  },
  {
   "cell_type": "code",
   "execution_count": null,
   "metadata": {},
   "outputs": [],
   "source": []
  },
  {
   "cell_type": "code",
   "execution_count": null,
   "metadata": {},
   "outputs": [],
   "source": []
  },
  {
   "cell_type": "code",
   "execution_count": null,
   "metadata": {},
   "outputs": [],
   "source": [
    "#LONDON | Countries | Men – Women\n",
    "fig = plt.figure()\n",
    "ax = fig.add_subplot(121) # hoch/runter\n",
    "ax2 = fig.add_subplot(122) # seitlich\n",
    "London.groupby('m_country')['m_winner'].count().sort_values(ascending=True).plot(title='Men', color='#81D8D0', kind='barh', x='m_winner', ax=ax, y='m_country', figsize=(15,5))\n",
    "London.groupby('f_country')['f_winner'].count().sort_values(ascending=True).plot(title='Women', color='#5B9EFF' ,kind='barh', x='f_winner', ax=ax2, y='m_country', figsize=(15,5))"
   ]
  },
  {
   "cell_type": "code",
   "execution_count": null,
   "metadata": {},
   "outputs": [],
   "source": [
    "Tokio = wmm_marathons[wmm_marathons['marathon'] == 'Tokio']\n",
    "Tokio.head()"
   ]
  },
  {
   "cell_type": "code",
   "execution_count": null,
   "metadata": {
    "scrolled": true
   },
   "outputs": [],
   "source": [
    "#TOKIO | Countries | Men – Women\n",
    "fig = plt.figure()\n",
    "ax = fig.add_subplot(121) # hoch/runter\n",
    "ax2 = fig.add_subplot(122) # seitlich\n",
    "Tokio.groupby('m_country')['m_winner'].count().sort_values(ascending=True).plot(title='Men', color='#81D8D0', kind='barh', x='m_winner', ax=ax, y='m_country', figsize=(15,5))\n",
    "Tokio.groupby('f_country')['f_winner'].count().sort_values(ascending=True).plot(title='Women', color='#5B9EFF' ,kind='barh', x='f_winner', ax=ax2, y='m_country', figsize=(15,5))"
   ]
  },
  {
   "cell_type": "code",
   "execution_count": null,
   "metadata": {},
   "outputs": [],
   "source": [
    "wmm_marathons.head()"
   ]
  },
  {
   "cell_type": "code",
   "execution_count": null,
   "metadata": {},
   "outputs": [],
   "source": [
    "#ALL MARATHONS together\n",
    "fig = plt.figure()\n",
    "ax = fig.add_subplot(121) # hoch/runter\n",
    "ax2 = fig.add_subplot(122) # seitlich\n",
    "wmm_marathons.groupby('m_country')['m_country'].count().sort_values(ascending=True).plot(kind='barh', ax=ax, color='#81D8D0',figsize=(16,7))\n",
    "wmm_marathons.groupby('f_country')['f_country'].count().sort_values(ascending=True).plot(kind='barh', ax=ax2, color='#5B9EFF',figsize=(16,7))"
   ]
  },
  {
   "cell_type": "code",
   "execution_count": null,
   "metadata": {},
   "outputs": [],
   "source": [
    "#NEW YORK | Countries | Men – Women\n",
    "fig = plt.figure()\n",
    "ax = fig.add_subplot(121) # hoch/runter\n",
    "ax2 = fig.add_subplot(122) # seitlich\n",
    "New_York.groupby('m_country')['m_winner'].count().sort_values(ascending=True).plot(title='Men', color='#81D8D0', kind='barh', x='m_winner', ax=ax, y='m_country', figsize=(15,5))\n",
    "New_York.groupby('f_country')['f_winner'].count().sort_values(ascending=True).plot(title='Women', color='#5B9EFF' ,kind='barh', x='f_winner', ax=ax2, y='m_country', figsize=(15,5))"
   ]
  },
  {
   "cell_type": "code",
   "execution_count": null,
   "metadata": {
    "collapsed": true
   },
   "outputs": [],
   "source": [
    "New_York.groupby('m_country')['m_winner'].count().sort_values(ascending=True).plot(title='Men', color='#81D8D0', kind='barh', x='m_winner', ax=ax, y='m_country', figsize=(15,5))\n",
    "#New_York['m_country'].plot(color='#81D8D0', kind='barh', figsize=(18,15))\n",
    "#df_marathon_ny['m_starter'].plot(color='#81D8D0', ax=ax, position=0, kind='barh', figsize=(18,15), label='men starter')\n"
   ]
  },
  {
   "cell_type": "code",
   "execution_count": null,
   "metadata": {},
   "outputs": [],
   "source": [
    "NY_m_country = New_York['m_country']\n",
    "NY_m_country.head()"
   ]
  },
  {
   "cell_type": "code",
   "execution_count": null,
   "metadata": {
    "collapsed": true
   },
   "outputs": [],
   "source": [
    "colormap = {\n",
    "    'KEN': '#66c2a5'\n",
    "}\n",
    "\n",
    "colors = df.author.apply(lambda authorname: colormap['KEN'])"
   ]
  },
  {
   "cell_type": "code",
   "execution_count": null,
   "metadata": {
    "collapsed": true
   },
   "outputs": [],
   "source": [
    "import matplotlib.pyplot as plt\n",
    "\n",
    "#mach einen dictionary mit Kolonnen, die den wert haben als schlüssel für farbe\n",
    "colormap = {\n",
    "    'KEN': '#030100',\n",
    "}\n",
    "\n",
    "#benutze .apply um die liste auf farben zu konvertieren. \n",
    "#.apply ---> mach etwas für jede einzelne kolonne\n",
    "\n",
    "colors = df.author.apply(lambda authorname: colormap['Jane Austen'])\n",
    "\n",
    "#df.author = gib mir nur die autoren kolonne\n",
    "\n",
    "ax = results.plot(y='she', kind='barh', x='filename', color=[color], legend=False)\n",
    "ax.set_title(\"JRR Tolkien is a man's man\")\n",
    "                                                             \n",
    "ax = results.plot(y='she', kind='barh', x='filename', color=[[red, blue]], legend=False)\n",
    "ax.set_title(\"JRR Tolkien is a man's man\")"
   ]
  },
  {
   "cell_type": "code",
   "execution_count": null,
   "metadata": {
    "collapsed": true
   },
   "outputs": [],
   "source": []
  }
 ],
 "metadata": {
  "kernelspec": {
   "display_name": "Python 3",
   "language": "python",
   "name": "python3"
  },
  "language_info": {
   "codemirror_mode": {
    "name": "ipython",
    "version": 3
   },
   "file_extension": ".py",
   "mimetype": "text/x-python",
   "name": "python",
   "nbconvert_exporter": "python",
   "pygments_lexer": "ipython3",
   "version": "3.6.1"
  }
 },
 "nbformat": 4,
 "nbformat_minor": 2
}
