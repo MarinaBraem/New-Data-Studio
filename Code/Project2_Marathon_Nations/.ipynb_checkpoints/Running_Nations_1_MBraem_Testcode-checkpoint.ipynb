{
 "cells": [
  {
   "cell_type": "code",
   "execution_count": 9,
   "metadata": {
    "collapsed": true
   },
   "outputs": [],
   "source": [
    "%matplotlib inline\n",
    "import pandas as pd\n",
    "import geopandas as gpd\n",
    "from shapely.geometry import Point\n",
    "import matplotlib.pyplot as plt\n",
    "import numpy as np\n",
    "\n",
    "import matplotlib\n",
    "matplotlib.rcParams['pdf.fonttype'] = 42\n",
    "import matplotlib.pyplot as pyplot"
   ]
  },
  {
   "cell_type": "code",
   "execution_count": 10,
   "metadata": {
    "collapsed": true
   },
   "outputs": [],
   "source": [
    "import matplotlib\n",
    "matplotlib.style.use('ggplot')"
   ]
  },
  {
   "cell_type": "code",
   "execution_count": 11,
   "metadata": {},
   "outputs": [
    {
     "data": {
      "text/html": [
       "<div>\n",
       "<style>\n",
       "    .dataframe thead tr:only-child th {\n",
       "        text-align: right;\n",
       "    }\n",
       "\n",
       "    .dataframe thead th {\n",
       "        text-align: left;\n",
       "    }\n",
       "\n",
       "    .dataframe tbody tr th {\n",
       "        vertical-align: top;\n",
       "    }\n",
       "</style>\n",
       "<table border=\"1\" class=\"dataframe\">\n",
       "  <thead>\n",
       "    <tr style=\"text-align: right;\">\n",
       "      <th></th>\n",
       "      <th>date</th>\n",
       "      <th>m_winner</th>\n",
       "      <th>m_country</th>\n",
       "      <th>m_time</th>\n",
       "      <th>f_winner</th>\n",
       "      <th>f_country</th>\n",
       "      <th>f_time</th>\n",
       "      <th>marathon</th>\n",
       "    </tr>\n",
       "  </thead>\n",
       "  <tbody>\n",
       "    <tr>\n",
       "      <th>0</th>\n",
       "      <td>1970</td>\n",
       "      <td>Gary Muhrcke</td>\n",
       "      <td>USA</td>\n",
       "      <td>02:31:39</td>\n",
       "      <td>NaN</td>\n",
       "      <td>NaN</td>\n",
       "      <td>NaN</td>\n",
       "      <td>New York</td>\n",
       "    </tr>\n",
       "    <tr>\n",
       "      <th>1</th>\n",
       "      <td>1971</td>\n",
       "      <td>Norm Higgins</td>\n",
       "      <td>USA</td>\n",
       "      <td>02:22:54</td>\n",
       "      <td>Beth Bonner</td>\n",
       "      <td>USA</td>\n",
       "      <td>02:55:22</td>\n",
       "      <td>New York</td>\n",
       "    </tr>\n",
       "    <tr>\n",
       "      <th>2</th>\n",
       "      <td>1972</td>\n",
       "      <td>Sheldon Karlin</td>\n",
       "      <td>USA</td>\n",
       "      <td>02:27:52</td>\n",
       "      <td>Nina Kuscsik</td>\n",
       "      <td>USA</td>\n",
       "      <td>03:08:41</td>\n",
       "      <td>New York</td>\n",
       "    </tr>\n",
       "    <tr>\n",
       "      <th>3</th>\n",
       "      <td>1973</td>\n",
       "      <td>Tom Fleming</td>\n",
       "      <td>USA</td>\n",
       "      <td>02:21:55</td>\n",
       "      <td>Nina Kuscsik</td>\n",
       "      <td>USA</td>\n",
       "      <td>02:57:08</td>\n",
       "      <td>New York</td>\n",
       "    </tr>\n",
       "    <tr>\n",
       "      <th>4</th>\n",
       "      <td>1974</td>\n",
       "      <td>Norbert Sander</td>\n",
       "      <td>USA</td>\n",
       "      <td>02:26:31</td>\n",
       "      <td>Kathrine Switzer</td>\n",
       "      <td>USA</td>\n",
       "      <td>03:07:29</td>\n",
       "      <td>New York</td>\n",
       "    </tr>\n",
       "  </tbody>\n",
       "</table>\n",
       "</div>"
      ],
      "text/plain": [
       "   date        m_winner m_country    m_time          f_winner f_country  \\\n",
       "0  1970    Gary Muhrcke       USA  02:31:39               NaN       NaN   \n",
       "1  1971    Norm Higgins       USA  02:22:54       Beth Bonner       USA   \n",
       "2  1972  Sheldon Karlin       USA  02:27:52      Nina Kuscsik       USA   \n",
       "3  1973     Tom Fleming       USA  02:21:55      Nina Kuscsik       USA   \n",
       "4  1974  Norbert Sander       USA  02:26:31  Kathrine Switzer       USA   \n",
       "\n",
       "     f_time  marathon  \n",
       "0       NaN  New York  \n",
       "1  02:55:22  New York  \n",
       "2  03:08:41  New York  \n",
       "3  02:57:08  New York  \n",
       "4  03:07:29  New York  "
      ]
     },
     "execution_count": 11,
     "metadata": {},
     "output_type": "execute_result"
    }
   ],
   "source": [
    "wmm_marathons = pd.read_csv(\"All_winners_marathons.csv\")\n",
    "wmm_marathons.head()"
   ]
  },
  {
   "cell_type": "code",
   "execution_count": 12,
   "metadata": {},
   "outputs": [
    {
     "data": {
      "text/plain": [
       "0    1970\n",
       "1    1971\n",
       "2    1972\n",
       "3    1973\n",
       "4    1974\n",
       "Name: date, dtype: int64"
      ]
     },
     "execution_count": 12,
     "metadata": {},
     "output_type": "execute_result"
    }
   ],
   "source": [
    "wmm_marathons.date.head()"
   ]
  },
  {
   "cell_type": "code",
   "execution_count": 13,
   "metadata": {},
   "outputs": [
    {
     "data": {
      "text/html": [
       "<div>\n",
       "<style>\n",
       "    .dataframe thead tr:only-child th {\n",
       "        text-align: right;\n",
       "    }\n",
       "\n",
       "    .dataframe thead th {\n",
       "        text-align: left;\n",
       "    }\n",
       "\n",
       "    .dataframe tbody tr th {\n",
       "        vertical-align: top;\n",
       "    }\n",
       "</style>\n",
       "<table border=\"1\" class=\"dataframe\">\n",
       "  <thead>\n",
       "    <tr style=\"text-align: right;\">\n",
       "      <th></th>\n",
       "      <th>date</th>\n",
       "      <th>m_winner</th>\n",
       "      <th>m_country</th>\n",
       "      <th>m_time</th>\n",
       "      <th>f_winner</th>\n",
       "      <th>f_country</th>\n",
       "      <th>f_time</th>\n",
       "      <th>marathon</th>\n",
       "    </tr>\n",
       "  </thead>\n",
       "  <tbody>\n",
       "    <tr>\n",
       "      <th>0</th>\n",
       "      <td>1970</td>\n",
       "      <td>Gary Muhrcke</td>\n",
       "      <td>USA</td>\n",
       "      <td>02:31:39</td>\n",
       "      <td>NaN</td>\n",
       "      <td>NaN</td>\n",
       "      <td>NaN</td>\n",
       "      <td>New York</td>\n",
       "    </tr>\n",
       "    <tr>\n",
       "      <th>1</th>\n",
       "      <td>1971</td>\n",
       "      <td>Norm Higgins</td>\n",
       "      <td>USA</td>\n",
       "      <td>02:22:54</td>\n",
       "      <td>Beth Bonner</td>\n",
       "      <td>USA</td>\n",
       "      <td>02:55:22</td>\n",
       "      <td>New York</td>\n",
       "    </tr>\n",
       "    <tr>\n",
       "      <th>2</th>\n",
       "      <td>1972</td>\n",
       "      <td>Sheldon Karlin</td>\n",
       "      <td>USA</td>\n",
       "      <td>02:27:52</td>\n",
       "      <td>Nina Kuscsik</td>\n",
       "      <td>USA</td>\n",
       "      <td>03:08:41</td>\n",
       "      <td>New York</td>\n",
       "    </tr>\n",
       "    <tr>\n",
       "      <th>3</th>\n",
       "      <td>1973</td>\n",
       "      <td>Tom Fleming</td>\n",
       "      <td>USA</td>\n",
       "      <td>02:21:55</td>\n",
       "      <td>Nina Kuscsik</td>\n",
       "      <td>USA</td>\n",
       "      <td>02:57:08</td>\n",
       "      <td>New York</td>\n",
       "    </tr>\n",
       "    <tr>\n",
       "      <th>4</th>\n",
       "      <td>1974</td>\n",
       "      <td>Norbert Sander</td>\n",
       "      <td>USA</td>\n",
       "      <td>02:26:31</td>\n",
       "      <td>Kathrine Switzer</td>\n",
       "      <td>USA</td>\n",
       "      <td>03:07:29</td>\n",
       "      <td>New York</td>\n",
       "    </tr>\n",
       "  </tbody>\n",
       "</table>\n",
       "</div>"
      ],
      "text/plain": [
       "   date        m_winner m_country    m_time          f_winner f_country  \\\n",
       "0  1970    Gary Muhrcke       USA  02:31:39               NaN       NaN   \n",
       "1  1971    Norm Higgins       USA  02:22:54       Beth Bonner       USA   \n",
       "2  1972  Sheldon Karlin       USA  02:27:52      Nina Kuscsik       USA   \n",
       "3  1973     Tom Fleming       USA  02:21:55      Nina Kuscsik       USA   \n",
       "4  1974  Norbert Sander       USA  02:26:31  Kathrine Switzer       USA   \n",
       "\n",
       "     f_time  marathon  \n",
       "0       NaN  New York  \n",
       "1  02:55:22  New York  \n",
       "2  03:08:41  New York  \n",
       "3  02:57:08  New York  \n",
       "4  03:07:29  New York  "
      ]
     },
     "execution_count": 13,
     "metadata": {},
     "output_type": "execute_result"
    }
   ],
   "source": [
    "New_York = wmm_marathons[wmm_marathons['marathon'] == 'New York']\n",
    "New_York.head()"
   ]
  },
  {
   "cell_type": "code",
   "execution_count": 14,
   "metadata": {},
   "outputs": [
    {
     "data": {
      "text/plain": [
       "<matplotlib.axes._subplots.AxesSubplot at 0x115989ac8>"
      ]
     },
     "execution_count": 14,
     "metadata": {},
     "output_type": "execute_result"
    },
    {
     "data": {
      "image/png": "[encoded data removed]",
      "text/plain": [
       "<matplotlib.figure.Figure at 0x11593d048>"
      ]
     },
     "metadata": {},
     "output_type": "display_data"
    }
   ],
   "source": [
    "#NEW YORK | Countries | Men – Women\n",
    "fig = plt.figure()\n",
    "#ax.yaxis.set_label_coords(labelx, 0.5)\n",
    "#ax2.yaxis.set_label_coords(labelx, 0.5)\n",
    "\n",
    "\n",
    "ax = fig.add_subplot(121) # hoch/runter\n",
    "ax2 = fig.add_subplot(122) # seitlich\n",
    "ax.set_xlim(0, 16)\n",
    "ax2.set_xlim(0, 16)\n",
    "New_York.groupby('m_country')['m_winner'].count().sort_values(ascending=True).plot(title='Men', color='#81D8D0', kind='barh', x='m_winner', ax=ax, y='m_country', figsize=(15,5))\n",
    "New_York.groupby('f_country')['f_winner'].count().sort_values(ascending=True).plot(title='Women', color='#5B9EFF' ,kind='barh', x='f_winner', ax=ax2, y='m_country', figsize=(15,5))"
   ]
  },
  {
   "cell_type": "code",
   "execution_count": 15,
   "metadata": {
    "scrolled": true
   },
   "outputs": [
    {
     "data": {
      "text/html": [
       "<div>\n",
       "<style>\n",
       "    .dataframe thead tr:only-child th {\n",
       "        text-align: right;\n",
       "    }\n",
       "\n",
       "    .dataframe thead th {\n",
       "        text-align: left;\n",
       "    }\n",
       "\n",
       "    .dataframe tbody tr th {\n",
       "        vertical-align: top;\n",
       "    }\n",
       "</style>\n",
       "<table border=\"1\" class=\"dataframe\">\n",
       "  <thead>\n",
       "    <tr style=\"text-align: right;\">\n",
       "      <th></th>\n",
       "      <th>date</th>\n",
       "      <th>m_winner</th>\n",
       "      <th>m_country</th>\n",
       "      <th>m_time</th>\n",
       "      <th>f_winner</th>\n",
       "      <th>f_country</th>\n",
       "      <th>f_time</th>\n",
       "      <th>marathon</th>\n",
       "    </tr>\n",
       "  </thead>\n",
       "  <tbody>\n",
       "    <tr>\n",
       "      <th>46</th>\n",
       "      <td>1897</td>\n",
       "      <td>John J. McDermott</td>\n",
       "      <td>USA</td>\n",
       "      <td>02:55:10</td>\n",
       "      <td>NaN</td>\n",
       "      <td>NaN</td>\n",
       "      <td>NaN</td>\n",
       "      <td>Boston</td>\n",
       "    </tr>\n",
       "    <tr>\n",
       "      <th>47</th>\n",
       "      <td>1898</td>\n",
       "      <td>Ronald MacDonald</td>\n",
       "      <td>CAN</td>\n",
       "      <td>02:42:00</td>\n",
       "      <td>NaN</td>\n",
       "      <td>NaN</td>\n",
       "      <td>NaN</td>\n",
       "      <td>Boston</td>\n",
       "    </tr>\n",
       "    <tr>\n",
       "      <th>48</th>\n",
       "      <td>1899</td>\n",
       "      <td>Lawrence Brignolia</td>\n",
       "      <td>USA</td>\n",
       "      <td>02:54:38</td>\n",
       "      <td>NaN</td>\n",
       "      <td>NaN</td>\n",
       "      <td>NaN</td>\n",
       "      <td>Boston</td>\n",
       "    </tr>\n",
       "    <tr>\n",
       "      <th>49</th>\n",
       "      <td>1900</td>\n",
       "      <td>Jack Caffery</td>\n",
       "      <td>CAN</td>\n",
       "      <td>02:39:44</td>\n",
       "      <td>NaN</td>\n",
       "      <td>NaN</td>\n",
       "      <td>NaN</td>\n",
       "      <td>Boston</td>\n",
       "    </tr>\n",
       "    <tr>\n",
       "      <th>50</th>\n",
       "      <td>1901</td>\n",
       "      <td>Jack Caffery</td>\n",
       "      <td>CAN</td>\n",
       "      <td>02:29:23</td>\n",
       "      <td>NaN</td>\n",
       "      <td>NaN</td>\n",
       "      <td>NaN</td>\n",
       "      <td>Boston</td>\n",
       "    </tr>\n",
       "  </tbody>\n",
       "</table>\n",
       "</div>"
      ],
      "text/plain": [
       "    date            m_winner m_country    m_time f_winner f_country f_time  \\\n",
       "46  1897   John J. McDermott       USA  02:55:10      NaN       NaN    NaN   \n",
       "47  1898    Ronald MacDonald       CAN  02:42:00      NaN       NaN    NaN   \n",
       "48  1899  Lawrence Brignolia       USA  02:54:38      NaN       NaN    NaN   \n",
       "49  1900        Jack Caffery       CAN  02:39:44      NaN       NaN    NaN   \n",
       "50  1901        Jack Caffery       CAN  02:29:23      NaN       NaN    NaN   \n",
       "\n",
       "   marathon  \n",
       "46   Boston  \n",
       "47   Boston  \n",
       "48   Boston  \n",
       "49   Boston  \n",
       "50   Boston  "
      ]
     },
     "execution_count": 15,
     "metadata": {},
     "output_type": "execute_result"
    }
   ],
   "source": [
    "Boston = wmm_marathons[wmm_marathons['marathon'] == 'Boston']\n",
    "Boston.head()"
   ]
  },
  {
   "cell_type": "code",
   "execution_count": 16,
   "metadata": {},
   "outputs": [
    {
     "data": {
      "text/plain": [
       "<matplotlib.axes._subplots.AxesSubplot at 0x115ebcfd0>"
      ]
     },
     "execution_count": 16,
     "metadata": {},
     "output_type": "execute_result"
    },
    {
     "data": {
      "image/png": "[encoded data removed]",
      "text/plain": [
       "<matplotlib.figure.Figure at 0x115ed6128>"
      ]
     },
     "metadata": {},
     "output_type": "display_data"
    }
   ],
   "source": [
    "#BOSTON | Countries | Men – Women\n",
    "fig = plt.figure()\n",
    "ax = fig.add_subplot(121) # hoch/runter\n",
    "ax2 = fig.add_subplot(122) # seitlich\n",
    "ax.set_xlim(0, 50)\n",
    "ax2.set_xlim(0, 16)\n",
    "Boston.groupby('m_country')['m_winner'].count().sort_values(ascending=True).plot(title='Men', color='#81D8D0', kind='barh', x='m_winner', ax=ax, y='m_country', figsize=(15,5))\n",
    "Boston.groupby('f_country')['f_winner'].count().sort_values(ascending=True).plot(title='Women', color='#5B9EFF' ,kind='barh', x='f_winner', ax=ax2, y='m_country', figsize=(15,5))"
   ]
  },
  {
   "cell_type": "code",
   "execution_count": 17,
   "metadata": {
    "scrolled": true
   },
   "outputs": [
    {
     "data": {
      "text/html": [
       "<div>\n",
       "<style>\n",
       "    .dataframe thead tr:only-child th {\n",
       "        text-align: right;\n",
       "    }\n",
       "\n",
       "    .dataframe thead th {\n",
       "        text-align: left;\n",
       "    }\n",
       "\n",
       "    .dataframe tbody tr th {\n",
       "        vertical-align: top;\n",
       "    }\n",
       "</style>\n",
       "<table border=\"1\" class=\"dataframe\">\n",
       "  <thead>\n",
       "    <tr style=\"text-align: right;\">\n",
       "      <th></th>\n",
       "      <th>date</th>\n",
       "      <th>m_winner</th>\n",
       "      <th>m_country</th>\n",
       "      <th>m_time</th>\n",
       "      <th>f_winner</th>\n",
       "      <th>f_country</th>\n",
       "      <th>f_time</th>\n",
       "      <th>marathon</th>\n",
       "    </tr>\n",
       "  </thead>\n",
       "  <tbody>\n",
       "    <tr>\n",
       "      <th>168</th>\n",
       "      <td>1974</td>\n",
       "      <td>Günter Hallas (GER)</td>\n",
       "      <td>GER</td>\n",
       "      <td>02:44:53</td>\n",
       "      <td>Jutta von Haase (GER)</td>\n",
       "      <td>GER</td>\n",
       "      <td>03:22:01</td>\n",
       "      <td>Berlin</td>\n",
       "    </tr>\n",
       "    <tr>\n",
       "      <th>169</th>\n",
       "      <td>1975</td>\n",
       "      <td>Ralf Bochröder (GER)</td>\n",
       "      <td>GER</td>\n",
       "      <td>02:47:08</td>\n",
       "      <td>Kristin Bochröder (GER)</td>\n",
       "      <td>GER</td>\n",
       "      <td>03:59:15</td>\n",
       "      <td>Berlin</td>\n",
       "    </tr>\n",
       "    <tr>\n",
       "      <th>170</th>\n",
       "      <td>1976</td>\n",
       "      <td>Ingo Sensburg (GER)</td>\n",
       "      <td>GER</td>\n",
       "      <td>02:23:08</td>\n",
       "      <td>Ursula Blaschke (GER)</td>\n",
       "      <td>GER</td>\n",
       "      <td>03:05:19</td>\n",
       "      <td>Berlin</td>\n",
       "    </tr>\n",
       "    <tr>\n",
       "      <th>171</th>\n",
       "      <td>1977</td>\n",
       "      <td>Günter Mielke (GER)</td>\n",
       "      <td>GER</td>\n",
       "      <td>02:15:19</td>\n",
       "      <td>Christa Vahlensieck (GER)</td>\n",
       "      <td>GER</td>\n",
       "      <td>02:34:48</td>\n",
       "      <td>Berlin</td>\n",
       "    </tr>\n",
       "    <tr>\n",
       "      <th>172</th>\n",
       "      <td>1978</td>\n",
       "      <td>Michael Spöttel (GER)</td>\n",
       "      <td>GER</td>\n",
       "      <td>02:20:03</td>\n",
       "      <td>Ursula Blaschke (2. Sieg)</td>\n",
       "      <td>GER</td>\n",
       "      <td>02:57:09</td>\n",
       "      <td>Berlin</td>\n",
       "    </tr>\n",
       "  </tbody>\n",
       "</table>\n",
       "</div>"
      ],
      "text/plain": [
       "     date               m_winner m_country    m_time  \\\n",
       "168  1974    Günter Hallas (GER)       GER  02:44:53   \n",
       "169  1975   Ralf Bochröder (GER)       GER  02:47:08   \n",
       "170  1976    Ingo Sensburg (GER)       GER  02:23:08   \n",
       "171  1977    Günter Mielke (GER)       GER  02:15:19   \n",
       "172  1978  Michael Spöttel (GER)       GER  02:20:03   \n",
       "\n",
       "                      f_winner f_country    f_time marathon  \n",
       "168      Jutta von Haase (GER)       GER  03:22:01   Berlin  \n",
       "169    Kristin Bochröder (GER)       GER  03:59:15   Berlin  \n",
       "170      Ursula Blaschke (GER)       GER  03:05:19   Berlin  \n",
       "171  Christa Vahlensieck (GER)       GER  02:34:48   Berlin  \n",
       "172  Ursula Blaschke (2. Sieg)       GER  02:57:09   Berlin  "
      ]
     },
     "execution_count": 17,
     "metadata": {},
     "output_type": "execute_result"
    }
   ],
   "source": [
    "Berlin = wmm_marathons[wmm_marathons['marathon'] == 'Berlin']\n",
    "Berlin.head()"
   ]
  },
  {
   "cell_type": "code",
   "execution_count": 18,
   "metadata": {},
   "outputs": [
    {
     "data": {
      "text/plain": [
       "<matplotlib.axes._subplots.AxesSubplot at 0x1161b12b0>"
      ]
     },
     "execution_count": 18,
     "metadata": {},
     "output_type": "execute_result"
    },
    {
     "data": {
      "image/png": "[encoded data removed]",
      "text/plain": [
       "<matplotlib.figure.Figure at 0x11614cfd0>"
      ]
     },
     "metadata": {},
     "output_type": "display_data"
    }
   ],
   "source": [
    "#BERLIN | Countries | Men – Women\n",
    "fig = plt.figure()\n",
    "ax = fig.add_subplot(121) # hoch/runter\n",
    "ax2 = fig.add_subplot(122) # seitlich\n",
    "ax.set_xlim(0, 16)\n",
    "ax2.set_xlim(0, 16)\n",
    "Berlin.groupby('m_country')['m_winner'].count().sort_values(ascending=True).plot(title='Men', color='#81D8D0', kind='barh', x='m_winner', ax=ax, y='m_country', figsize=(15,5))\n",
    "Berlin.groupby('f_country')['f_winner'].count().sort_values(ascending=True).plot(title='Women', color='#5B9EFF' ,kind='barh', x='f_winner', ax=ax2, y='m_country', figsize=(15,5))"
   ]
  },
  {
   "cell_type": "code",
   "execution_count": 19,
   "metadata": {},
   "outputs": [
    {
     "data": {
      "text/html": [
       "<div>\n",
       "<style>\n",
       "    .dataframe thead tr:only-child th {\n",
       "        text-align: right;\n",
       "    }\n",
       "\n",
       "    .dataframe thead th {\n",
       "        text-align: left;\n",
       "    }\n",
       "\n",
       "    .dataframe tbody tr th {\n",
       "        vertical-align: top;\n",
       "    }\n",
       "</style>\n",
       "<table border=\"1\" class=\"dataframe\">\n",
       "  <thead>\n",
       "    <tr style=\"text-align: right;\">\n",
       "      <th></th>\n",
       "      <th>date</th>\n",
       "      <th>m_winner</th>\n",
       "      <th>m_country</th>\n",
       "      <th>m_time</th>\n",
       "      <th>f_winner</th>\n",
       "      <th>f_country</th>\n",
       "      <th>f_time</th>\n",
       "      <th>marathon</th>\n",
       "    </tr>\n",
       "  </thead>\n",
       "  <tbody>\n",
       "    <tr>\n",
       "      <th>211</th>\n",
       "      <td>1977</td>\n",
       "      <td>Dan Cloeter (USA)</td>\n",
       "      <td>USA</td>\n",
       "      <td>02:17:52</td>\n",
       "      <td>Dorothy Doolittle (USA)</td>\n",
       "      <td>USA</td>\n",
       "      <td>02:50:47</td>\n",
       "      <td>Chicago</td>\n",
       "    </tr>\n",
       "    <tr>\n",
       "      <th>212</th>\n",
       "      <td>1978</td>\n",
       "      <td>Mark Stanforth (USA)</td>\n",
       "      <td>USA</td>\n",
       "      <td>02:19:20</td>\n",
       "      <td>Lynae Larson (USA)</td>\n",
       "      <td>USA</td>\n",
       "      <td>02:59:25</td>\n",
       "      <td>Chicago</td>\n",
       "    </tr>\n",
       "    <tr>\n",
       "      <th>213</th>\n",
       "      <td>1979</td>\n",
       "      <td>Dan Cloeter (2. Sieg)</td>\n",
       "      <td>USA</td>\n",
       "      <td>02:23:20</td>\n",
       "      <td>Laura Michalek (USA)</td>\n",
       "      <td>USA</td>\n",
       "      <td>03:15:45</td>\n",
       "      <td>Chicago</td>\n",
       "    </tr>\n",
       "    <tr>\n",
       "      <th>214</th>\n",
       "      <td>1980</td>\n",
       "      <td>Frank Richardson (USA)</td>\n",
       "      <td>USA</td>\n",
       "      <td>02:14:04</td>\n",
       "      <td>Sue Peterson (USA)</td>\n",
       "      <td>USA</td>\n",
       "      <td>02:45:03</td>\n",
       "      <td>Chicago</td>\n",
       "    </tr>\n",
       "    <tr>\n",
       "      <th>215</th>\n",
       "      <td>1981</td>\n",
       "      <td>Phil Coppess (USA)</td>\n",
       "      <td>USA</td>\n",
       "      <td>02:16:13</td>\n",
       "      <td>Tina Gandy (USA)</td>\n",
       "      <td>USA</td>\n",
       "      <td>02:49:39</td>\n",
       "      <td>Chicago</td>\n",
       "    </tr>\n",
       "  </tbody>\n",
       "</table>\n",
       "</div>"
      ],
      "text/plain": [
       "     date                m_winner m_country    m_time  \\\n",
       "211  1977       Dan Cloeter (USA)       USA  02:17:52   \n",
       "212  1978    Mark Stanforth (USA)       USA  02:19:20   \n",
       "213  1979   Dan Cloeter (2. Sieg)       USA  02:23:20   \n",
       "214  1980  Frank Richardson (USA)       USA  02:14:04   \n",
       "215  1981      Phil Coppess (USA)       USA  02:16:13   \n",
       "\n",
       "                    f_winner f_country    f_time marathon  \n",
       "211  Dorothy Doolittle (USA)       USA  02:50:47  Chicago  \n",
       "212       Lynae Larson (USA)       USA  02:59:25  Chicago  \n",
       "213     Laura Michalek (USA)       USA  03:15:45  Chicago  \n",
       "214       Sue Peterson (USA)       USA  02:45:03  Chicago  \n",
       "215         Tina Gandy (USA)       USA  02:49:39  Chicago  "
      ]
     },
     "execution_count": 19,
     "metadata": {},
     "output_type": "execute_result"
    }
   ],
   "source": [
    "Chicago = wmm_marathons[wmm_marathons['marathon'] == 'Chicago']\n",
    "Chicago.head()"
   ]
  },
  {
   "cell_type": "code",
   "execution_count": 20,
   "metadata": {},
   "outputs": [
    {
     "data": {
      "text/plain": [
       "<matplotlib.axes._subplots.AxesSubplot at 0x1164bada0>"
      ]
     },
     "execution_count": 20,
     "metadata": {},
     "output_type": "execute_result"
    },
    {
     "data": {
      "image/png": "[encoded data removed]",
      "text/plain": [
       "<matplotlib.figure.Figure at 0x116466748>"
      ]
     },
     "metadata": {},
     "output_type": "display_data"
    }
   ],
   "source": [
    "#CHICAGO | Countries | Men – Women\n",
    "fig = plt.figure()\n",
    "ax = fig.add_subplot(121) # hoch/runter\n",
    "ax2 = fig.add_subplot(122) # seitlich\n",
    "ax.set_xlim(0, 16)\n",
    "ax2.set_xlim(0, 16)\n",
    "Chicago.groupby('m_country')['m_winner'].count().sort_values(ascending=True).plot(title='Men', color='#81D8D0', kind='barh', x='m_winner', ax=ax, y='m_country', figsize=(15,5))\n",
    "Chicago.groupby('f_country')['f_winner'].count().sort_values(ascending=True).plot(title='Women', color='#5B9EFF' ,kind='barh', x='f_winner', ax=ax2, y='m_country', figsize=(15,5))"
   ]
  },
  {
   "cell_type": "code",
   "execution_count": 21,
   "metadata": {},
   "outputs": [
    {
     "data": {
      "text/html": [
       "<div>\n",
       "<style>\n",
       "    .dataframe thead tr:only-child th {\n",
       "        text-align: right;\n",
       "    }\n",
       "\n",
       "    .dataframe thead th {\n",
       "        text-align: left;\n",
       "    }\n",
       "\n",
       "    .dataframe tbody tr th {\n",
       "        vertical-align: top;\n",
       "    }\n",
       "</style>\n",
       "<table border=\"1\" class=\"dataframe\">\n",
       "  <thead>\n",
       "    <tr style=\"text-align: right;\">\n",
       "      <th></th>\n",
       "      <th>date</th>\n",
       "      <th>m_winner</th>\n",
       "      <th>m_country</th>\n",
       "      <th>m_time</th>\n",
       "      <th>f_winner</th>\n",
       "      <th>f_country</th>\n",
       "      <th>f_time</th>\n",
       "      <th>marathon</th>\n",
       "    </tr>\n",
       "  </thead>\n",
       "  <tbody>\n",
       "    <tr>\n",
       "      <th>251</th>\n",
       "      <td>1981</td>\n",
       "      <td>\\nInge Simonsen</td>\n",
       "      <td>NOR</td>\n",
       "      <td>02:11:48</td>\n",
       "      <td>Joyce Smith (GBR)</td>\n",
       "      <td>GBR</td>\n",
       "      <td>02:29:57</td>\n",
       "      <td>London</td>\n",
       "    </tr>\n",
       "    <tr>\n",
       "      <th>252</th>\n",
       "      <td>1982</td>\n",
       "      <td>Hugh Jones (GBR)</td>\n",
       "      <td>GBR</td>\n",
       "      <td>02:09:24</td>\n",
       "      <td>Joyce Smith -2-</td>\n",
       "      <td>GBR</td>\n",
       "      <td>02:29:43</td>\n",
       "      <td>London</td>\n",
       "    </tr>\n",
       "    <tr>\n",
       "      <th>253</th>\n",
       "      <td>1983</td>\n",
       "      <td>Mike Gratton (GBR)</td>\n",
       "      <td>GBR</td>\n",
       "      <td>02:09:43</td>\n",
       "      <td>Grete Waitz (NOR)</td>\n",
       "      <td>NOR</td>\n",
       "      <td>02:25:29</td>\n",
       "      <td>London</td>\n",
       "    </tr>\n",
       "    <tr>\n",
       "      <th>254</th>\n",
       "      <td>1984</td>\n",
       "      <td>Charlie Spedding (GBR)</td>\n",
       "      <td>GBR</td>\n",
       "      <td>02:09:57</td>\n",
       "      <td>Ingrid Kristiansen (NOR)</td>\n",
       "      <td>NOR</td>\n",
       "      <td>02:24:26</td>\n",
       "      <td>London</td>\n",
       "    </tr>\n",
       "    <tr>\n",
       "      <th>255</th>\n",
       "      <td>1985</td>\n",
       "      <td>Steve Jones (GBR)</td>\n",
       "      <td>GBR</td>\n",
       "      <td>02:08:16</td>\n",
       "      <td>Ingrid Kristiansen -2-</td>\n",
       "      <td>NOR</td>\n",
       "      <td>02:21:06</td>\n",
       "      <td>London</td>\n",
       "    </tr>\n",
       "  </tbody>\n",
       "</table>\n",
       "</div>"
      ],
      "text/plain": [
       "     date                m_winner m_country    m_time  \\\n",
       "251  1981         \\nInge Simonsen       NOR  02:11:48   \n",
       "252  1982        Hugh Jones (GBR)       GBR  02:09:24   \n",
       "253  1983      Mike Gratton (GBR)       GBR  02:09:43   \n",
       "254  1984  Charlie Spedding (GBR)       GBR  02:09:57   \n",
       "255  1985       Steve Jones (GBR)       GBR  02:08:16   \n",
       "\n",
       "                     f_winner f_country    f_time marathon  \n",
       "251         Joyce Smith (GBR)       GBR  02:29:57   London  \n",
       "252           Joyce Smith -2-       GBR  02:29:43   London  \n",
       "253         Grete Waitz (NOR)       NOR  02:25:29   London  \n",
       "254  Ingrid Kristiansen (NOR)       NOR  02:24:26   London  \n",
       "255    Ingrid Kristiansen -2-       NOR  02:21:06   London  "
      ]
     },
     "execution_count": 21,
     "metadata": {},
     "output_type": "execute_result"
    }
   ],
   "source": [
    "London = wmm_marathons[wmm_marathons['marathon'] == 'London']\n",
    "London.head()"
   ]
  },
  {
   "cell_type": "code",
   "execution_count": 22,
   "metadata": {},
   "outputs": [
    {
     "data": {
      "text/plain": [
       "KEN    13\n",
       "GBR     8\n",
       "ETH     3\n",
       "POR     3\n",
       "MAR     2\n",
       "JPN     2\n",
       "DEN     1\n",
       "USA     1\n",
       "MEX     1\n",
       "ESP     1\n",
       "NOR     1\n",
       "RUS     1\n",
       "Name: m_country, dtype: int64"
      ]
     },
     "execution_count": 22,
     "metadata": {},
     "output_type": "execute_result"
    }
   ],
   "source": [
    "London.m_country.value_counts()"
   ]
  },
  {
   "cell_type": "code",
   "execution_count": 23,
   "metadata": {},
   "outputs": [
    {
     "name": "stderr",
     "output_type": "stream",
     "text": [
      "/usr/local/lib/python3.6/site-packages/ipykernel_launcher.py:1: SettingWithCopyWarning: \n",
      "A value is trying to be set on a copy of a slice from a DataFrame.\n",
      "Try using .loc[row_indexer,col_indexer] = value instead\n",
      "\n",
      "See the caveats in the documentation: http://pandas.pydata.org/pandas-docs/stable/indexing.html#indexing-view-versus-copy\n",
      "  \"\"\"Entry point for launching an IPython kernel.\n"
     ]
    },
    {
     "data": {
      "text/plain": [
       "<matplotlib.axes._subplots.AxesSubplot at 0x1166d4278>"
      ]
     },
     "execution_count": 23,
     "metadata": {},
     "output_type": "execute_result"
    },
    {
     "data": {
      "image/png": "[encoded data removed]",
      "text/plain": [
       "<matplotlib.figure.Figure at 0x1166f1c50>"
      ]
     },
     "metadata": {},
     "output_type": "display_data"
    }
   ],
   "source": [
    "London['nothing'] = 4\n",
    "London.set_index(\"date\").plot(color=\"black\", kind=\"bar\", figsize=(20,4))\n"
   ]
  },
  {
   "cell_type": "code",
   "execution_count": 25,
   "metadata": {},
   "outputs": [
    {
     "data": {
      "text/html": [
       "<div>\n",
       "<style>\n",
       "    .dataframe thead tr:only-child th {\n",
       "        text-align: right;\n",
       "    }\n",
       "\n",
       "    .dataframe thead th {\n",
       "        text-align: left;\n",
       "    }\n",
       "\n",
       "    .dataframe tbody tr th {\n",
       "        vertical-align: top;\n",
       "    }\n",
       "</style>\n",
       "<table border=\"1\" class=\"dataframe\">\n",
       "  <thead>\n",
       "    <tr style=\"text-align: right;\">\n",
       "      <th></th>\n",
       "      <th>date</th>\n",
       "      <th>m_winner</th>\n",
       "      <th>m_country</th>\n",
       "      <th>m_time</th>\n",
       "      <th>f_winner</th>\n",
       "      <th>f_country</th>\n",
       "      <th>f_time</th>\n",
       "      <th>marathon</th>\n",
       "      <th>nothing</th>\n",
       "    </tr>\n",
       "  </thead>\n",
       "  <tbody>\n",
       "    <tr>\n",
       "      <th>251</th>\n",
       "      <td>1981</td>\n",
       "      <td>\\nInge Simonsen</td>\n",
       "      <td>NOR</td>\n",
       "      <td>02:11:48</td>\n",
       "      <td>Joyce Smith (GBR)</td>\n",
       "      <td>GBR</td>\n",
       "      <td>02:29:57</td>\n",
       "      <td>London</td>\n",
       "      <td>4</td>\n",
       "    </tr>\n",
       "    <tr>\n",
       "      <th>252</th>\n",
       "      <td>1982</td>\n",
       "      <td>Hugh Jones (GBR)</td>\n",
       "      <td>GBR</td>\n",
       "      <td>02:09:24</td>\n",
       "      <td>Joyce Smith -2-</td>\n",
       "      <td>GBR</td>\n",
       "      <td>02:29:43</td>\n",
       "      <td>London</td>\n",
       "      <td>4</td>\n",
       "    </tr>\n",
       "    <tr>\n",
       "      <th>253</th>\n",
       "      <td>1983</td>\n",
       "      <td>Mike Gratton (GBR)</td>\n",
       "      <td>GBR</td>\n",
       "      <td>02:09:43</td>\n",
       "      <td>Grete Waitz (NOR)</td>\n",
       "      <td>NOR</td>\n",
       "      <td>02:25:29</td>\n",
       "      <td>London</td>\n",
       "      <td>4</td>\n",
       "    </tr>\n",
       "    <tr>\n",
       "      <th>254</th>\n",
       "      <td>1984</td>\n",
       "      <td>Charlie Spedding (GBR)</td>\n",
       "      <td>GBR</td>\n",
       "      <td>02:09:57</td>\n",
       "      <td>Ingrid Kristiansen (NOR)</td>\n",
       "      <td>NOR</td>\n",
       "      <td>02:24:26</td>\n",
       "      <td>London</td>\n",
       "      <td>4</td>\n",
       "    </tr>\n",
       "    <tr>\n",
       "      <th>255</th>\n",
       "      <td>1985</td>\n",
       "      <td>Steve Jones (GBR)</td>\n",
       "      <td>GBR</td>\n",
       "      <td>02:08:16</td>\n",
       "      <td>Ingrid Kristiansen -2-</td>\n",
       "      <td>NOR</td>\n",
       "      <td>02:21:06</td>\n",
       "      <td>London</td>\n",
       "      <td>4</td>\n",
       "    </tr>\n",
       "  </tbody>\n",
       "</table>\n",
       "</div>"
      ],
      "text/plain": [
       "     date                m_winner m_country    m_time  \\\n",
       "251  1981         \\nInge Simonsen       NOR  02:11:48   \n",
       "252  1982        Hugh Jones (GBR)       GBR  02:09:24   \n",
       "253  1983      Mike Gratton (GBR)       GBR  02:09:43   \n",
       "254  1984  Charlie Spedding (GBR)       GBR  02:09:57   \n",
       "255  1985       Steve Jones (GBR)       GBR  02:08:16   \n",
       "\n",
       "                     f_winner f_country    f_time marathon  nothing  \n",
       "251         Joyce Smith (GBR)       GBR  02:29:57   London        4  \n",
       "252           Joyce Smith -2-       GBR  02:29:43   London        4  \n",
       "253         Grete Waitz (NOR)       NOR  02:25:29   London        4  \n",
       "254  Ingrid Kristiansen (NOR)       NOR  02:24:26   London        4  \n",
       "255    Ingrid Kristiansen -2-       NOR  02:21:06   London        4  "
      ]
     },
     "execution_count": 25,
     "metadata": {},
     "output_type": "execute_result"
    }
   ],
   "source": [
    "London.head()"
   ]
  },
  {
   "cell_type": "code",
   "execution_count": 26,
   "metadata": {},
   "outputs": [
    {
     "name": "stderr",
     "output_type": "stream",
     "text": [
      "/usr/local/lib/python3.6/site-packages/ipykernel_launcher.py:17: SettingWithCopyWarning: \n",
      "A value is trying to be set on a copy of a slice from a DataFrame.\n",
      "Try using .loc[row_indexer,col_indexer] = value instead\n",
      "\n",
      "See the caveats in the documentation: http://pandas.pydata.org/pandas-docs/stable/indexing.html#indexing-view-versus-copy\n"
     ]
    },
    {
     "data": {
      "image/png": "[encoded data removed]",
      "text/plain": [
       "<matplotlib.figure.Figure at 0x116777710>"
      ]
     },
     "metadata": {},
     "output_type": "display_data"
    }
   ],
   "source": [
    "colormap = {\n",
    "    'KEN': 'black',\n",
    "    'GBR': 'orange',\n",
    "    'ETH': 'yellow',\n",
    "    'POR': 'green',\n",
    "    'MAR': 'blue',\n",
    "    'JPN': 'indigo',\n",
    "    'RUS': 'violet',\n",
    "    'NOR': '#e78ac3',\n",
    "    'MEX': '#fc8d62',\n",
    "    'USA': '#66c2a5',\n",
    "    'DEN': '#e5c494',\n",
    "    'ESP': '#ffd92f'\n",
    "}\n",
    "colors = London.m_country.apply(lambda country: colormap[country])\n",
    "\n",
    "London['nothing'] = 4\n",
    "London.set_index(\"date\").plot(color=[colors], kind=\"bar\", figsize=(20,3), width=1.0, linewidth=0)\n",
    "plt.savefig(\"London_Countries_Soma1.pdf\")"
   ]
  },
  {
   "cell_type": "code",
   "execution_count": 143,
   "metadata": {},
   "outputs": [
    {
     "name": "stderr",
     "output_type": "stream",
     "text": [
      "/usr/local/lib/python3.6/site-packages/ipykernel_launcher.py:17: SettingWithCopyWarning: \n",
      "A value is trying to be set on a copy of a slice from a DataFrame.\n",
      "Try using .loc[row_indexer,col_indexer] = value instead\n",
      "\n",
      "See the caveats in the documentation: http://pandas.pydata.org/pandas-docs/stable/indexing.html#indexing-view-versus-copy\n"
     ]
    },
    {
     "data": {
      "image/png": "[encoded data removed]",
      "text/plain": [
       "<matplotlib.figure.Figure at 0x112241748>"
      ]
     },
     "metadata": {},
     "output_type": "display_data"
    }
   ],
   "source": [
    "colormap = {\n",
    "    'KEN': 'black',\n",
    "    'GBR': 'orange',\n",
    "    'ETH': 'yellow',\n",
    "    'POR': 'green',\n",
    "    'MAR': 'blue',\n",
    "    'JPN': 'indigo',\n",
    "    'RUS': 'violet',\n",
    "    'NOR': '#e78ac3',\n",
    "    'MEX': '#fc8d62',\n",
    "    'USA': '#66c2a5',\n",
    "    'DEN': '#e5c494',\n",
    "    'ESP': '#ffd92f'\n",
    "}\n",
    "colors = London.m_country.apply(lambda country: colormap[country])\n",
    "\n",
    "London['nothing'] = 4\n",
    "London.set_index(\"date\").plot(color=[colors], kind=\"bar\", figsize=(20,3), linewidth=0)\n",
    "plt.savefig(\"London_Countries_Soma2.pdf\")"
   ]
  },
  {
   "cell_type": "code",
   "execution_count": 144,
   "metadata": {},
   "outputs": [
    {
     "name": "stderr",
     "output_type": "stream",
     "text": [
      "/usr/local/lib/python3.6/site-packages/ipykernel_launcher.py:17: SettingWithCopyWarning: \n",
      "A value is trying to be set on a copy of a slice from a DataFrame.\n",
      "Try using .loc[row_indexer,col_indexer] = value instead\n",
      "\n",
      "See the caveats in the documentation: http://pandas.pydata.org/pandas-docs/stable/indexing.html#indexing-view-versus-copy\n"
     ]
    },
    {
     "data": {
      "image/png": "[encoded data removed]",
      "text/plain": [
       "<matplotlib.figure.Figure at 0x1111f3828>"
      ]
     },
     "metadata": {},
     "output_type": "display_data"
    }
   ],
   "source": [
    "colormap = {\n",
    "    'KEN': 'black',\n",
    "    'GBR': '#5B9EFF',\n",
    "    'ETH': 'grey',\n",
    "    'POR': 'grey',\n",
    "    'MAR': 'grey',\n",
    "    'JPN': 'grey',\n",
    "    'RUS': 'grey',\n",
    "    'NOR': 'grey',\n",
    "    'MEX': 'grey',\n",
    "    'USA': '#81D8D0',\n",
    "    'DEN': 'grey',\n",
    "    'ESP': 'grey'\n",
    "}\n",
    "colors = London.m_country.apply(lambda country: colormap[country])\n",
    "\n",
    "London['nothing'] = 4\n",
    "London.set_index(\"date\").plot(color=[colors], kind=\"bar\", figsize=(20,3), width=1.0, linewidth=0)\n",
    "\n",
    "plt.savefig(\"London_Countries_Marina.pdf\")"
   ]
  },
  {
   "cell_type": "code",
   "execution_count": 27,
   "metadata": {},
   "outputs": [
    {
     "ename": "AttributeError",
     "evalue": "'Series' object has no attribute 'set_index'",
     "output_type": "error",
     "traceback": [
      "\u001b[0;31m---------------------------------------------------------------------------\u001b[0m",
      "\u001b[0;31mAttributeError\u001b[0m                            Traceback (most recent call last)",
      "\u001b[0;32m<ipython-input-27-360743ec0506>\u001b[0m in \u001b[0;36m<module>\u001b[0;34m()\u001b[0m\n\u001b[1;32m     16\u001b[0m \u001b[0;34m\u001b[0m\u001b[0m\n\u001b[1;32m     17\u001b[0m \u001b[0mNew_York\u001b[0m\u001b[0;34m[\u001b[0m\u001b[0;34m'nothing'\u001b[0m\u001b[0;34m]\u001b[0m \u001b[0;34m=\u001b[0m \u001b[0;36m4\u001b[0m\u001b[0;34m\u001b[0m\u001b[0m\n\u001b[0;32m---> 18\u001b[0;31m \u001b[0mNew_York\u001b[0m\u001b[0;34m.\u001b[0m\u001b[0mset_index\u001b[0m\u001b[0;34m(\u001b[0m\u001b[0;34m\"date\"\u001b[0m\u001b[0;34m)\u001b[0m\u001b[0;34m.\u001b[0m\u001b[0mplot\u001b[0m\u001b[0;34m(\u001b[0m\u001b[0mcolor\u001b[0m\u001b[0;34m=\u001b[0m\u001b[0;34m[\u001b[0m\u001b[0mcolors\u001b[0m\u001b[0;34m]\u001b[0m\u001b[0;34m,\u001b[0m \u001b[0mkind\u001b[0m\u001b[0;34m=\u001b[0m\u001b[0;34m\"bar\"\u001b[0m\u001b[0;34m,\u001b[0m \u001b[0mfigsize\u001b[0m\u001b[0;34m=\u001b[0m\u001b[0;34m(\u001b[0m\u001b[0;36m20\u001b[0m\u001b[0;34m,\u001b[0m\u001b[0;36m3\u001b[0m\u001b[0;34m)\u001b[0m\u001b[0;34m,\u001b[0m \u001b[0mwidth\u001b[0m\u001b[0;34m=\u001b[0m\u001b[0;36m1.0\u001b[0m\u001b[0;34m,\u001b[0m \u001b[0mlinewidth\u001b[0m\u001b[0;34m=\u001b[0m\u001b[0;36m0\u001b[0m\u001b[0;34m)\u001b[0m\u001b[0;34m\u001b[0m\u001b[0m\n\u001b[0m\u001b[1;32m     19\u001b[0m \u001b[0;31m#plt.savefig(\"New_York.pdf\")\u001b[0m\u001b[0;34m\u001b[0m\u001b[0;34m\u001b[0m\u001b[0m\n",
      "\u001b[0;32m/usr/local/lib/python3.6/site-packages/pandas/core/generic.py\u001b[0m in \u001b[0;36m__getattr__\u001b[0;34m(self, name)\u001b[0m\n\u001b[1;32m   3079\u001b[0m             \u001b[0;32mif\u001b[0m \u001b[0mname\u001b[0m \u001b[0;32min\u001b[0m \u001b[0mself\u001b[0m\u001b[0;34m.\u001b[0m\u001b[0m_info_axis\u001b[0m\u001b[0;34m:\u001b[0m\u001b[0;34m\u001b[0m\u001b[0m\n\u001b[1;32m   3080\u001b[0m                 \u001b[0;32mreturn\u001b[0m \u001b[0mself\u001b[0m\u001b[0;34m[\u001b[0m\u001b[0mname\u001b[0m\u001b[0;34m]\u001b[0m\u001b[0;34m\u001b[0m\u001b[0m\n\u001b[0;32m-> 3081\u001b[0;31m             \u001b[0;32mreturn\u001b[0m \u001b[0mobject\u001b[0m\u001b[0;34m.\u001b[0m\u001b[0m__getattribute__\u001b[0m\u001b[0;34m(\u001b[0m\u001b[0mself\u001b[0m\u001b[0;34m,\u001b[0m \u001b[0mname\u001b[0m\u001b[0;34m)\u001b[0m\u001b[0;34m\u001b[0m\u001b[0m\n\u001b[0m\u001b[1;32m   3082\u001b[0m \u001b[0;34m\u001b[0m\u001b[0m\n\u001b[1;32m   3083\u001b[0m     \u001b[0;32mdef\u001b[0m \u001b[0m__setattr__\u001b[0m\u001b[0;34m(\u001b[0m\u001b[0mself\u001b[0m\u001b[0;34m,\u001b[0m \u001b[0mname\u001b[0m\u001b[0;34m,\u001b[0m \u001b[0mvalue\u001b[0m\u001b[0;34m)\u001b[0m\u001b[0;34m:\u001b[0m\u001b[0;34m\u001b[0m\u001b[0m\n",
      "\u001b[0;31mAttributeError\u001b[0m: 'Series' object has no attribute 'set_index'"
     ]
    }
   ],
   "source": [
    "colormap = {\n",
    "    'USA': '#81D8D0',\n",
    "    'KEN': '#111C1B',\n",
    "    'ITA': '#5B9EFF',\n",
    "    'MEX': '#81D8D0',\n",
    "    'ETH': '#111C1B',\n",
    "    'BRA': '#FF6953',\n",
    "    'RSA': '#111C1B',\n",
    "    'ERI': '#111C1B',\n",
    "    'MAR': '#111C1B',\n",
    "    'NZL': '#FFF93C',\n",
    "    'GBR': '#5B9EFF',\n",
    "    'TAN': '#111C1B'\n",
    "}\n",
    "New_York = New_York.m_country.apply(lambda country: colormap[country])\n",
    "\n",
    "New_York['nothing'] = 4\n",
    "New_York.set_index(\"date\").plot(color=[colors], kind=\"bar\", figsize=(20,3), width=1.0, linewidth=0)\n",
    "#plt.savefig(\"New_York.pdf\")"
   ]
  },
  {
   "cell_type": "code",
   "execution_count": null,
   "metadata": {
    "collapsed": true
   },
   "outputs": [],
   "source": [
    "#USA     14\n",
    "#KEN     13\n",
    "#ITA      6 \n",
    "#MEX      2 \n",
    "#ETH      2 Äthiopien\n",
    "#RSA      2 South Africa\n",
    "#NZL      1\n",
    "#ERI      1 Eritrea\n",
    "#MAR      1 Marocco\n",
    "#GBR      1 \n",
    "#BRA      1\n",
    "#TAN      1\n",
    "\n",
    "#Continents\n",
    "#111C1B dunkel (Africa)\n",
    "#F541C d.orange (Asia) \n",
    "#5B9EFF blau (Europa) \n",
    "#81D8D0 türkis (N. America – bisher)  \n",
    "#FFF93C gelb (Oceanien) \n",
    "#FF6953 S. Amercia \n",
    "\n",
    "# Africa | Asia | Europe | N. America | Oceanien | S. America | \n",
    "#(4C7F7B türkis dunkel) "
   ]
  },
  {
   "cell_type": "code",
   "execution_count": 120,
   "metadata": {},
   "outputs": [
    {
     "data": {
      "text/plain": [
       "<matplotlib.axes._subplots.AxesSubplot at 0x10f7b22e8>"
      ]
     },
     "execution_count": 120,
     "metadata": {},
     "output_type": "execute_result"
    },
    {
     "data": {
      "image/png": "[encoded data removed]",
      "text/plain": [
       "<matplotlib.figure.Figure at 0x10f89f400>"
      ]
     },
     "metadata": {},
     "output_type": "display_data"
    }
   ],
   "source": [
    "#LONDON | Countries | Men – Women\n",
    "fig = plt.figure()\n",
    "ax = fig.add_subplot(121) # hoch/runter\n",
    "ax2 = fig.add_subplot(122) # seitlich\n",
    "London.groupby('m_country')['m_winner'].count().sort_values(ascending=True).plot(title='Men', color='#81D8D0', kind='barh', x='m_winner', ax=ax, y='m_country', figsize=(15,5))\n",
    "London.groupby('f_country')['f_winner'].count().sort_values(ascending=True).plot(title='Women', color='#5B9EFF' ,kind='barh', x='f_winner', ax=ax2, y='m_country', figsize=(15,5))"
   ]
  },
  {
   "cell_type": "code",
   "execution_count": 121,
   "metadata": {},
   "outputs": [
    {
     "data": {
      "text/html": [
       "<div>\n",
       "<style>\n",
       "    .dataframe thead tr:only-child th {\n",
       "        text-align: right;\n",
       "    }\n",
       "\n",
       "    .dataframe thead th {\n",
       "        text-align: left;\n",
       "    }\n",
       "\n",
       "    .dataframe tbody tr th {\n",
       "        vertical-align: top;\n",
       "    }\n",
       "</style>\n",
       "<table border=\"1\" class=\"dataframe\">\n",
       "  <thead>\n",
       "    <tr style=\"text-align: right;\">\n",
       "      <th></th>\n",
       "      <th>date</th>\n",
       "      <th>m_winner</th>\n",
       "      <th>m_country</th>\n",
       "      <th>m_time</th>\n",
       "      <th>f_winner</th>\n",
       "      <th>f_country</th>\n",
       "      <th>f_time</th>\n",
       "      <th>marathon</th>\n",
       "    </tr>\n",
       "  </thead>\n",
       "  <tbody>\n",
       "    <tr>\n",
       "      <th>288</th>\n",
       "      <td>2007</td>\n",
       "      <td>Daniel Njenga</td>\n",
       "      <td>KEN</td>\n",
       "      <td>02:09:45</td>\n",
       "      <td>Hitomi Niiya</td>\n",
       "      <td>JPN</td>\n",
       "      <td>02:31:02</td>\n",
       "      <td>Tokio</td>\n",
       "    </tr>\n",
       "    <tr>\n",
       "      <th>289</th>\n",
       "      <td>2008</td>\n",
       "      <td>Viktor Röthlin</td>\n",
       "      <td>SUI</td>\n",
       "      <td>02:07:23</td>\n",
       "      <td>Claudia Dreher</td>\n",
       "      <td>GER</td>\n",
       "      <td>02:35:35</td>\n",
       "      <td>Tokio</td>\n",
       "    </tr>\n",
       "    <tr>\n",
       "      <th>290</th>\n",
       "      <td>2009</td>\n",
       "      <td>Salim Kipsang</td>\n",
       "      <td>KEN</td>\n",
       "      <td>02:10:27</td>\n",
       "      <td>Mizuho Nasukawa</td>\n",
       "      <td>JPN</td>\n",
       "      <td>02:25:38</td>\n",
       "      <td>Tokio</td>\n",
       "    </tr>\n",
       "    <tr>\n",
       "      <th>291</th>\n",
       "      <td>2010</td>\n",
       "      <td>Masakazu Fujiwara</td>\n",
       "      <td>JPN</td>\n",
       "      <td>02:12:19</td>\n",
       "      <td>Alevtina Biktimirova</td>\n",
       "      <td>RUS</td>\n",
       "      <td>02:34:39</td>\n",
       "      <td>Tokio</td>\n",
       "    </tr>\n",
       "    <tr>\n",
       "      <th>292</th>\n",
       "      <td>2011</td>\n",
       "      <td>Hailu Mekonnen</td>\n",
       "      <td>ETH</td>\n",
       "      <td>02:07:35</td>\n",
       "      <td>Noriko Higuchi [8]</td>\n",
       "      <td>JPN</td>\n",
       "      <td>02:28:49</td>\n",
       "      <td>Tokio</td>\n",
       "    </tr>\n",
       "  </tbody>\n",
       "</table>\n",
       "</div>"
      ],
      "text/plain": [
       "     date           m_winner m_country    m_time              f_winner  \\\n",
       "288  2007      Daniel Njenga       KEN  02:09:45          Hitomi Niiya   \n",
       "289  2008     Viktor Röthlin       SUI  02:07:23        Claudia Dreher   \n",
       "290  2009      Salim Kipsang       KEN  02:10:27       Mizuho Nasukawa   \n",
       "291  2010  Masakazu Fujiwara       JPN  02:12:19  Alevtina Biktimirova   \n",
       "292  2011     Hailu Mekonnen       ETH  02:07:35    Noriko Higuchi [8]   \n",
       "\n",
       "    f_country    f_time marathon  \n",
       "288       JPN  02:31:02    Tokio  \n",
       "289       GER  02:35:35    Tokio  \n",
       "290       JPN  02:25:38    Tokio  \n",
       "291       RUS  02:34:39    Tokio  \n",
       "292       JPN  02:28:49    Tokio  "
      ]
     },
     "execution_count": 121,
     "metadata": {},
     "output_type": "execute_result"
    }
   ],
   "source": [
    "Tokio = wmm_marathons[wmm_marathons['marathon'] == 'Tokio']\n",
    "Tokio.head()"
   ]
  },
  {
   "cell_type": "code",
   "execution_count": 122,
   "metadata": {
    "scrolled": true
   },
   "outputs": [
    {
     "data": {
      "text/plain": [
       "<matplotlib.axes._subplots.AxesSubplot at 0x10fc5ca20>"
      ]
     },
     "execution_count": 122,
     "metadata": {},
     "output_type": "execute_result"
    },
    {
     "data": {
      "image/png": "[encoded data removed]",
      "text/plain": [
       "<matplotlib.figure.Figure at 0x10fc42208>"
      ]
     },
     "metadata": {},
     "output_type": "display_data"
    }
   ],
   "source": [
    "#TOKIO | Countries | Men – Women\n",
    "fig = plt.figure()\n",
    "ax = fig.add_subplot(121) # hoch/runter\n",
    "ax2 = fig.add_subplot(122) # seitlich\n",
    "Tokio.groupby('m_country')['m_winner'].count().sort_values(ascending=True).plot(title='Men', color='#81D8D0', kind='barh', x='m_winner', ax=ax, y='m_country', figsize=(15,5))\n",
    "Tokio.groupby('f_country')['f_winner'].count().sort_values(ascending=True).plot(title='Women', color='#5B9EFF' ,kind='barh', x='f_winner', ax=ax2, y='m_country', figsize=(15,5))"
   ]
  },
  {
   "cell_type": "code",
   "execution_count": 123,
   "metadata": {},
   "outputs": [
    {
     "data": {
      "text/html": [
       "<div>\n",
       "<style>\n",
       "    .dataframe thead tr:only-child th {\n",
       "        text-align: right;\n",
       "    }\n",
       "\n",
       "    .dataframe thead th {\n",
       "        text-align: left;\n",
       "    }\n",
       "\n",
       "    .dataframe tbody tr th {\n",
       "        vertical-align: top;\n",
       "    }\n",
       "</style>\n",
       "<table border=\"1\" class=\"dataframe\">\n",
       "  <thead>\n",
       "    <tr style=\"text-align: right;\">\n",
       "      <th></th>\n",
       "      <th>date</th>\n",
       "      <th>m_winner</th>\n",
       "      <th>m_country</th>\n",
       "      <th>m_time</th>\n",
       "      <th>f_winner</th>\n",
       "      <th>f_country</th>\n",
       "      <th>f_time</th>\n",
       "      <th>marathon</th>\n",
       "    </tr>\n",
       "  </thead>\n",
       "  <tbody>\n",
       "    <tr>\n",
       "      <th>0</th>\n",
       "      <td>1970</td>\n",
       "      <td>Gary Muhrcke</td>\n",
       "      <td>USA</td>\n",
       "      <td>02:31:39</td>\n",
       "      <td>NaN</td>\n",
       "      <td>NaN</td>\n",
       "      <td>NaN</td>\n",
       "      <td>New York</td>\n",
       "    </tr>\n",
       "    <tr>\n",
       "      <th>1</th>\n",
       "      <td>1971</td>\n",
       "      <td>Norm Higgins</td>\n",
       "      <td>USA</td>\n",
       "      <td>02:22:54</td>\n",
       "      <td>Beth Bonner</td>\n",
       "      <td>USA</td>\n",
       "      <td>02:55:22</td>\n",
       "      <td>New York</td>\n",
       "    </tr>\n",
       "    <tr>\n",
       "      <th>2</th>\n",
       "      <td>1972</td>\n",
       "      <td>Sheldon Karlin</td>\n",
       "      <td>USA</td>\n",
       "      <td>02:27:52</td>\n",
       "      <td>Nina Kuscsik</td>\n",
       "      <td>USA</td>\n",
       "      <td>03:08:41</td>\n",
       "      <td>New York</td>\n",
       "    </tr>\n",
       "    <tr>\n",
       "      <th>3</th>\n",
       "      <td>1973</td>\n",
       "      <td>Tom Fleming</td>\n",
       "      <td>USA</td>\n",
       "      <td>02:21:55</td>\n",
       "      <td>Nina Kuscsik</td>\n",
       "      <td>USA</td>\n",
       "      <td>02:57:08</td>\n",
       "      <td>New York</td>\n",
       "    </tr>\n",
       "    <tr>\n",
       "      <th>4</th>\n",
       "      <td>1974</td>\n",
       "      <td>Norbert Sander</td>\n",
       "      <td>USA</td>\n",
       "      <td>02:26:31</td>\n",
       "      <td>Kathrine Switzer</td>\n",
       "      <td>USA</td>\n",
       "      <td>03:07:29</td>\n",
       "      <td>New York</td>\n",
       "    </tr>\n",
       "  </tbody>\n",
       "</table>\n",
       "</div>"
      ],
      "text/plain": [
       "   date        m_winner m_country    m_time          f_winner f_country  \\\n",
       "0  1970    Gary Muhrcke       USA  02:31:39               NaN       NaN   \n",
       "1  1971    Norm Higgins       USA  02:22:54       Beth Bonner       USA   \n",
       "2  1972  Sheldon Karlin       USA  02:27:52      Nina Kuscsik       USA   \n",
       "3  1973     Tom Fleming       USA  02:21:55      Nina Kuscsik       USA   \n",
       "4  1974  Norbert Sander       USA  02:26:31  Kathrine Switzer       USA   \n",
       "\n",
       "     f_time  marathon  \n",
       "0       NaN  New York  \n",
       "1  02:55:22  New York  \n",
       "2  03:08:41  New York  \n",
       "3  02:57:08  New York  \n",
       "4  03:07:29  New York  "
      ]
     },
     "execution_count": 123,
     "metadata": {},
     "output_type": "execute_result"
    }
   ],
   "source": [
    "wmm_marathons.head()"
   ]
  },
  {
   "cell_type": "code",
   "execution_count": 124,
   "metadata": {},
   "outputs": [
    {
     "data": {
      "text/plain": [
       "<matplotlib.axes._subplots.AxesSubplot at 0x10fec0710>"
      ]
     },
     "execution_count": 124,
     "metadata": {},
     "output_type": "execute_result"
    },
    {
     "data": {
      "image/png": "[encoded data removed]",
      "text/plain": [
       "<matplotlib.figure.Figure at 0x10fecef60>"
      ]
     },
     "metadata": {},
     "output_type": "display_data"
    }
   ],
   "source": [
    "#ALL MARATHONS together\n",
    "fig = plt.figure()\n",
    "ax = fig.add_subplot(121) # hoch/runter\n",
    "ax2 = fig.add_subplot(122) # seitlich\n",
    "wmm_marathons.groupby('m_country')['m_country'].count().sort_values(ascending=True).plot(kind='barh', ax=ax, color='#81D8D0',figsize=(16,7))\n",
    "wmm_marathons.groupby('f_country')['f_country'].count().sort_values(ascending=True).plot(kind='barh', ax=ax2, color='#5B9EFF',figsize=(16,7))"
   ]
  },
  {
   "cell_type": "code",
   "execution_count": 131,
   "metadata": {},
   "outputs": [
    {
     "data": {
      "text/plain": [
       "<matplotlib.axes._subplots.AxesSubplot at 0x1109c8320>"
      ]
     },
     "execution_count": 131,
     "metadata": {},
     "output_type": "execute_result"
    },
    {
     "data": {
      "image/png": "[encoded data removed]",
      "text/plain": [
       "<matplotlib.figure.Figure at 0x110980630>"
      ]
     },
     "metadata": {},
     "output_type": "display_data"
    }
   ],
   "source": [
    "wmm_marathons['nothing'] = 4\n",
    "wmm_marathons.set_index(\"date\").plot(color=\"black\", kind=\"bar\", width=1.0, figsize=(20,4))"
   ]
  },
  {
   "cell_type": "code",
   "execution_count": 134,
   "metadata": {},
   "outputs": [
    {
     "ename": "KeyError",
     "evalue": "' BRA'",
     "output_type": "error",
     "traceback": [
      "\u001b[0;31m---------------------------------------------------------------------------\u001b[0m",
      "\u001b[0;31mKeyError\u001b[0m                                  Traceback (most recent call last)",
      "\u001b[0;32m<ipython-input-134-aaf9b26fb0c4>\u001b[0m in \u001b[0;36m<module>\u001b[0;34m()\u001b[0m\n\u001b[1;32m     35\u001b[0m \u001b[0;34m\u001b[0m\u001b[0m\n\u001b[1;32m     36\u001b[0m }\n\u001b[0;32m---> 37\u001b[0;31m \u001b[0mcolors\u001b[0m \u001b[0;34m=\u001b[0m \u001b[0mwmm_marathons\u001b[0m\u001b[0;34m.\u001b[0m\u001b[0mm_country\u001b[0m\u001b[0;34m.\u001b[0m\u001b[0mapply\u001b[0m\u001b[0;34m(\u001b[0m\u001b[0;32mlambda\u001b[0m \u001b[0mcountry\u001b[0m\u001b[0;34m:\u001b[0m \u001b[0mcolormap\u001b[0m\u001b[0;34m[\u001b[0m\u001b[0mcountry\u001b[0m\u001b[0;34m]\u001b[0m\u001b[0;34m)\u001b[0m\u001b[0;34m\u001b[0m\u001b[0m\n\u001b[0m\u001b[1;32m     38\u001b[0m \u001b[0;34m\u001b[0m\u001b[0m\n\u001b[1;32m     39\u001b[0m \u001b[0mLondon\u001b[0m\u001b[0;34m[\u001b[0m\u001b[0;34m'nothing'\u001b[0m\u001b[0;34m]\u001b[0m \u001b[0;34m=\u001b[0m \u001b[0;36m4\u001b[0m\u001b[0;34m\u001b[0m\u001b[0m\n",
      "\u001b[0;32m/usr/local/lib/python3.6/site-packages/pandas/core/series.py\u001b[0m in \u001b[0;36mapply\u001b[0;34m(self, func, convert_dtype, args, **kwds)\u001b[0m\n\u001b[1;32m   2353\u001b[0m             \u001b[0;32melse\u001b[0m\u001b[0;34m:\u001b[0m\u001b[0;34m\u001b[0m\u001b[0m\n\u001b[1;32m   2354\u001b[0m                 \u001b[0mvalues\u001b[0m \u001b[0;34m=\u001b[0m \u001b[0mself\u001b[0m\u001b[0;34m.\u001b[0m\u001b[0masobject\u001b[0m\u001b[0;34m\u001b[0m\u001b[0m\n\u001b[0;32m-> 2355\u001b[0;31m                 \u001b[0mmapped\u001b[0m \u001b[0;34m=\u001b[0m \u001b[0mlib\u001b[0m\u001b[0;34m.\u001b[0m\u001b[0mmap_infer\u001b[0m\u001b[0;34m(\u001b[0m\u001b[0mvalues\u001b[0m\u001b[0;34m,\u001b[0m \u001b[0mf\u001b[0m\u001b[0;34m,\u001b[0m \u001b[0mconvert\u001b[0m\u001b[0;34m=\u001b[0m\u001b[0mconvert_dtype\u001b[0m\u001b[0;34m)\u001b[0m\u001b[0;34m\u001b[0m\u001b[0m\n\u001b[0m\u001b[1;32m   2356\u001b[0m \u001b[0;34m\u001b[0m\u001b[0m\n\u001b[1;32m   2357\u001b[0m         \u001b[0;32mif\u001b[0m \u001b[0mlen\u001b[0m\u001b[0;34m(\u001b[0m\u001b[0mmapped\u001b[0m\u001b[0;34m)\u001b[0m \u001b[0;32mand\u001b[0m \u001b[0misinstance\u001b[0m\u001b[0;34m(\u001b[0m\u001b[0mmapped\u001b[0m\u001b[0;34m[\u001b[0m\u001b[0;36m0\u001b[0m\u001b[0;34m]\u001b[0m\u001b[0;34m,\u001b[0m \u001b[0mSeries\u001b[0m\u001b[0;34m)\u001b[0m\u001b[0;34m:\u001b[0m\u001b[0;34m\u001b[0m\u001b[0m\n",
      "\u001b[0;32mpandas/_libs/src/inference.pyx\u001b[0m in \u001b[0;36mpandas._libs.lib.map_infer (pandas/_libs/lib.c:66645)\u001b[0;34m()\u001b[0m\n",
      "\u001b[0;32m<ipython-input-134-aaf9b26fb0c4>\u001b[0m in \u001b[0;36m<lambda>\u001b[0;34m(country)\u001b[0m\n\u001b[1;32m     35\u001b[0m \u001b[0;34m\u001b[0m\u001b[0m\n\u001b[1;32m     36\u001b[0m }\n\u001b[0;32m---> 37\u001b[0;31m \u001b[0mcolors\u001b[0m \u001b[0;34m=\u001b[0m \u001b[0mwmm_marathons\u001b[0m\u001b[0;34m.\u001b[0m\u001b[0mm_country\u001b[0m\u001b[0;34m.\u001b[0m\u001b[0mapply\u001b[0m\u001b[0;34m(\u001b[0m\u001b[0;32mlambda\u001b[0m \u001b[0mcountry\u001b[0m\u001b[0;34m:\u001b[0m \u001b[0mcolormap\u001b[0m\u001b[0;34m[\u001b[0m\u001b[0mcountry\u001b[0m\u001b[0;34m]\u001b[0m\u001b[0;34m)\u001b[0m\u001b[0;34m\u001b[0m\u001b[0m\n\u001b[0m\u001b[1;32m     38\u001b[0m \u001b[0;34m\u001b[0m\u001b[0m\n\u001b[1;32m     39\u001b[0m \u001b[0mLondon\u001b[0m\u001b[0;34m[\u001b[0m\u001b[0;34m'nothing'\u001b[0m\u001b[0;34m]\u001b[0m \u001b[0;34m=\u001b[0m \u001b[0;36m4\u001b[0m\u001b[0;34m\u001b[0m\u001b[0m\n",
      "\u001b[0;31mKeyError\u001b[0m: ' BRA'"
     ]
    }
   ],
   "source": [
    "colormap = {\n",
    "    'KEN': 'black',\n",
    "    'USA': '#66c2a5',\n",
    "    'ETH': 'grey',\n",
    "    'GBR': 'grey',\n",
    "    'CAN': 'grey',\n",
    "    'JPN': 'grey',\n",
    "    'GER': 'grey',\n",
    "    'FIN': 'grey',\n",
    "    'ITA': 'grey',\n",
    "    'MAR': 'grey',\n",
    "    'BRA': 'grey',\n",
    "    'MEX': 'grey',\n",
    "    'RSA': 'grey',\n",
    "    'TAN': 'grey',\n",
    "    'KOR': 'grey',\n",
    "    'BEL': 'grey',\n",
    "    'NZL': 'grey',\n",
    "    'COL': 'grey',\n",
    "    'ESP': 'grey',\n",
    "    'DEN': 'grey',\n",
    "    'GRE': 'grey',\n",
    "    'AUS': 'grey',\n",
    "    'ERI': 'grey',\n",
    "    'YUG': 'grey',\n",
    "    'GUA': 'grey',\n",
    "    'IRL': 'grey',\n",
    "    'NOR': 'grey',\n",
    "    'POL': 'grey',\n",
    "    'RUS': 'grey',\n",
    "    'SUI': 'grey',\n",
    "    'SWE': 'grey',\n",
    "    'BRA': 'grey'\n",
    "    \n",
    "    \n",
    "}\n",
    "colors = wmm_marathons.m_country.apply(lambda country: colormap[country])\n",
    "\n",
    "London['nothing'] = 4\n",
    "London.set_index(\"date\").plot(color=[colors], kind=\"bar\", figsize=(20,3), width=1.0, linewidth=0)\n",
    "\n",
    "#KEN    13\n",
    "#GBR     8\n",
    "#ETH     3\n",
    "#POR     3\n",
    "#JPN     2\n",
    "#MAR     2\n",
    "#MEX     1\n",
    "#DEN     1\n",
    "#NOR     1\n",
    "#USA     1\n",
    "#ESP     1\n",
    "#RUS     1\n",
    "#Name: m_country, dtype: int64"
   ]
  },
  {
   "cell_type": "code",
   "execution_count": 135,
   "metadata": {},
   "outputs": [
    {
     "data": {
      "text/plain": [
       "0      USA\n",
       "1      USA\n",
       "2      USA\n",
       "3      USA\n",
       "4      USA\n",
       "5      USA\n",
       "6      USA\n",
       "7      USA\n",
       "8      USA\n",
       "9      USA\n",
       "10     USA\n",
       "11     USA\n",
       "12     USA\n",
       "13     NZL\n",
       "14     ITA\n",
       "15     ITA\n",
       "16     ITA\n",
       "17     KEN\n",
       "18     GBR\n",
       "19     TAN\n",
       "20     KEN\n",
       "21     MEX\n",
       "22     RSA\n",
       "23     MEX\n",
       "24     ITA\n",
       "25     ITA\n",
       "26     ITA\n",
       "27     KEN\n",
       "28     KEN\n",
       "29     KEN\n",
       "      ... \n",
       "269    MAR\n",
       "270    POR\n",
       "271    MAR\n",
       "272    USA\n",
       "273    ETH\n",
       "274    KEN\n",
       "275    KEN\n",
       "276    KEN\n",
       "277    KEN\n",
       "278    KEN\n",
       "279    KEN\n",
       "280    ETH\n",
       "281    KEN\n",
       "282    KEN\n",
       "283    ETH\n",
       "284    KEN\n",
       "285    KEN\n",
       "286    KEN\n",
       "287    KEN\n",
       "288    KEN\n",
       "289    SUI\n",
       "290    KEN\n",
       "291    JPN\n",
       "292    ETH\n",
       "293    KEN\n",
       "294    KEN\n",
       "295    KEN\n",
       "296    ETH\n",
       "297    ETH\n",
       "298    KEN\n",
       "Name: m_country, Length: 299, dtype: object"
      ]
     },
     "execution_count": 135,
     "metadata": {},
     "output_type": "execute_result"
    }
   ],
   "source": [
    "wmm_marathons['m_country']"
   ]
  },
  {
   "cell_type": "code",
   "execution_count": 125,
   "metadata": {},
   "outputs": [
    {
     "data": {
      "text/plain": [
       "<matplotlib.axes._subplots.AxesSubplot at 0x1102d6b38>"
      ]
     },
     "execution_count": 125,
     "metadata": {},
     "output_type": "execute_result"
    },
    {
     "data": {
      "image/png": "[encoded data removed]",
      "text/plain": [
       "<matplotlib.figure.Figure at 0x1100e8a58>"
      ]
     },
     "metadata": {},
     "output_type": "display_data"
    }
   ],
   "source": [
    "#NEW YORK | Countries | Men – Women\n",
    "fig = plt.figure()\n",
    "ax = fig.add_subplot(121) # hoch/runter\n",
    "ax2 = fig.add_subplot(122) # seitlich\n",
    "New_York.groupby('m_country')['m_winner'].count().sort_values(ascending=True).plot(title='Men', color='#81D8D0', kind='barh', x='m_winner', ax=ax, y='m_country', figsize=(15,5))\n",
    "New_York.groupby('f_country')['f_winner'].count().sort_values(ascending=True).plot(title='Women', color='#5B9EFF' ,kind='barh', x='f_winner', ax=ax2, y='m_country', figsize=(15,5))"
   ]
  },
  {
   "cell_type": "code",
   "execution_count": 126,
   "metadata": {},
   "outputs": [
    {
     "data": {
      "text/plain": [
       "<matplotlib.axes._subplots.AxesSubplot at 0x1101cf9b0>"
      ]
     },
     "execution_count": 126,
     "metadata": {},
     "output_type": "execute_result"
    }
   ],
   "source": [
    "New_York.groupby('m_country')['m_winner'].count().sort_values(ascending=True).plot(title='Men', color='#81D8D0', kind='barh', x='m_winner', ax=ax, y='m_country', figsize=(15,5))\n",
    "#New_York['m_country'].plot(color='#81D8D0', kind='barh', figsize=(18,15))\n",
    "#df_marathon_ny['m_starter'].plot(color='#81D8D0', ax=ax, position=0, kind='barh', figsize=(18,15), label='men starter')\n"
   ]
  },
  {
   "cell_type": "code",
   "execution_count": 127,
   "metadata": {},
   "outputs": [
    {
     "data": {
      "text/plain": [
       "0    USA\n",
       "1    USA\n",
       "2    USA\n",
       "3    USA\n",
       "4    USA\n",
       "Name: m_country, dtype: object"
      ]
     },
     "execution_count": 127,
     "metadata": {},
     "output_type": "execute_result"
    }
   ],
   "source": [
    "NY_m_country = New_York['m_country']\n",
    "NY_m_country.head()"
   ]
  }
 ],
 "metadata": {
  "kernelspec": {
   "display_name": "Python 3",
   "language": "python",
   "name": "python3"
  },
  "language_info": {
   "codemirror_mode": {
    "name": "ipython",
    "version": 3
   },
   "file_extension": ".py",
   "mimetype": "text/x-python",
   "name": "python",
   "nbconvert_exporter": "python",
   "pygments_lexer": "ipython3",
   "version": "3.6.1"
  }
 },
 "nbformat": 4,
 "nbformat_minor": 2
}
