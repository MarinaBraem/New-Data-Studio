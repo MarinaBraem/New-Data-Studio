{
 "cells": [
  {
   "cell_type": "markdown",
   "metadata": {},
   "source": [
    "\n",
    ">http://www.olympische-flamme.de/web_files/docs/nation_abbs.html\n",
    "http://www.avg-seco.admin.ch/WebVerzeichnis/bilder/Laendertabelle_D.pdf"
   ]
  },
  {
   "cell_type": "code",
   "execution_count": 224,
   "metadata": {
    "collapsed": true
   },
   "outputs": [],
   "source": [
    "%matplotlib inline\n",
    "import pandas as pd\n",
    "import geopandas as gpd\n",
    "from shapely.geometry import Point\n",
    "import matplotlib.pyplot as plt\n",
    "import numpy as np\n",
    "\n",
    "import matplotlib\n",
    "matplotlib.rcParams['pdf.fonttype'] = 42\n",
    "import matplotlib.pyplot as pyplot"
   ]
  },
  {
   "cell_type": "code",
   "execution_count": 225,
   "metadata": {
    "collapsed": true
   },
   "outputs": [],
   "source": [
    "import matplotlib\n",
    "matplotlib.style.use('ggplot')"
   ]
  },
  {
   "cell_type": "code",
   "execution_count": 226,
   "metadata": {},
   "outputs": [
    {
     "data": {
      "text/html": [
       "<div>\n",
       "<style>\n",
       "    .dataframe thead tr:only-child th {\n",
       "        text-align: right;\n",
       "    }\n",
       "\n",
       "    .dataframe thead th {\n",
       "        text-align: left;\n",
       "    }\n",
       "\n",
       "    .dataframe tbody tr th {\n",
       "        vertical-align: top;\n",
       "    }\n",
       "</style>\n",
       "<table border=\"1\" class=\"dataframe\">\n",
       "  <thead>\n",
       "    <tr style=\"text-align: right;\">\n",
       "      <th></th>\n",
       "      <th>date</th>\n",
       "      <th>m_winner</th>\n",
       "      <th>m_country</th>\n",
       "      <th>m_time</th>\n",
       "      <th>f_winner</th>\n",
       "      <th>f_country</th>\n",
       "      <th>f_time</th>\n",
       "      <th>marathon</th>\n",
       "    </tr>\n",
       "  </thead>\n",
       "  <tbody>\n",
       "    <tr>\n",
       "      <th>0</th>\n",
       "      <td>1970</td>\n",
       "      <td>Gary Muhrcke</td>\n",
       "      <td>USA</td>\n",
       "      <td>02:31:39</td>\n",
       "      <td>NaN</td>\n",
       "      <td>NaN</td>\n",
       "      <td>NaN</td>\n",
       "      <td>New York</td>\n",
       "    </tr>\n",
       "    <tr>\n",
       "      <th>1</th>\n",
       "      <td>1971</td>\n",
       "      <td>Norm Higgins</td>\n",
       "      <td>USA</td>\n",
       "      <td>02:22:54</td>\n",
       "      <td>Beth Bonner</td>\n",
       "      <td>USA</td>\n",
       "      <td>02:55:22</td>\n",
       "      <td>New York</td>\n",
       "    </tr>\n",
       "    <tr>\n",
       "      <th>2</th>\n",
       "      <td>1972</td>\n",
       "      <td>Sheldon Karlin</td>\n",
       "      <td>USA</td>\n",
       "      <td>02:27:52</td>\n",
       "      <td>Nina Kuscsik</td>\n",
       "      <td>USA</td>\n",
       "      <td>03:08:41</td>\n",
       "      <td>New York</td>\n",
       "    </tr>\n",
       "    <tr>\n",
       "      <th>3</th>\n",
       "      <td>1973</td>\n",
       "      <td>Tom Fleming</td>\n",
       "      <td>USA</td>\n",
       "      <td>02:21:55</td>\n",
       "      <td>Nina Kuscsik</td>\n",
       "      <td>USA</td>\n",
       "      <td>02:57:08</td>\n",
       "      <td>New York</td>\n",
       "    </tr>\n",
       "    <tr>\n",
       "      <th>4</th>\n",
       "      <td>1974</td>\n",
       "      <td>Norbert Sander</td>\n",
       "      <td>USA</td>\n",
       "      <td>02:26:31</td>\n",
       "      <td>Kathrine Switzer</td>\n",
       "      <td>USA</td>\n",
       "      <td>03:07:29</td>\n",
       "      <td>New York</td>\n",
       "    </tr>\n",
       "  </tbody>\n",
       "</table>\n",
       "</div>"
      ],
      "text/plain": [
       "   date        m_winner m_country    m_time          f_winner f_country  \\\n",
       "0  1970    Gary Muhrcke       USA  02:31:39               NaN       NaN   \n",
       "1  1971    Norm Higgins       USA  02:22:54       Beth Bonner       USA   \n",
       "2  1972  Sheldon Karlin       USA  02:27:52      Nina Kuscsik       USA   \n",
       "3  1973     Tom Fleming       USA  02:21:55      Nina Kuscsik       USA   \n",
       "4  1974  Norbert Sander       USA  02:26:31  Kathrine Switzer       USA   \n",
       "\n",
       "     f_time  marathon  \n",
       "0       NaN  New York  \n",
       "1  02:55:22  New York  \n",
       "2  03:08:41  New York  \n",
       "3  02:57:08  New York  \n",
       "4  03:07:29  New York  "
      ]
     },
     "execution_count": 226,
     "metadata": {},
     "output_type": "execute_result"
    }
   ],
   "source": [
    "wmm_marathons = pd.read_csv(\"All_winners_marathons.csv\")\n",
    "wmm_marathons.head()"
   ]
  },
  {
   "cell_type": "code",
   "execution_count": 227,
   "metadata": {},
   "outputs": [
    {
     "data": {
      "text/html": [
       "<div>\n",
       "<style>\n",
       "    .dataframe thead tr:only-child th {\n",
       "        text-align: right;\n",
       "    }\n",
       "\n",
       "    .dataframe thead th {\n",
       "        text-align: left;\n",
       "    }\n",
       "\n",
       "    .dataframe tbody tr th {\n",
       "        vertical-align: top;\n",
       "    }\n",
       "</style>\n",
       "<table border=\"1\" class=\"dataframe\">\n",
       "  <thead>\n",
       "    <tr style=\"text-align: right;\">\n",
       "      <th></th>\n",
       "      <th>date</th>\n",
       "      <th>m_winner</th>\n",
       "      <th>m_country</th>\n",
       "      <th>m_time</th>\n",
       "      <th>f_winner</th>\n",
       "      <th>f_country</th>\n",
       "      <th>f_time</th>\n",
       "      <th>marathon</th>\n",
       "    </tr>\n",
       "  </thead>\n",
       "  <tbody>\n",
       "    <tr>\n",
       "      <th>0</th>\n",
       "      <td>1970</td>\n",
       "      <td>Gary Muhrcke</td>\n",
       "      <td>USA</td>\n",
       "      <td>02:31:39</td>\n",
       "      <td>NaN</td>\n",
       "      <td>NaN</td>\n",
       "      <td>NaN</td>\n",
       "      <td>New York</td>\n",
       "    </tr>\n",
       "    <tr>\n",
       "      <th>1</th>\n",
       "      <td>1971</td>\n",
       "      <td>Norm Higgins</td>\n",
       "      <td>USA</td>\n",
       "      <td>02:22:54</td>\n",
       "      <td>Beth Bonner</td>\n",
       "      <td>USA</td>\n",
       "      <td>02:55:22</td>\n",
       "      <td>New York</td>\n",
       "    </tr>\n",
       "    <tr>\n",
       "      <th>2</th>\n",
       "      <td>1972</td>\n",
       "      <td>Sheldon Karlin</td>\n",
       "      <td>USA</td>\n",
       "      <td>02:27:52</td>\n",
       "      <td>Nina Kuscsik</td>\n",
       "      <td>USA</td>\n",
       "      <td>03:08:41</td>\n",
       "      <td>New York</td>\n",
       "    </tr>\n",
       "    <tr>\n",
       "      <th>3</th>\n",
       "      <td>1973</td>\n",
       "      <td>Tom Fleming</td>\n",
       "      <td>USA</td>\n",
       "      <td>02:21:55</td>\n",
       "      <td>Nina Kuscsik</td>\n",
       "      <td>USA</td>\n",
       "      <td>02:57:08</td>\n",
       "      <td>New York</td>\n",
       "    </tr>\n",
       "    <tr>\n",
       "      <th>4</th>\n",
       "      <td>1974</td>\n",
       "      <td>Norbert Sander</td>\n",
       "      <td>USA</td>\n",
       "      <td>02:26:31</td>\n",
       "      <td>Kathrine Switzer</td>\n",
       "      <td>USA</td>\n",
       "      <td>03:07:29</td>\n",
       "      <td>New York</td>\n",
       "    </tr>\n",
       "  </tbody>\n",
       "</table>\n",
       "</div>"
      ],
      "text/plain": [
       "   date        m_winner m_country    m_time          f_winner f_country  \\\n",
       "0  1970    Gary Muhrcke       USA  02:31:39               NaN       NaN   \n",
       "1  1971    Norm Higgins       USA  02:22:54       Beth Bonner       USA   \n",
       "2  1972  Sheldon Karlin       USA  02:27:52      Nina Kuscsik       USA   \n",
       "3  1973     Tom Fleming       USA  02:21:55      Nina Kuscsik       USA   \n",
       "4  1974  Norbert Sander       USA  02:26:31  Kathrine Switzer       USA   \n",
       "\n",
       "     f_time  marathon  \n",
       "0       NaN  New York  \n",
       "1  02:55:22  New York  \n",
       "2  03:08:41  New York  \n",
       "3  02:57:08  New York  \n",
       "4  03:07:29  New York  "
      ]
     },
     "execution_count": 227,
     "metadata": {},
     "output_type": "execute_result"
    }
   ],
   "source": [
    "New_York = wmm_marathons[wmm_marathons['marathon'] == 'New York']\n",
    "New_York.head()#.loc[100]"
   ]
  },
  {
   "cell_type": "code",
   "execution_count": 228,
   "metadata": {},
   "outputs": [
    {
     "data": {
      "text/plain": [
       "USA    14\n",
       "KEN    13\n",
       "ITA     6\n",
       "MEX     2\n",
       "ETH     2\n",
       "BRA     2\n",
       "RSA     2\n",
       "ERI     1\n",
       "MAR     1\n",
       "NZL     1\n",
       "GBR     1\n",
       "TAN     1\n",
       "Name: m_country, dtype: int64"
      ]
     },
     "execution_count": 228,
     "metadata": {},
     "output_type": "execute_result"
    }
   ],
   "source": [
    "New_York.m_country.value_counts()"
   ]
  },
  {
   "cell_type": "code",
   "execution_count": 229,
   "metadata": {},
   "outputs": [
    {
     "data": {
      "text/html": [
       "<div>\n",
       "<style>\n",
       "    .dataframe thead tr:only-child th {\n",
       "        text-align: right;\n",
       "    }\n",
       "\n",
       "    .dataframe thead th {\n",
       "        text-align: left;\n",
       "    }\n",
       "\n",
       "    .dataframe tbody tr th {\n",
       "        vertical-align: top;\n",
       "    }\n",
       "</style>\n",
       "<table border=\"1\" class=\"dataframe\">\n",
       "  <thead>\n",
       "    <tr style=\"text-align: right;\">\n",
       "      <th></th>\n",
       "      <th>date</th>\n",
       "      <th>m_winner</th>\n",
       "      <th>m_country</th>\n",
       "      <th>m_time</th>\n",
       "      <th>f_winner</th>\n",
       "      <th>f_country</th>\n",
       "      <th>f_time</th>\n",
       "      <th>marathon</th>\n",
       "    </tr>\n",
       "  </thead>\n",
       "  <tbody>\n",
       "    <tr>\n",
       "      <th>0</th>\n",
       "      <td>1970</td>\n",
       "      <td>Gary Muhrcke</td>\n",
       "      <td>USA</td>\n",
       "      <td>02:31:39</td>\n",
       "      <td>NaN</td>\n",
       "      <td>NaN</td>\n",
       "      <td>NaN</td>\n",
       "      <td>New York</td>\n",
       "    </tr>\n",
       "    <tr>\n",
       "      <th>1</th>\n",
       "      <td>1971</td>\n",
       "      <td>Norm Higgins</td>\n",
       "      <td>USA</td>\n",
       "      <td>02:22:54</td>\n",
       "      <td>Beth Bonner</td>\n",
       "      <td>USA</td>\n",
       "      <td>02:55:22</td>\n",
       "      <td>New York</td>\n",
       "    </tr>\n",
       "    <tr>\n",
       "      <th>2</th>\n",
       "      <td>1972</td>\n",
       "      <td>Sheldon Karlin</td>\n",
       "      <td>USA</td>\n",
       "      <td>02:27:52</td>\n",
       "      <td>Nina Kuscsik</td>\n",
       "      <td>USA</td>\n",
       "      <td>03:08:41</td>\n",
       "      <td>New York</td>\n",
       "    </tr>\n",
       "    <tr>\n",
       "      <th>3</th>\n",
       "      <td>1973</td>\n",
       "      <td>Tom Fleming</td>\n",
       "      <td>USA</td>\n",
       "      <td>02:21:55</td>\n",
       "      <td>Nina Kuscsik</td>\n",
       "      <td>USA</td>\n",
       "      <td>02:57:08</td>\n",
       "      <td>New York</td>\n",
       "    </tr>\n",
       "    <tr>\n",
       "      <th>4</th>\n",
       "      <td>1974</td>\n",
       "      <td>Norbert Sander</td>\n",
       "      <td>USA</td>\n",
       "      <td>02:26:31</td>\n",
       "      <td>Kathrine Switzer</td>\n",
       "      <td>USA</td>\n",
       "      <td>03:07:29</td>\n",
       "      <td>New York</td>\n",
       "    </tr>\n",
       "  </tbody>\n",
       "</table>\n",
       "</div>"
      ],
      "text/plain": [
       "   date        m_winner m_country    m_time          f_winner f_country  \\\n",
       "0  1970    Gary Muhrcke       USA  02:31:39               NaN       NaN   \n",
       "1  1971    Norm Higgins       USA  02:22:54       Beth Bonner       USA   \n",
       "2  1972  Sheldon Karlin       USA  02:27:52      Nina Kuscsik       USA   \n",
       "3  1973     Tom Fleming       USA  02:21:55      Nina Kuscsik       USA   \n",
       "4  1974  Norbert Sander       USA  02:26:31  Kathrine Switzer       USA   \n",
       "\n",
       "     f_time  marathon  \n",
       "0       NaN  New York  \n",
       "1  02:55:22  New York  \n",
       "2  03:08:41  New York  \n",
       "3  02:57:08  New York  \n",
       "4  03:07:29  New York  "
      ]
     },
     "execution_count": 229,
     "metadata": {},
     "output_type": "execute_result"
    }
   ],
   "source": [
    "New_York.head()"
   ]
  },
  {
   "cell_type": "code",
   "execution_count": 230,
   "metadata": {},
   "outputs": [
    {
     "name": "stderr",
     "output_type": "stream",
     "text": [
      "/usr/local/lib/python3.6/site-packages/ipykernel_launcher.py:17: SettingWithCopyWarning: \n",
      "A value is trying to be set on a copy of a slice from a DataFrame.\n",
      "Try using .loc[row_indexer,col_indexer] = value instead\n",
      "\n",
      "See the caveats in the documentation: http://pandas.pydata.org/pandas-docs/stable/indexing.html#indexing-view-versus-copy\n"
     ]
    },
    {
     "data": {
      "image/png": "[encoded data removed]",
      "text/plain": [
       "<matplotlib.figure.Figure at 0x11417bf98>"
      ]
     },
     "metadata": {},
     "output_type": "display_data"
    }
   ],
   "source": [
    "colormap = {\n",
    "    'USA': '#81D8D0',\n",
    "    'KEN': '#1D302F',\n",
    "    'ITA': '#5B9EFF',\n",
    "    'MEX': '#81D8D0',\n",
    "    'ETH': '#1D302F',\n",
    "    'BRA': '#FF6953',\n",
    "    'RSA': '#1D302F',\n",
    "    'ERI': '#1D302F',\n",
    "    'MAR': '#1D302F',\n",
    "    'NZL': '#FFF93C',\n",
    "    'GBR': '#5B9EFF',\n",
    "    'TAN': '#1D302F'\n",
    "}\n",
    "colors = New_York.m_country.apply(lambda country: colormap[country])\n",
    "\n",
    "New_York['nothing'] = 4\n",
    "New_York.set_index(\"date\").plot(color=[colors], kind=\"bar\", figsize=(20,3), width=1.0, linewidth=0, legend=False)\n",
    "\n",
    "plt.savefig(\"New_York_DNA_Country.pdf\")"
   ]
  },
  {
   "cell_type": "code",
   "execution_count": 231,
   "metadata": {},
   "outputs": [
    {
     "data": {
      "text/html": [
       "<div>\n",
       "<style>\n",
       "    .dataframe thead tr:only-child th {\n",
       "        text-align: right;\n",
       "    }\n",
       "\n",
       "    .dataframe thead th {\n",
       "        text-align: left;\n",
       "    }\n",
       "\n",
       "    .dataframe tbody tr th {\n",
       "        vertical-align: top;\n",
       "    }\n",
       "</style>\n",
       "<table border=\"1\" class=\"dataframe\">\n",
       "  <thead>\n",
       "    <tr style=\"text-align: right;\">\n",
       "      <th></th>\n",
       "      <th>date</th>\n",
       "      <th>m_winner</th>\n",
       "      <th>m_country</th>\n",
       "      <th>m_time</th>\n",
       "      <th>f_winner</th>\n",
       "      <th>f_country</th>\n",
       "      <th>f_time</th>\n",
       "      <th>marathon</th>\n",
       "    </tr>\n",
       "  </thead>\n",
       "  <tbody>\n",
       "    <tr>\n",
       "      <th>250</th>\n",
       "      <td>1981</td>\n",
       "      <td>\\nInge Simonsen</td>\n",
       "      <td>NOR</td>\n",
       "      <td>02:11:48</td>\n",
       "      <td>Joyce Smith (GBR)</td>\n",
       "      <td>GBR</td>\n",
       "      <td>02:29:57</td>\n",
       "      <td>London</td>\n",
       "    </tr>\n",
       "    <tr>\n",
       "      <th>251</th>\n",
       "      <td>1982</td>\n",
       "      <td>Hugh Jones (GBR)</td>\n",
       "      <td>GBR</td>\n",
       "      <td>02:09:24</td>\n",
       "      <td>Joyce Smith -2-</td>\n",
       "      <td>GBR</td>\n",
       "      <td>02:29:43</td>\n",
       "      <td>London</td>\n",
       "    </tr>\n",
       "  </tbody>\n",
       "</table>\n",
       "</div>"
      ],
      "text/plain": [
       "     date          m_winner m_country    m_time           f_winner f_country  \\\n",
       "250  1981   \\nInge Simonsen       NOR  02:11:48  Joyce Smith (GBR)       GBR   \n",
       "251  1982  Hugh Jones (GBR)       GBR  02:09:24    Joyce Smith -2-       GBR   \n",
       "\n",
       "       f_time marathon  \n",
       "250  02:29:57   London  \n",
       "251  02:29:43   London  "
      ]
     },
     "execution_count": 231,
     "metadata": {},
     "output_type": "execute_result"
    }
   ],
   "source": [
    "London = wmm_marathons[wmm_marathons['marathon'] == 'London']\n",
    "London.head(2)"
   ]
  },
  {
   "cell_type": "code",
   "execution_count": 232,
   "metadata": {},
   "outputs": [
    {
     "data": {
      "text/plain": [
       "KEN    13\n",
       "GBR     8\n",
       "ETH     3\n",
       "POR     3\n",
       "MAR     2\n",
       "JPN     2\n",
       "RUS     1\n",
       "DEN     1\n",
       "MEX     1\n",
       "ESP     1\n",
       "USA     1\n",
       "NOR     1\n",
       "Name: m_country, dtype: int64"
      ]
     },
     "execution_count": 232,
     "metadata": {},
     "output_type": "execute_result"
    }
   ],
   "source": [
    "London.m_country.value_counts()"
   ]
  },
  {
   "cell_type": "code",
   "execution_count": 233,
   "metadata": {},
   "outputs": [
    {
     "name": "stderr",
     "output_type": "stream",
     "text": [
      "/usr/local/lib/python3.6/site-packages/ipykernel_launcher.py:18: SettingWithCopyWarning: \n",
      "A value is trying to be set on a copy of a slice from a DataFrame.\n",
      "Try using .loc[row_indexer,col_indexer] = value instead\n",
      "\n",
      "See the caveats in the documentation: http://pandas.pydata.org/pandas-docs/stable/indexing.html#indexing-view-versus-copy\n"
     ]
    },
    {
     "data": {
      "image/png": "[encoded data removed]",
      "text/plain": [
       "<matplotlib.figure.Figure at 0x11417bf98>"
      ]
     },
     "metadata": {},
     "output_type": "display_data"
    }
   ],
   "source": [
    "colormap = {\n",
    "    'KEN': '#1D302F',\n",
    "    'GBR': '#5B9EFF',\n",
    "    'ETH': '#1D302F',\n",
    "    'POR': '#5B9EFF',\n",
    "    'MAR': '#1D302F',\n",
    "    'JPN': '#FFC153',\n",
    "    'RUS': '#FFC153',\n",
    "    'DEN': '#5B9EFF',\n",
    "    'MEX': '#81D8D0',\n",
    "    'ESP': '#5B9EFF',\n",
    "    'USA': '#81D8D0',\n",
    "    'NOR': '#5B9EFF'\n",
    "}\n",
    "\n",
    "colors = London.m_country.apply(lambda country: colormap[country])\n",
    "\n",
    "London['nothing'] = 4\n",
    "London.set_index(\"date\").plot(color=[colors], kind=\"bar\", figsize=(20,3), width=1.0, linewidth=0, legend=False)\n",
    "\n",
    "plt.savefig(\"London_DNA_Country.pdf\")"
   ]
  },
  {
   "cell_type": "code",
   "execution_count": 234,
   "metadata": {},
   "outputs": [
    {
     "data": {
      "text/html": [
       "<div>\n",
       "<style>\n",
       "    .dataframe thead tr:only-child th {\n",
       "        text-align: right;\n",
       "    }\n",
       "\n",
       "    .dataframe thead th {\n",
       "        text-align: left;\n",
       "    }\n",
       "\n",
       "    .dataframe tbody tr th {\n",
       "        vertical-align: top;\n",
       "    }\n",
       "</style>\n",
       "<table border=\"1\" class=\"dataframe\">\n",
       "  <thead>\n",
       "    <tr style=\"text-align: right;\">\n",
       "      <th></th>\n",
       "      <th>date</th>\n",
       "      <th>m_winner</th>\n",
       "      <th>m_country</th>\n",
       "      <th>m_time</th>\n",
       "      <th>f_winner</th>\n",
       "      <th>f_country</th>\n",
       "      <th>f_time</th>\n",
       "      <th>marathon</th>\n",
       "    </tr>\n",
       "  </thead>\n",
       "  <tbody>\n",
       "    <tr>\n",
       "      <th>210</th>\n",
       "      <td>1977</td>\n",
       "      <td>Dan Cloeter (USA)</td>\n",
       "      <td>USA</td>\n",
       "      <td>02:17:52</td>\n",
       "      <td>Dorothy Doolittle (USA)</td>\n",
       "      <td>USA</td>\n",
       "      <td>02:50:47</td>\n",
       "      <td>Chicago</td>\n",
       "    </tr>\n",
       "    <tr>\n",
       "      <th>211</th>\n",
       "      <td>1978</td>\n",
       "      <td>Mark Stanforth (USA)</td>\n",
       "      <td>USA</td>\n",
       "      <td>02:19:20</td>\n",
       "      <td>Lynae Larson (USA)</td>\n",
       "      <td>USA</td>\n",
       "      <td>02:59:25</td>\n",
       "      <td>Chicago</td>\n",
       "    </tr>\n",
       "  </tbody>\n",
       "</table>\n",
       "</div>"
      ],
      "text/plain": [
       "     date              m_winner m_country    m_time                 f_winner  \\\n",
       "210  1977     Dan Cloeter (USA)       USA  02:17:52  Dorothy Doolittle (USA)   \n",
       "211  1978  Mark Stanforth (USA)       USA  02:19:20       Lynae Larson (USA)   \n",
       "\n",
       "    f_country    f_time marathon  \n",
       "210       USA  02:50:47  Chicago  \n",
       "211       USA  02:59:25  Chicago  "
      ]
     },
     "execution_count": 234,
     "metadata": {},
     "output_type": "execute_result"
    }
   ],
   "source": [
    "Chicago = wmm_marathons[wmm_marathons['marathon'] == 'Chicago']\n",
    "Chicago.head(2)"
   ]
  },
  {
   "cell_type": "code",
   "execution_count": 235,
   "metadata": {},
   "outputs": [
    {
     "data": {
      "text/plain": [
       "KEN    16\n",
       "USA     6\n",
       "GBR     5\n",
       "MAR     4\n",
       "BRA     4\n",
       "MEX     2\n",
       "JPN     1\n",
       "ETH     1\n",
       "Name: m_country, dtype: int64"
      ]
     },
     "execution_count": 235,
     "metadata": {},
     "output_type": "execute_result"
    }
   ],
   "source": [
    "Chicago.m_country.value_counts()"
   ]
  },
  {
   "cell_type": "code",
   "execution_count": 236,
   "metadata": {},
   "outputs": [
    {
     "name": "stderr",
     "output_type": "stream",
     "text": [
      "/usr/local/lib/python3.6/site-packages/ipykernel_launcher.py:13: SettingWithCopyWarning: \n",
      "A value is trying to be set on a copy of a slice from a DataFrame.\n",
      "Try using .loc[row_indexer,col_indexer] = value instead\n",
      "\n",
      "See the caveats in the documentation: http://pandas.pydata.org/pandas-docs/stable/indexing.html#indexing-view-versus-copy\n",
      "  del sys.path[0]\n"
     ]
    },
    {
     "data": {
      "image/png": "[encoded data removed]",
      "text/plain": [
       "<matplotlib.figure.Figure at 0x117e46cf8>"
      ]
     },
     "metadata": {},
     "output_type": "display_data"
    }
   ],
   "source": [
    "colormap = {\n",
    "    'KEN': '#1D302F',\n",
    "    'USA': '#81D8D0',\n",
    "    'GBR': '#5B9EFF',\n",
    "    'MAR': '#1D302F',\n",
    "    'BRA': '#FF6953',\n",
    "    'MEX': '#81D8D0',\n",
    "    'JPN': '#FFC153',\n",
    "    'ETH': '#1D302F',\n",
    "}\n",
    "colors = Chicago.m_country.apply(lambda country: colormap[country])\n",
    "\n",
    "Chicago['nothing'] = 4\n",
    "Chicago.set_index(\"date\").plot(color=[colors], kind=\"bar\", figsize=(20,3), width=1.0, linewidth=0, legend=False)\n",
    "\n",
    "plt.savefig(\"Chicago_DNA_Country.pdf\")"
   ]
  },
  {
   "cell_type": "code",
   "execution_count": 237,
   "metadata": {},
   "outputs": [
    {
     "data": {
      "text/html": [
       "<div>\n",
       "<style>\n",
       "    .dataframe thead tr:only-child th {\n",
       "        text-align: right;\n",
       "    }\n",
       "\n",
       "    .dataframe thead th {\n",
       "        text-align: left;\n",
       "    }\n",
       "\n",
       "    .dataframe tbody tr th {\n",
       "        vertical-align: top;\n",
       "    }\n",
       "</style>\n",
       "<table border=\"1\" class=\"dataframe\">\n",
       "  <thead>\n",
       "    <tr style=\"text-align: right;\">\n",
       "      <th></th>\n",
       "      <th>date</th>\n",
       "      <th>m_winner</th>\n",
       "      <th>m_country</th>\n",
       "      <th>m_time</th>\n",
       "      <th>f_winner</th>\n",
       "      <th>f_country</th>\n",
       "      <th>f_time</th>\n",
       "      <th>marathon</th>\n",
       "    </tr>\n",
       "  </thead>\n",
       "  <tbody>\n",
       "    <tr>\n",
       "      <th>167</th>\n",
       "      <td>1974</td>\n",
       "      <td>Günter Hallas (GER)</td>\n",
       "      <td>GER</td>\n",
       "      <td>02:44:53</td>\n",
       "      <td>Jutta von Haase (GER)</td>\n",
       "      <td>GER</td>\n",
       "      <td>03:22:01</td>\n",
       "      <td>Berlin</td>\n",
       "    </tr>\n",
       "    <tr>\n",
       "      <th>168</th>\n",
       "      <td>1975</td>\n",
       "      <td>Ralf Bochröder (GER)</td>\n",
       "      <td>GER</td>\n",
       "      <td>02:47:08</td>\n",
       "      <td>Kristin Bochröder (GER)</td>\n",
       "      <td>GER</td>\n",
       "      <td>03:59:15</td>\n",
       "      <td>Berlin</td>\n",
       "    </tr>\n",
       "  </tbody>\n",
       "</table>\n",
       "</div>"
      ],
      "text/plain": [
       "     date              m_winner m_country    m_time                 f_winner  \\\n",
       "167  1974   Günter Hallas (GER)       GER  02:44:53    Jutta von Haase (GER)   \n",
       "168  1975  Ralf Bochröder (GER)       GER  02:47:08  Kristin Bochröder (GER)   \n",
       "\n",
       "    f_country    f_time marathon  \n",
       "167       GER  03:22:01   Berlin  \n",
       "168       GER  03:59:15   Berlin  "
      ]
     },
     "execution_count": 237,
     "metadata": {},
     "output_type": "execute_result"
    }
   ],
   "source": [
    "Berlin = wmm_marathons[wmm_marathons['marathon'] == 'Berlin']\n",
    "Berlin.head(2)"
   ]
  },
  {
   "cell_type": "code",
   "execution_count": 238,
   "metadata": {},
   "outputs": [
    {
     "data": {
      "text/html": [
       "<div>\n",
       "<style>\n",
       "    .dataframe thead tr:only-child th {\n",
       "        text-align: right;\n",
       "    }\n",
       "\n",
       "    .dataframe thead th {\n",
       "        text-align: left;\n",
       "    }\n",
       "\n",
       "    .dataframe tbody tr th {\n",
       "        vertical-align: top;\n",
       "    }\n",
       "</style>\n",
       "<table border=\"1\" class=\"dataframe\">\n",
       "  <thead>\n",
       "    <tr style=\"text-align: right;\">\n",
       "      <th></th>\n",
       "      <th>date</th>\n",
       "      <th>m_winner</th>\n",
       "      <th>m_country</th>\n",
       "      <th>m_time</th>\n",
       "      <th>f_winner</th>\n",
       "      <th>f_country</th>\n",
       "      <th>f_time</th>\n",
       "      <th>marathon</th>\n",
       "    </tr>\n",
       "  </thead>\n",
       "  <tbody>\n",
       "    <tr>\n",
       "      <th>167</th>\n",
       "      <td>1974</td>\n",
       "      <td>Günter Hallas (GER)</td>\n",
       "      <td>GER</td>\n",
       "      <td>02:44:53</td>\n",
       "      <td>Jutta von Haase (GER)</td>\n",
       "      <td>GER</td>\n",
       "      <td>03:22:01</td>\n",
       "      <td>Berlin</td>\n",
       "    </tr>\n",
       "    <tr>\n",
       "      <th>168</th>\n",
       "      <td>1975</td>\n",
       "      <td>Ralf Bochröder (GER)</td>\n",
       "      <td>GER</td>\n",
       "      <td>02:47:08</td>\n",
       "      <td>Kristin Bochröder (GER)</td>\n",
       "      <td>GER</td>\n",
       "      <td>03:59:15</td>\n",
       "      <td>Berlin</td>\n",
       "    </tr>\n",
       "  </tbody>\n",
       "</table>\n",
       "</div>"
      ],
      "text/plain": [
       "     date              m_winner m_country    m_time                 f_winner  \\\n",
       "167  1974   Günter Hallas (GER)       GER  02:44:53    Jutta von Haase (GER)   \n",
       "168  1975  Ralf Bochröder (GER)       GER  02:47:08  Kristin Bochröder (GER)   \n",
       "\n",
       "    f_country    f_time marathon  \n",
       "167       GER  03:22:01   Berlin  \n",
       "168       GER  03:59:15   Berlin  "
      ]
     },
     "execution_count": 238,
     "metadata": {},
     "output_type": "execute_result"
    }
   ],
   "source": [
    "Berlin = wmm_marathons[wmm_marathons['marathon'] == 'Berlin']\n",
    "Berlin.head(2)"
   ]
  },
  {
   "cell_type": "code",
   "execution_count": 239,
   "metadata": {},
   "outputs": [
    {
     "data": {
      "text/plain": [
       "KEN    15\n",
       "GER     7\n",
       "ETH     5\n",
       "GBR     3\n",
       "TAN     3\n",
       "RSA     2\n",
       "DEN     1\n",
       "COL     1\n",
       "AUS     1\n",
       "ESP     1\n",
       "POR     1\n",
       "POL     1\n",
       "BEL     1\n",
       "BRA     1\n",
       "Name: m_country, dtype: int64"
      ]
     },
     "execution_count": 239,
     "metadata": {},
     "output_type": "execute_result"
    }
   ],
   "source": [
    "Berlin.m_country.value_counts()"
   ]
  },
  {
   "cell_type": "code",
   "execution_count": 240,
   "metadata": {},
   "outputs": [
    {
     "name": "stderr",
     "output_type": "stream",
     "text": [
      "/usr/local/lib/python3.6/site-packages/ipykernel_launcher.py:19: SettingWithCopyWarning: \n",
      "A value is trying to be set on a copy of a slice from a DataFrame.\n",
      "Try using .loc[row_indexer,col_indexer] = value instead\n",
      "\n",
      "See the caveats in the documentation: http://pandas.pydata.org/pandas-docs/stable/indexing.html#indexing-view-versus-copy\n"
     ]
    },
    {
     "data": {
      "image/png": "[encoded data removed]",
      "text/plain": [
       "<matplotlib.figure.Figure at 0x1179c8048>"
      ]
     },
     "metadata": {},
     "output_type": "display_data"
    }
   ],
   "source": [
    "colormap = {\n",
    "    'KEN': '#1D302F',\n",
    "    'GER': '#5B9EFF',\n",
    "    'ETH': '#1D302F',\n",
    "    'GBR': '#5B9EFF',\n",
    "    'TAN': '#1D302F',\n",
    "    'RSA': '#1D302F',\n",
    "    'DEN': '#5B9EFF',\n",
    "    'COL': '#FF6953',\n",
    "    'AUS': '#5B9EFF',\n",
    "    'ESP': '#5B9EFF',\n",
    "    'POR': '#5B9EFF',\n",
    "    'POL': '#5B9EFF',\n",
    "    'BEL': '#5B9EFF',\n",
    "    'BRA': '#FF6953'\n",
    "}\n",
    "colors = Berlin.m_country.apply(lambda country: colormap[country])\n",
    "\n",
    "Berlin['nothing'] = 4\n",
    "Berlin.set_index(\"date\").plot(color=[colors], kind=\"bar\", figsize=(20,3), width=1.0, linewidth=0, legend=False)\n",
    "\n",
    "plt.savefig(\"Berlin_DNA_Country.pdf\")"
   ]
  },
  {
   "cell_type": "code",
   "execution_count": 241,
   "metadata": {},
   "outputs": [
    {
     "data": {
      "text/html": [
       "<div>\n",
       "<style>\n",
       "    .dataframe thead tr:only-child th {\n",
       "        text-align: right;\n",
       "    }\n",
       "\n",
       "    .dataframe thead th {\n",
       "        text-align: left;\n",
       "    }\n",
       "\n",
       "    .dataframe tbody tr th {\n",
       "        vertical-align: top;\n",
       "    }\n",
       "</style>\n",
       "<table border=\"1\" class=\"dataframe\">\n",
       "  <thead>\n",
       "    <tr style=\"text-align: right;\">\n",
       "      <th></th>\n",
       "      <th>date</th>\n",
       "      <th>m_winner</th>\n",
       "      <th>m_country</th>\n",
       "      <th>m_time</th>\n",
       "      <th>f_winner</th>\n",
       "      <th>f_country</th>\n",
       "      <th>f_time</th>\n",
       "      <th>marathon</th>\n",
       "    </tr>\n",
       "  </thead>\n",
       "  <tbody>\n",
       "    <tr>\n",
       "      <th>287</th>\n",
       "      <td>2007</td>\n",
       "      <td>Daniel Njenga</td>\n",
       "      <td>KEN</td>\n",
       "      <td>02:09:45</td>\n",
       "      <td>Hitomi Niiya</td>\n",
       "      <td>JPN</td>\n",
       "      <td>02:31:02</td>\n",
       "      <td>Tokio</td>\n",
       "    </tr>\n",
       "    <tr>\n",
       "      <th>288</th>\n",
       "      <td>2008</td>\n",
       "      <td>Viktor Röthlin</td>\n",
       "      <td>SUI</td>\n",
       "      <td>02:07:23</td>\n",
       "      <td>Claudia Dreher</td>\n",
       "      <td>GER</td>\n",
       "      <td>02:35:35</td>\n",
       "      <td>Tokio</td>\n",
       "    </tr>\n",
       "  </tbody>\n",
       "</table>\n",
       "</div>"
      ],
      "text/plain": [
       "     date        m_winner m_country    m_time        f_winner f_country  \\\n",
       "287  2007   Daniel Njenga       KEN  02:09:45    Hitomi Niiya       JPN   \n",
       "288  2008  Viktor Röthlin       SUI  02:07:23  Claudia Dreher       GER   \n",
       "\n",
       "       f_time marathon  \n",
       "287  02:31:02    Tokio  \n",
       "288  02:35:35    Tokio  "
      ]
     },
     "execution_count": 241,
     "metadata": {},
     "output_type": "execute_result"
    }
   ],
   "source": [
    "Tokio = wmm_marathons[wmm_marathons['marathon'] == 'Tokio']\n",
    "Tokio.head(2)"
   ]
  },
  {
   "cell_type": "code",
   "execution_count": 242,
   "metadata": {},
   "outputs": [
    {
     "data": {
      "text/plain": [
       "KEN    6\n",
       "ETH    3\n",
       "SUI    1\n",
       "JPN    1\n",
       "Name: m_country, dtype: int64"
      ]
     },
     "execution_count": 242,
     "metadata": {},
     "output_type": "execute_result"
    }
   ],
   "source": [
    "Tokio.m_country.value_counts()"
   ]
  },
  {
   "cell_type": "code",
   "execution_count": 243,
   "metadata": {},
   "outputs": [
    {
     "name": "stderr",
     "output_type": "stream",
     "text": [
      "/usr/local/lib/python3.6/site-packages/ipykernel_launcher.py:9: SettingWithCopyWarning: \n",
      "A value is trying to be set on a copy of a slice from a DataFrame.\n",
      "Try using .loc[row_indexer,col_indexer] = value instead\n",
      "\n",
      "See the caveats in the documentation: http://pandas.pydata.org/pandas-docs/stable/indexing.html#indexing-view-versus-copy\n",
      "  if __name__ == '__main__':\n"
     ]
    },
    {
     "data": {
      "image/png": "[encoded data removed]",
      "text/plain": [
       "<matplotlib.figure.Figure at 0x1155b9b38>"
      ]
     },
     "metadata": {},
     "output_type": "display_data"
    }
   ],
   "source": [
    "colormap = {\n",
    "    'KEN': '#1D302F',\n",
    "    'ETH': '#1D302F',\n",
    "    'SUI': '#5B9EFF',\n",
    "    'JPN': '#FFC153'\n",
    "}\n",
    "colors = Tokio.m_country.apply(lambda country: colormap[country])\n",
    "\n",
    "Tokio['nothing'] = 4\n",
    "Tokio.set_index(\"date\").plot(color=[colors], kind=\"bar\", figsize=(20,3), width=1.0, linewidth=0, legend=False)\n",
    "\n",
    "plt.savefig(\"Tokio_DNA_Country.pdf\")"
   ]
  },
  {
   "cell_type": "code",
   "execution_count": 244,
   "metadata": {},
   "outputs": [
    {
     "data": {
      "text/html": [
       "<div>\n",
       "<style>\n",
       "    .dataframe thead tr:only-child th {\n",
       "        text-align: right;\n",
       "    }\n",
       "\n",
       "    .dataframe thead th {\n",
       "        text-align: left;\n",
       "    }\n",
       "\n",
       "    .dataframe tbody tr th {\n",
       "        vertical-align: top;\n",
       "    }\n",
       "</style>\n",
       "<table border=\"1\" class=\"dataframe\">\n",
       "  <thead>\n",
       "    <tr style=\"text-align: right;\">\n",
       "      <th></th>\n",
       "      <th>date</th>\n",
       "      <th>m_winner</th>\n",
       "      <th>m_country</th>\n",
       "      <th>m_time</th>\n",
       "      <th>f_winner</th>\n",
       "      <th>f_country</th>\n",
       "      <th>f_time</th>\n",
       "      <th>marathon</th>\n",
       "    </tr>\n",
       "  </thead>\n",
       "  <tbody>\n",
       "    <tr>\n",
       "      <th>46</th>\n",
       "      <td>1897</td>\n",
       "      <td>John J. McDermott</td>\n",
       "      <td>USA</td>\n",
       "      <td>02:55:10</td>\n",
       "      <td>NaN</td>\n",
       "      <td>NaN</td>\n",
       "      <td>NaN</td>\n",
       "      <td>Boston</td>\n",
       "    </tr>\n",
       "    <tr>\n",
       "      <th>47</th>\n",
       "      <td>1898</td>\n",
       "      <td>Ronald MacDonald</td>\n",
       "      <td>CAN</td>\n",
       "      <td>02:42:00</td>\n",
       "      <td>NaN</td>\n",
       "      <td>NaN</td>\n",
       "      <td>NaN</td>\n",
       "      <td>Boston</td>\n",
       "    </tr>\n",
       "  </tbody>\n",
       "</table>\n",
       "</div>"
      ],
      "text/plain": [
       "    date           m_winner m_country    m_time f_winner f_country f_time  \\\n",
       "46  1897  John J. McDermott       USA  02:55:10      NaN       NaN    NaN   \n",
       "47  1898   Ronald MacDonald       CAN  02:42:00      NaN       NaN    NaN   \n",
       "\n",
       "   marathon  \n",
       "46   Boston  \n",
       "47   Boston  "
      ]
     },
     "execution_count": 244,
     "metadata": {},
     "output_type": "execute_result"
    }
   ],
   "source": [
    "Boston = wmm_marathons[wmm_marathons['marathon'] == 'Boston']\n",
    "Boston.head(2)"
   ]
  },
  {
   "cell_type": "code",
   "execution_count": 245,
   "metadata": {},
   "outputs": [
    {
     "data": {
      "text/plain": [
       "USA    44\n",
       "KEN    21\n",
       "CAN    16\n",
       "JPN     8\n",
       "FIN     7\n",
       "ETH     6\n",
       "GBR     3\n",
       "KOR     3\n",
       "GRE     2\n",
       "BEL     2\n",
       "YUG     1\n",
       "SWE     1\n",
       "IRL     1\n",
       "ITA     1\n",
       "AUS     1\n",
       "NZL     1\n",
       "GER     1\n",
       "COL     1\n",
       "GUA     1\n",
       "Name: m_country, dtype: int64"
      ]
     },
     "execution_count": 245,
     "metadata": {},
     "output_type": "execute_result"
    }
   ],
   "source": [
    "Boston.m_country.value_counts()"
   ]
  },
  {
   "cell_type": "code",
   "execution_count": 246,
   "metadata": {},
   "outputs": [
    {
     "name": "stderr",
     "output_type": "stream",
     "text": [
      "/usr/local/lib/python3.6/site-packages/ipykernel_launcher.py:25: SettingWithCopyWarning: \n",
      "A value is trying to be set on a copy of a slice from a DataFrame.\n",
      "Try using .loc[row_indexer,col_indexer] = value instead\n",
      "\n",
      "See the caveats in the documentation: http://pandas.pydata.org/pandas-docs/stable/indexing.html#indexing-view-versus-copy\n"
     ]
    },
    {
     "data": {
      "image/png": "[encoded data removed]",
      "text/plain": [
       "<matplotlib.figure.Figure at 0x11418a400>"
      ]
     },
     "metadata": {},
     "output_type": "display_data"
    }
   ],
   "source": [
    "colormap = {\n",
    "    'USA': '#81D8D0',\n",
    "    'KEN': '#1D302F',\n",
    "    'CAN': '#81D8D0',\n",
    "    'JPN': '#FFC153',\n",
    "    'FIN': '#5B9EFF',\n",
    "    'ETH': '#1D302F',\n",
    "    'GBR': '#5B9EFF',\n",
    "    'KOR': '#FFC153',\n",
    "    'GRE': '#5B9EFF',\n",
    "    'BEL': '#5B9EFF',\n",
    "    'YUG': '#5B9EFF',\n",
    "    'SWE': '#5B9EFF',\n",
    "    'IRL': '#5B9EFF',\n",
    "    'ITA': '#5B9EFF',\n",
    "    'AUS': '#5B9EFF',\n",
    "    'NZL': '#FFF93C',\n",
    "    'GER': '#5B9EFF',\n",
    "    'COL': '#FF6953',\n",
    "    'GUA': '#81D8D0'\n",
    "}\n",
    "\n",
    "colors = Boston.m_country.apply(lambda country: colormap[country])\n",
    "\n",
    "Boston['nothing'] = 4\n",
    "Boston.set_index(\"date\").plot(color=[colors], kind=\"bar\", figsize=(20,3), width=1.0, linewidth=0, legend=False)\n",
    "\n",
    "plt.savefig(\"Boston_DNA_Country.pdf\")"
   ]
  },
  {
   "cell_type": "code",
   "execution_count": 2,
   "metadata": {},
   "outputs": [
    {
     "ename": "NameError",
     "evalue": "name 'wmm_marathons' is not defined",
     "output_type": "error",
     "traceback": [
      "\u001b[0;31m---------------------------------------------------------------------------\u001b[0m",
      "\u001b[0;31mNameError\u001b[0m                                 Traceback (most recent call last)",
      "\u001b[0;32m<ipython-input-2-b9327fe5a2e7>\u001b[0m in \u001b[0;36m<module>\u001b[0;34m()\u001b[0m\n\u001b[0;32m----> 1\u001b[0;31m \u001b[0mBegin\u001b[0m \u001b[0;34m=\u001b[0m \u001b[0mwmm_marathons\u001b[0m\u001b[0;34m[\u001b[0m\u001b[0mwmm_marathons\u001b[0m\u001b[0;34m[\u001b[0m\u001b[0;34m'marathon'\u001b[0m\u001b[0;34m]\u001b[0m \u001b[0;34m==\u001b[0m \u001b[0;34m'1981'\u001b[0m\u001b[0;34m]\u001b[0m\u001b[0;34m\u001b[0m\u001b[0m\n\u001b[0m\u001b[1;32m      2\u001b[0m \u001b[0mBegin\u001b[0m\u001b[0;34m.\u001b[0m\u001b[0mhead\u001b[0m\u001b[0;34m(\u001b[0m\u001b[0;34m)\u001b[0m\u001b[0;31m#.loc[100]\u001b[0m\u001b[0;34m\u001b[0m\u001b[0m\n",
      "\u001b[0;31mNameError\u001b[0m: name 'wmm_marathons' is not defined"
     ]
    }
   ],
   "source": [
    "Begin = wmm_marathons[wmm_marathons['marathon'] == '1981']\n",
    "Begin.head()#.loc[100]"
   ]
  },
  {
   "cell_type": "code",
   "execution_count": 247,
   "metadata": {},
   "outputs": [
    {
     "ename": "SyntaxError",
     "evalue": "invalid syntax (<ipython-input-247-854fdd5abc49>, line 1)",
     "output_type": "error",
     "traceback": [
      "\u001b[0;36m  File \u001b[0;32m\"<ipython-input-247-854fdd5abc49>\"\u001b[0;36m, line \u001b[0;32m1\u001b[0m\n\u001b[0;31m    'KEN': '#1D302F',\u001b[0m\n\u001b[0m                    ^\u001b[0m\n\u001b[0;31mSyntaxError\u001b[0m\u001b[0;31m:\u001b[0m invalid syntax\n"
     ]
    }
   ],
   "source": [
    "    'KEN': '#1D302F',\n",
    "    'GER': '#5B9EFF',\n",
    "    'ETH': '#1D302F',\n",
    "    'GBR': '#5B9EFF',\n",
    "    'TAN': '#1D302F',\n",
    "    'RSA': '#1D302F',\n",
    "    'DEN': '#5B9EFF',\n",
    "    'COL': '#FF6953',\n",
    "    'AUS': '#5B9EFF',\n",
    "    'ESP': '#5B9EFF',\n",
    "    'POR': '#5B9EFF',\n",
    "    'POL': '#5B9EFF',\n",
    "    'BEL': '#5B9EFF',\n",
    "    'BRA': '#FF6953',\n",
    "    'KEN': '#1D302F',\n",
    "    'USA': '#81D8D0',\n",
    "    'GBR': '#5B9EFF',\n",
    "    'MAR': '#1D302F',\n",
    "    'BRA': '#FF6953',\n",
    "    'MEX': '#81D8D0',\n",
    "    'JPN': '#FFC153',\n",
    "    'ETH': '#1D302F',\n",
    "    'NZL': '#FFF93C'"
   ]
  },
  {
   "cell_type": "code",
   "execution_count": null,
   "metadata": {
    "collapsed": true
   },
   "outputs": [],
   "source": [
    "#COLORCODES | Countries | Continents \n",
    "\n",
    "#Continents COLOR CODE\n",
    "#1D302F (Africa -------> black)\n",
    "#FFC153 (Asia -------> orange) \n",
    "#5B9EFF (Europa -------> blue) \n",
    "#81D8D0 (North America -------> turquoise)  \n",
    "#FFF93C (Oceanien -------> yellow) \n",
    "#FF6953 (South Amercia -------> red) \n",
    "\n",
    "    'KEN': '#1D302F',\n",
    "    'GER': '#5B9EFF',\n",
    "    'ETH': '#1D302F',\n",
    "    'GBR': '#5B9EFF',\n",
    "    'TAN': '#1D302F',\n",
    "    'RSA': '#1D302F',\n",
    "    'DEN': '#5B9EFF',\n",
    "    'COL': '#FF6953',\n",
    "    'AUS': '#5B9EFF',\n",
    "    'ESP': '#5B9EFF',\n",
    "    'POR': '#5B9EFF',\n",
    "    'POL': '#5B9EFF',\n",
    "    'BEL': '#5B9EFF',\n",
    "    'BRA': '#FF6953',\n",
    "    'KEN': '#1D302F',\n",
    "    'USA': '#81D8D0',\n",
    "    'GBR': '#5B9EFF',\n",
    "    'MAR': '#1D302F',\n",
    "    'BRA': '#FF6953',\n",
    "    'MEX': '#81D8D0',\n",
    "    'JPN': '#FFC153',\n",
    "    'ETH': '#1D302F',\n",
    "    'NZL': '#FFF93C'\n",
    "\n"
   ]
  },
  {
   "cell_type": "code",
   "execution_count": 1,
   "metadata": {},
   "outputs": [
    {
     "ename": "NameError",
     "evalue": "name 'wmm_marathons' is not defined",
     "output_type": "error",
     "traceback": [
      "\u001b[0;31m---------------------------------------------------------------------------\u001b[0m",
      "\u001b[0;31mNameError\u001b[0m                                 Traceback (most recent call last)",
      "\u001b[0;32m<ipython-input-1-05bf65549109>\u001b[0m in \u001b[0;36m<module>\u001b[0;34m()\u001b[0m\n\u001b[0;32m----> 1\u001b[0;31m \u001b[0mNew_York\u001b[0m \u001b[0;34m=\u001b[0m \u001b[0mwmm_marathons\u001b[0m\u001b[0;34m[\u001b[0m\u001b[0mwmm_marathons\u001b[0m\u001b[0;34m[\u001b[0m\u001b[0;34m'marathon'\u001b[0m\u001b[0;34m]\u001b[0m \u001b[0;34m==\u001b[0m \u001b[0;34m'New York'\u001b[0m\u001b[0;34m]\u001b[0m\u001b[0;34m\u001b[0m\u001b[0m\n\u001b[0m\u001b[1;32m      2\u001b[0m \u001b[0mNew_York\u001b[0m\u001b[0;34m.\u001b[0m\u001b[0mhead\u001b[0m\u001b[0;34m(\u001b[0m\u001b[0;34m)\u001b[0m\u001b[0;31m#.loc[100]\u001b[0m\u001b[0;34m\u001b[0m\u001b[0m\n",
      "\u001b[0;31mNameError\u001b[0m: name 'wmm_marathons' is not defined"
     ]
    }
   ],
   "source": []
  },
  {
   "cell_type": "code",
   "execution_count": null,
   "metadata": {
    "collapsed": true
   },
   "outputs": [],
   "source": []
  }
 ],
 "metadata": {
  "kernelspec": {
   "display_name": "Python 3",
   "language": "python",
   "name": "python3"
  },
  "language_info": {
   "codemirror_mode": {
    "name": "ipython",
    "version": 3
   },
   "file_extension": ".py",
   "mimetype": "text/x-python",
   "name": "python",
   "nbconvert_exporter": "python",
   "pygments_lexer": "ipython3",
   "version": "3.6.1"
  }
 },
 "nbformat": 4,
 "nbformat_minor": 2
}
