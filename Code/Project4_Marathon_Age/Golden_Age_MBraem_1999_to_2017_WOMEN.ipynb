{
 "cells": [
  {
   "cell_type": "code",
   "execution_count": 367,
   "metadata": {
    "collapsed": true
   },
   "outputs": [],
   "source": [
    "%matplotlib inline\n",
    "import pandas as pd\n",
    "import geopandas as gpd\n",
    "from shapely.geometry import Point\n",
    "import matplotlib.pyplot as plt\n",
    "import numpy as np\n",
    "\n",
    "\n",
    "import matplotlib\n",
    "matplotlib.rcParams['pdf.fonttype'] = 42\n",
    "import matplotlib.pyplot as pyplot"
   ]
  },
  {
   "cell_type": "code",
   "execution_count": 368,
   "metadata": {
    "collapsed": true
   },
   "outputs": [],
   "source": [
    "Top_Women = pd.read_csv(\"Women_TopTen_1999-2017.csv\")"
   ]
  },
  {
   "cell_type": "code",
   "execution_count": 369,
   "metadata": {
    "collapsed": true
   },
   "outputs": [],
   "source": [
    "Top_Men = pd.read_csv(\"Men_TopTen_1999-2017.csv\")"
   ]
  },
  {
   "cell_type": "code",
   "execution_count": 370,
   "metadata": {},
   "outputs": [
    {
     "data": {
      "text/html": [
       "<div>\n",
       "<style>\n",
       "    .dataframe thead tr:only-child th {\n",
       "        text-align: right;\n",
       "    }\n",
       "\n",
       "    .dataframe thead th {\n",
       "        text-align: left;\n",
       "    }\n",
       "\n",
       "    .dataframe tbody tr th {\n",
       "        vertical-align: top;\n",
       "    }\n",
       "</style>\n",
       "<table border=\"1\" class=\"dataframe\">\n",
       "  <thead>\n",
       "    <tr style=\"text-align: right;\">\n",
       "      <th></th>\n",
       "      <th>RANK</th>\n",
       "      <th>MARK</th>\n",
       "      <th>COMPETITOR</th>\n",
       "      <th>DOB</th>\n",
       "      <th>NAT</th>\n",
       "      <th>POS</th>\n",
       "      <th>VENUE</th>\n",
       "      <th>DATE1</th>\n",
       "      <th>DATE2</th>\n",
       "    </tr>\n",
       "  </thead>\n",
       "  <tbody>\n",
       "    <tr>\n",
       "      <th>0</th>\n",
       "      <td>1</td>\n",
       "      <td>02:22:12</td>\n",
       "      <td>Eri YAMAGUGHI</td>\n",
       "      <td>1973</td>\n",
       "      <td>JPN</td>\n",
       "      <td>1</td>\n",
       "      <td>Tokyo</td>\n",
       "      <td>1999</td>\n",
       "      <td>1999</td>\n",
       "    </tr>\n",
       "    <tr>\n",
       "      <th>1</th>\n",
       "      <td>2</td>\n",
       "      <td>02:23:22</td>\n",
       "      <td>Joyce CHEPCHUMBA</td>\n",
       "      <td>1970</td>\n",
       "      <td>KEN</td>\n",
       "      <td>1</td>\n",
       "      <td>London</td>\n",
       "      <td>1999</td>\n",
       "      <td>1999</td>\n",
       "    </tr>\n",
       "    <tr>\n",
       "      <th>2</th>\n",
       "      <td>3</td>\n",
       "      <td>02:23:24</td>\n",
       "      <td>Lidia SIMON</td>\n",
       "      <td>1973</td>\n",
       "      <td>ROU</td>\n",
       "      <td>1</td>\n",
       "      <td>Osaka</td>\n",
       "      <td>1999</td>\n",
       "      <td>1999</td>\n",
       "    </tr>\n",
       "    <tr>\n",
       "      <th>3</th>\n",
       "      <td>4</td>\n",
       "      <td>02:23:25</td>\n",
       "      <td>Fatuma ROBA</td>\n",
       "      <td>1973</td>\n",
       "      <td>ETH</td>\n",
       "      <td>1</td>\n",
       "      <td>Boston, MA</td>\n",
       "      <td>1999</td>\n",
       "      <td>1999</td>\n",
       "    </tr>\n",
       "    <tr>\n",
       "      <th>4</th>\n",
       "      <td>5</td>\n",
       "      <td>02:23:58</td>\n",
       "      <td>Marleen RENDERS</td>\n",
       "      <td>1968</td>\n",
       "      <td>BEL</td>\n",
       "      <td>2</td>\n",
       "      <td>Berlin</td>\n",
       "      <td>1999</td>\n",
       "      <td>1999</td>\n",
       "    </tr>\n",
       "  </tbody>\n",
       "</table>\n",
       "</div>"
      ],
      "text/plain": [
       "   RANK      MARK        COMPETITOR   DOB  NAT POS       VENUE  DATE1  DATE2\n",
       "0     1  02:22:12     Eri YAMAGUGHI  1973  JPN   1       Tokyo   1999   1999\n",
       "1     2  02:23:22  Joyce CHEPCHUMBA  1970  KEN   1      London   1999   1999\n",
       "2     3  02:23:24       Lidia SIMON  1973  ROU   1       Osaka   1999   1999\n",
       "3     4  02:23:25       Fatuma ROBA  1973  ETH   1  Boston, MA   1999   1999\n",
       "4     5  02:23:58   Marleen RENDERS  1968  BEL   2      Berlin   1999   1999"
      ]
     },
     "execution_count": 370,
     "metadata": {},
     "output_type": "execute_result"
    }
   ],
   "source": [
    "#Top Ten | all women\n",
    "Top_Women.head()"
   ]
  },
  {
   "cell_type": "code",
   "execution_count": 371,
   "metadata": {},
   "outputs": [
    {
     "data": {
      "text/html": [
       "<div>\n",
       "<style>\n",
       "    .dataframe thead tr:only-child th {\n",
       "        text-align: right;\n",
       "    }\n",
       "\n",
       "    .dataframe thead th {\n",
       "        text-align: left;\n",
       "    }\n",
       "\n",
       "    .dataframe tbody tr th {\n",
       "        vertical-align: top;\n",
       "    }\n",
       "</style>\n",
       "<table border=\"1\" class=\"dataframe\">\n",
       "  <thead>\n",
       "    <tr style=\"text-align: right;\">\n",
       "      <th></th>\n",
       "      <th>RANK</th>\n",
       "      <th>MARK</th>\n",
       "      <th>COMPETITOR</th>\n",
       "      <th>DOB</th>\n",
       "      <th>NAT</th>\n",
       "      <th>POS</th>\n",
       "      <th>VENUE</th>\n",
       "      <th>DATE1</th>\n",
       "      <th>DATE2</th>\n",
       "    </tr>\n",
       "  </thead>\n",
       "  <tbody>\n",
       "    <tr>\n",
       "      <th>0</th>\n",
       "      <td>1</td>\n",
       "      <td>02:05:42</td>\n",
       "      <td>Khalid KHANNOUCHI</td>\n",
       "      <td>1971</td>\n",
       "      <td>MAR</td>\n",
       "      <td>1</td>\n",
       "      <td>Chicago, IL</td>\n",
       "      <td>1999</td>\n",
       "      <td>1999</td>\n",
       "    </tr>\n",
       "    <tr>\n",
       "      <th>1</th>\n",
       "      <td>2</td>\n",
       "      <td>02:06:16</td>\n",
       "      <td>Moses TANUI</td>\n",
       "      <td>1965</td>\n",
       "      <td>KEN</td>\n",
       "      <td>2</td>\n",
       "      <td>Chicago, IL</td>\n",
       "      <td>1999</td>\n",
       "      <td>1999</td>\n",
       "    </tr>\n",
       "    <tr>\n",
       "      <th>2</th>\n",
       "      <td>3</td>\n",
       "      <td>02:06:33</td>\n",
       "      <td>Gert THYS</td>\n",
       "      <td>1971</td>\n",
       "      <td>RSA</td>\n",
       "      <td>1</td>\n",
       "      <td>Tokyo</td>\n",
       "      <td>1999</td>\n",
       "      <td>1999</td>\n",
       "    </tr>\n",
       "    <tr>\n",
       "      <th>3</th>\n",
       "      <td>4</td>\n",
       "      <td>02:06:44</td>\n",
       "      <td>Josephat KIPRONO</td>\n",
       "      <td>1973</td>\n",
       "      <td>KEN</td>\n",
       "      <td>1</td>\n",
       "      <td>Berlin</td>\n",
       "      <td>1999</td>\n",
       "      <td>1999</td>\n",
       "    </tr>\n",
       "    <tr>\n",
       "      <th>4</th>\n",
       "      <td>5</td>\n",
       "      <td>02:06:47</td>\n",
       "      <td>Fred Kiprop KIPTUM</td>\n",
       "      <td>1974</td>\n",
       "      <td>KEN</td>\n",
       "      <td>1</td>\n",
       "      <td>Amsterdam</td>\n",
       "      <td>1999</td>\n",
       "      <td>1999</td>\n",
       "    </tr>\n",
       "  </tbody>\n",
       "</table>\n",
       "</div>"
      ],
      "text/plain": [
       "   RANK      MARK          COMPETITOR   DOB  NAT POS        VENUE  DATE1  \\\n",
       "0     1  02:05:42   Khalid KHANNOUCHI  1971  MAR   1  Chicago, IL   1999   \n",
       "1     2  02:06:16         Moses TANUI  1965  KEN   2  Chicago, IL   1999   \n",
       "2     3  02:06:33           Gert THYS  1971  RSA   1        Tokyo   1999   \n",
       "3     4  02:06:44    Josephat KIPRONO  1973  KEN   1       Berlin   1999   \n",
       "4     5  02:06:47  Fred Kiprop KIPTUM  1974  KEN   1    Amsterdam   1999   \n",
       "\n",
       "   DATE2  \n",
       "0   1999  \n",
       "1   1999  \n",
       "2   1999  \n",
       "3   1999  \n",
       "4   1999  "
      ]
     },
     "execution_count": 371,
     "metadata": {},
     "output_type": "execute_result"
    }
   ],
   "source": [
    "Top_Men.head()"
   ]
  },
  {
   "cell_type": "code",
   "execution_count": 372,
   "metadata": {},
   "outputs": [
    {
     "data": {
      "text/html": [
       "<div>\n",
       "<style>\n",
       "    .dataframe thead tr:only-child th {\n",
       "        text-align: right;\n",
       "    }\n",
       "\n",
       "    .dataframe thead th {\n",
       "        text-align: left;\n",
       "    }\n",
       "\n",
       "    .dataframe tbody tr th {\n",
       "        vertical-align: top;\n",
       "    }\n",
       "</style>\n",
       "<table border=\"1\" class=\"dataframe\">\n",
       "  <thead>\n",
       "    <tr style=\"text-align: right;\">\n",
       "      <th></th>\n",
       "      <th>RANK</th>\n",
       "      <th>MARK</th>\n",
       "      <th>COMPETITOR</th>\n",
       "      <th>DOB</th>\n",
       "      <th>NAT</th>\n",
       "      <th>POS</th>\n",
       "      <th>VENUE</th>\n",
       "      <th>DATE1</th>\n",
       "    </tr>\n",
       "    <tr>\n",
       "      <th>DATE2</th>\n",
       "      <th></th>\n",
       "      <th></th>\n",
       "      <th></th>\n",
       "      <th></th>\n",
       "      <th></th>\n",
       "      <th></th>\n",
       "      <th></th>\n",
       "      <th></th>\n",
       "    </tr>\n",
       "  </thead>\n",
       "  <tbody>\n",
       "    <tr>\n",
       "      <th>1999</th>\n",
       "      <td>1</td>\n",
       "      <td>02:22:12</td>\n",
       "      <td>Eri YAMAGUGHI</td>\n",
       "      <td>1973</td>\n",
       "      <td>JPN</td>\n",
       "      <td>1</td>\n",
       "      <td>Tokyo</td>\n",
       "      <td>1999</td>\n",
       "    </tr>\n",
       "    <tr>\n",
       "      <th>1999</th>\n",
       "      <td>2</td>\n",
       "      <td>02:23:22</td>\n",
       "      <td>Joyce CHEPCHUMBA</td>\n",
       "      <td>1970</td>\n",
       "      <td>KEN</td>\n",
       "      <td>1</td>\n",
       "      <td>London</td>\n",
       "      <td>1999</td>\n",
       "    </tr>\n",
       "    <tr>\n",
       "      <th>1999</th>\n",
       "      <td>3</td>\n",
       "      <td>02:23:24</td>\n",
       "      <td>Lidia SIMON</td>\n",
       "      <td>1973</td>\n",
       "      <td>ROU</td>\n",
       "      <td>1</td>\n",
       "      <td>Osaka</td>\n",
       "      <td>1999</td>\n",
       "    </tr>\n",
       "    <tr>\n",
       "      <th>1999</th>\n",
       "      <td>4</td>\n",
       "      <td>02:23:25</td>\n",
       "      <td>Fatuma ROBA</td>\n",
       "      <td>1973</td>\n",
       "      <td>ETH</td>\n",
       "      <td>1</td>\n",
       "      <td>Boston, MA</td>\n",
       "      <td>1999</td>\n",
       "    </tr>\n",
       "    <tr>\n",
       "      <th>1999</th>\n",
       "      <td>5</td>\n",
       "      <td>02:23:58</td>\n",
       "      <td>Marleen RENDERS</td>\n",
       "      <td>1968</td>\n",
       "      <td>BEL</td>\n",
       "      <td>2</td>\n",
       "      <td>Berlin</td>\n",
       "      <td>1999</td>\n",
       "    </tr>\n",
       "  </tbody>\n",
       "</table>\n",
       "</div>"
      ],
      "text/plain": [
       "       RANK      MARK        COMPETITOR   DOB  NAT POS       VENUE  DATE1\n",
       "DATE2                                                                    \n",
       "1999      1  02:22:12     Eri YAMAGUGHI  1973  JPN   1       Tokyo   1999\n",
       "1999      2  02:23:22  Joyce CHEPCHUMBA  1970  KEN   1      London   1999\n",
       "1999      3  02:23:24       Lidia SIMON  1973  ROU   1       Osaka   1999\n",
       "1999      4  02:23:25       Fatuma ROBA  1973  ETH   1  Boston, MA   1999\n",
       "1999      5  02:23:58   Marleen RENDERS  1968  BEL   2      Berlin   1999"
      ]
     },
     "execution_count": 372,
     "metadata": {},
     "output_type": "execute_result"
    }
   ],
   "source": [
    "Top_Women = Top_Women.set_index('DATE2')\n",
    "Top_Women.head()"
   ]
  },
  {
   "cell_type": "code",
   "execution_count": 373,
   "metadata": {},
   "outputs": [
    {
     "data": {
      "text/html": [
       "<div>\n",
       "<style>\n",
       "    .dataframe thead tr:only-child th {\n",
       "        text-align: right;\n",
       "    }\n",
       "\n",
       "    .dataframe thead th {\n",
       "        text-align: left;\n",
       "    }\n",
       "\n",
       "    .dataframe tbody tr th {\n",
       "        vertical-align: top;\n",
       "    }\n",
       "</style>\n",
       "<table border=\"1\" class=\"dataframe\">\n",
       "  <thead>\n",
       "    <tr style=\"text-align: right;\">\n",
       "      <th></th>\n",
       "      <th>RANK</th>\n",
       "      <th>MARK</th>\n",
       "      <th>COMPETITOR</th>\n",
       "      <th>DOB</th>\n",
       "      <th>NAT</th>\n",
       "      <th>POS</th>\n",
       "      <th>VENUE</th>\n",
       "      <th>DATE1</th>\n",
       "    </tr>\n",
       "    <tr>\n",
       "      <th>DATE2</th>\n",
       "      <th></th>\n",
       "      <th></th>\n",
       "      <th></th>\n",
       "      <th></th>\n",
       "      <th></th>\n",
       "      <th></th>\n",
       "      <th></th>\n",
       "      <th></th>\n",
       "    </tr>\n",
       "  </thead>\n",
       "  <tbody>\n",
       "    <tr>\n",
       "      <th>1999</th>\n",
       "      <td>1</td>\n",
       "      <td>02:05:42</td>\n",
       "      <td>Khalid KHANNOUCHI</td>\n",
       "      <td>1971</td>\n",
       "      <td>MAR</td>\n",
       "      <td>1</td>\n",
       "      <td>Chicago, IL</td>\n",
       "      <td>1999</td>\n",
       "    </tr>\n",
       "    <tr>\n",
       "      <th>1999</th>\n",
       "      <td>2</td>\n",
       "      <td>02:06:16</td>\n",
       "      <td>Moses TANUI</td>\n",
       "      <td>1965</td>\n",
       "      <td>KEN</td>\n",
       "      <td>2</td>\n",
       "      <td>Chicago, IL</td>\n",
       "      <td>1999</td>\n",
       "    </tr>\n",
       "    <tr>\n",
       "      <th>1999</th>\n",
       "      <td>3</td>\n",
       "      <td>02:06:33</td>\n",
       "      <td>Gert THYS</td>\n",
       "      <td>1971</td>\n",
       "      <td>RSA</td>\n",
       "      <td>1</td>\n",
       "      <td>Tokyo</td>\n",
       "      <td>1999</td>\n",
       "    </tr>\n",
       "    <tr>\n",
       "      <th>1999</th>\n",
       "      <td>4</td>\n",
       "      <td>02:06:44</td>\n",
       "      <td>Josephat KIPRONO</td>\n",
       "      <td>1973</td>\n",
       "      <td>KEN</td>\n",
       "      <td>1</td>\n",
       "      <td>Berlin</td>\n",
       "      <td>1999</td>\n",
       "    </tr>\n",
       "    <tr>\n",
       "      <th>1999</th>\n",
       "      <td>5</td>\n",
       "      <td>02:06:47</td>\n",
       "      <td>Fred Kiprop KIPTUM</td>\n",
       "      <td>1974</td>\n",
       "      <td>KEN</td>\n",
       "      <td>1</td>\n",
       "      <td>Amsterdam</td>\n",
       "      <td>1999</td>\n",
       "    </tr>\n",
       "  </tbody>\n",
       "</table>\n",
       "</div>"
      ],
      "text/plain": [
       "       RANK      MARK          COMPETITOR   DOB  NAT POS        VENUE  DATE1\n",
       "DATE2                                                                       \n",
       "1999      1  02:05:42   Khalid KHANNOUCHI  1971  MAR   1  Chicago, IL   1999\n",
       "1999      2  02:06:16         Moses TANUI  1965  KEN   2  Chicago, IL   1999\n",
       "1999      3  02:06:33           Gert THYS  1971  RSA   1        Tokyo   1999\n",
       "1999      4  02:06:44    Josephat KIPRONO  1973  KEN   1       Berlin   1999\n",
       "1999      5  02:06:47  Fred Kiprop KIPTUM  1974  KEN   1    Amsterdam   1999"
      ]
     },
     "execution_count": 373,
     "metadata": {},
     "output_type": "execute_result"
    }
   ],
   "source": [
    "Top_Men = Top_Men.set_index('DATE2')\n",
    "Top_Men.head()"
   ]
  },
  {
   "cell_type": "code",
   "execution_count": 374,
   "metadata": {},
   "outputs": [
    {
     "data": {
      "text/plain": [
       "(190, 8)"
      ]
     },
     "execution_count": 374,
     "metadata": {},
     "output_type": "execute_result"
    }
   ],
   "source": [
    "Top_Women.shape"
   ]
  },
  {
   "cell_type": "code",
   "execution_count": 375,
   "metadata": {},
   "outputs": [
    {
     "data": {
      "text/plain": [
       "RANK           int64\n",
       "MARK          object\n",
       "COMPETITOR    object\n",
       "DOB            int64\n",
       "NAT           object\n",
       "POS           object\n",
       "VENUE         object\n",
       "DATE1          int64\n",
       "dtype: object"
      ]
     },
     "execution_count": 375,
     "metadata": {},
     "output_type": "execute_result"
    }
   ],
   "source": [
    "Top_Women.dtypes"
   ]
  },
  {
   "cell_type": "markdown",
   "metadata": {},
   "source": [
    "# Creating a new Dataframe (incl. 3 new colomns)"
   ]
  },
  {
   "cell_type": "markdown",
   "metadata": {},
   "source": [
    "New colomns: Difference | 30plus | 30minus"
   ]
  },
  {
   "cell_type": "code",
   "execution_count": 376,
   "metadata": {
    "collapsed": true
   },
   "outputs": [],
   "source": [
    "Top_Women['Difference'] = Top_Women['DATE1']-Top_Women['DOB']"
   ]
  },
  {
   "cell_type": "code",
   "execution_count": 377,
   "metadata": {
    "collapsed": true
   },
   "outputs": [],
   "source": [
    "Top_Men['Difference'] = Top_Men['DATE1']-Top_Men['DOB']"
   ]
  },
  {
   "cell_type": "code",
   "execution_count": 378,
   "metadata": {},
   "outputs": [
    {
     "data": {
      "text/html": [
       "<div>\n",
       "<style>\n",
       "    .dataframe thead tr:only-child th {\n",
       "        text-align: right;\n",
       "    }\n",
       "\n",
       "    .dataframe thead th {\n",
       "        text-align: left;\n",
       "    }\n",
       "\n",
       "    .dataframe tbody tr th {\n",
       "        vertical-align: top;\n",
       "    }\n",
       "</style>\n",
       "<table border=\"1\" class=\"dataframe\">\n",
       "  <thead>\n",
       "    <tr style=\"text-align: right;\">\n",
       "      <th></th>\n",
       "      <th>RANK</th>\n",
       "      <th>MARK</th>\n",
       "      <th>COMPETITOR</th>\n",
       "      <th>DOB</th>\n",
       "      <th>NAT</th>\n",
       "      <th>POS</th>\n",
       "      <th>VENUE</th>\n",
       "      <th>DATE1</th>\n",
       "      <th>Difference</th>\n",
       "    </tr>\n",
       "    <tr>\n",
       "      <th>DATE2</th>\n",
       "      <th></th>\n",
       "      <th></th>\n",
       "      <th></th>\n",
       "      <th></th>\n",
       "      <th></th>\n",
       "      <th></th>\n",
       "      <th></th>\n",
       "      <th></th>\n",
       "      <th></th>\n",
       "    </tr>\n",
       "  </thead>\n",
       "  <tbody>\n",
       "    <tr>\n",
       "      <th>1999</th>\n",
       "      <td>1</td>\n",
       "      <td>02:22:12</td>\n",
       "      <td>Eri YAMAGUGHI</td>\n",
       "      <td>1973</td>\n",
       "      <td>JPN</td>\n",
       "      <td>1</td>\n",
       "      <td>Tokyo</td>\n",
       "      <td>1999</td>\n",
       "      <td>26</td>\n",
       "    </tr>\n",
       "    <tr>\n",
       "      <th>1999</th>\n",
       "      <td>2</td>\n",
       "      <td>02:23:22</td>\n",
       "      <td>Joyce CHEPCHUMBA</td>\n",
       "      <td>1970</td>\n",
       "      <td>KEN</td>\n",
       "      <td>1</td>\n",
       "      <td>London</td>\n",
       "      <td>1999</td>\n",
       "      <td>29</td>\n",
       "    </tr>\n",
       "    <tr>\n",
       "      <th>1999</th>\n",
       "      <td>3</td>\n",
       "      <td>02:23:24</td>\n",
       "      <td>Lidia SIMON</td>\n",
       "      <td>1973</td>\n",
       "      <td>ROU</td>\n",
       "      <td>1</td>\n",
       "      <td>Osaka</td>\n",
       "      <td>1999</td>\n",
       "      <td>26</td>\n",
       "    </tr>\n",
       "    <tr>\n",
       "      <th>1999</th>\n",
       "      <td>4</td>\n",
       "      <td>02:23:25</td>\n",
       "      <td>Fatuma ROBA</td>\n",
       "      <td>1973</td>\n",
       "      <td>ETH</td>\n",
       "      <td>1</td>\n",
       "      <td>Boston, MA</td>\n",
       "      <td>1999</td>\n",
       "      <td>26</td>\n",
       "    </tr>\n",
       "    <tr>\n",
       "      <th>1999</th>\n",
       "      <td>5</td>\n",
       "      <td>02:23:58</td>\n",
       "      <td>Marleen RENDERS</td>\n",
       "      <td>1968</td>\n",
       "      <td>BEL</td>\n",
       "      <td>2</td>\n",
       "      <td>Berlin</td>\n",
       "      <td>1999</td>\n",
       "      <td>31</td>\n",
       "    </tr>\n",
       "  </tbody>\n",
       "</table>\n",
       "</div>"
      ],
      "text/plain": [
       "       RANK      MARK        COMPETITOR   DOB  NAT POS       VENUE  DATE1  \\\n",
       "DATE2                                                                       \n",
       "1999      1  02:22:12     Eri YAMAGUGHI  1973  JPN   1       Tokyo   1999   \n",
       "1999      2  02:23:22  Joyce CHEPCHUMBA  1970  KEN   1      London   1999   \n",
       "1999      3  02:23:24       Lidia SIMON  1973  ROU   1       Osaka   1999   \n",
       "1999      4  02:23:25       Fatuma ROBA  1973  ETH   1  Boston, MA   1999   \n",
       "1999      5  02:23:58   Marleen RENDERS  1968  BEL   2      Berlin   1999   \n",
       "\n",
       "       Difference  \n",
       "DATE2              \n",
       "1999           26  \n",
       "1999           29  \n",
       "1999           26  \n",
       "1999           26  \n",
       "1999           31  "
      ]
     },
     "execution_count": 378,
     "metadata": {},
     "output_type": "execute_result"
    }
   ],
   "source": [
    "Top_Women.head()"
   ]
  },
  {
   "cell_type": "code",
   "execution_count": 391,
   "metadata": {},
   "outputs": [
    {
     "data": {
      "text/plain": [
       "RANK           int64\n",
       "MARK          object\n",
       "COMPETITOR    object\n",
       "DOB            int64\n",
       "NAT           object\n",
       "POS           object\n",
       "VENUE         object\n",
       "DATE1          int64\n",
       "Difference     int64\n",
       "dtype: object"
      ]
     },
     "execution_count": 391,
     "metadata": {},
     "output_type": "execute_result"
    }
   ],
   "source": [
    "Top_Men.dtypes"
   ]
  },
  {
   "cell_type": "code",
   "execution_count": 379,
   "metadata": {},
   "outputs": [
    {
     "data": {
      "text/html": [
       "<div>\n",
       "<style>\n",
       "    .dataframe thead tr:only-child th {\n",
       "        text-align: right;\n",
       "    }\n",
       "\n",
       "    .dataframe thead th {\n",
       "        text-align: left;\n",
       "    }\n",
       "\n",
       "    .dataframe tbody tr th {\n",
       "        vertical-align: top;\n",
       "    }\n",
       "</style>\n",
       "<table border=\"1\" class=\"dataframe\">\n",
       "  <thead>\n",
       "    <tr style=\"text-align: right;\">\n",
       "      <th></th>\n",
       "      <th>RANK</th>\n",
       "      <th>MARK</th>\n",
       "      <th>COMPETITOR</th>\n",
       "      <th>DOB</th>\n",
       "      <th>NAT</th>\n",
       "      <th>POS</th>\n",
       "      <th>VENUE</th>\n",
       "      <th>DATE1</th>\n",
       "      <th>Difference</th>\n",
       "    </tr>\n",
       "    <tr>\n",
       "      <th>DATE2</th>\n",
       "      <th></th>\n",
       "      <th></th>\n",
       "      <th></th>\n",
       "      <th></th>\n",
       "      <th></th>\n",
       "      <th></th>\n",
       "      <th></th>\n",
       "      <th></th>\n",
       "      <th></th>\n",
       "    </tr>\n",
       "  </thead>\n",
       "  <tbody>\n",
       "    <tr>\n",
       "      <th>1999</th>\n",
       "      <td>1</td>\n",
       "      <td>02:05:42</td>\n",
       "      <td>Khalid KHANNOUCHI</td>\n",
       "      <td>1971</td>\n",
       "      <td>MAR</td>\n",
       "      <td>1</td>\n",
       "      <td>Chicago, IL</td>\n",
       "      <td>1999</td>\n",
       "      <td>28</td>\n",
       "    </tr>\n",
       "    <tr>\n",
       "      <th>1999</th>\n",
       "      <td>2</td>\n",
       "      <td>02:06:16</td>\n",
       "      <td>Moses TANUI</td>\n",
       "      <td>1965</td>\n",
       "      <td>KEN</td>\n",
       "      <td>2</td>\n",
       "      <td>Chicago, IL</td>\n",
       "      <td>1999</td>\n",
       "      <td>34</td>\n",
       "    </tr>\n",
       "    <tr>\n",
       "      <th>1999</th>\n",
       "      <td>3</td>\n",
       "      <td>02:06:33</td>\n",
       "      <td>Gert THYS</td>\n",
       "      <td>1971</td>\n",
       "      <td>RSA</td>\n",
       "      <td>1</td>\n",
       "      <td>Tokyo</td>\n",
       "      <td>1999</td>\n",
       "      <td>28</td>\n",
       "    </tr>\n",
       "    <tr>\n",
       "      <th>1999</th>\n",
       "      <td>4</td>\n",
       "      <td>02:06:44</td>\n",
       "      <td>Josephat KIPRONO</td>\n",
       "      <td>1973</td>\n",
       "      <td>KEN</td>\n",
       "      <td>1</td>\n",
       "      <td>Berlin</td>\n",
       "      <td>1999</td>\n",
       "      <td>26</td>\n",
       "    </tr>\n",
       "    <tr>\n",
       "      <th>1999</th>\n",
       "      <td>5</td>\n",
       "      <td>02:06:47</td>\n",
       "      <td>Fred Kiprop KIPTUM</td>\n",
       "      <td>1974</td>\n",
       "      <td>KEN</td>\n",
       "      <td>1</td>\n",
       "      <td>Amsterdam</td>\n",
       "      <td>1999</td>\n",
       "      <td>25</td>\n",
       "    </tr>\n",
       "  </tbody>\n",
       "</table>\n",
       "</div>"
      ],
      "text/plain": [
       "       RANK      MARK          COMPETITOR   DOB  NAT POS        VENUE  DATE1  \\\n",
       "DATE2                                                                          \n",
       "1999      1  02:05:42   Khalid KHANNOUCHI  1971  MAR   1  Chicago, IL   1999   \n",
       "1999      2  02:06:16         Moses TANUI  1965  KEN   2  Chicago, IL   1999   \n",
       "1999      3  02:06:33           Gert THYS  1971  RSA   1        Tokyo   1999   \n",
       "1999      4  02:06:44    Josephat KIPRONO  1973  KEN   1       Berlin   1999   \n",
       "1999      5  02:06:47  Fred Kiprop KIPTUM  1974  KEN   1    Amsterdam   1999   \n",
       "\n",
       "       Difference  \n",
       "DATE2              \n",
       "1999           28  \n",
       "1999           34  \n",
       "1999           28  \n",
       "1999           26  \n",
       "1999           25  "
      ]
     },
     "execution_count": 379,
     "metadata": {},
     "output_type": "execute_result"
    }
   ],
   "source": [
    "Top_Men.head()"
   ]
  },
  {
   "cell_type": "code",
   "execution_count": 380,
   "metadata": {
    "scrolled": true
   },
   "outputs": [
    {
     "data": {
      "text/plain": [
       "27.952631578947368"
      ]
     },
     "execution_count": 380,
     "metadata": {},
     "output_type": "execute_result"
    }
   ],
   "source": [
    "Top_Men['Difference'].mean()"
   ]
  },
  {
   "cell_type": "code",
   "execution_count": 381,
   "metadata": {},
   "outputs": [
    {
     "data": {
      "text/plain": [
       "28.894736842105264"
      ]
     },
     "execution_count": 381,
     "metadata": {},
     "output_type": "execute_result"
    }
   ],
   "source": [
    "Top_Women['Difference'].mean()"
   ]
  },
  {
   "cell_type": "code",
   "execution_count": 382,
   "metadata": {},
   "outputs": [
    {
     "data": {
      "text/plain": [
       "<matplotlib.axes._subplots.AxesSubplot at 0x1238452b0>"
      ]
     },
     "execution_count": 382,
     "metadata": {},
     "output_type": "execute_result"
    },
    {
     "data": {
      "image/png": "[encoded data removed]",
      "text/plain": [
       "<matplotlib.figure.Figure at 0x1237e7828>"
      ]
     },
     "metadata": {},
     "output_type": "display_data"
    }
   ],
   "source": [
    "#TOP Men / TOP Women\n",
    "fig = plt.figure()\n",
    "ax = fig.add_subplot(121) # hoch/runter\n",
    "ax2 = fig.add_subplot(122) # seitlich\n",
    "Top_Men.groupby('DATE1').Difference.mean().plot(title='Men', color='#81D8D0', ax=ax, kind='bar', figsize=(15,5))\n",
    "Top_Women.groupby('DATE1').Difference.mean().plot(title='Women', color='#5B9EFF' ,ax=ax2, kind='bar', figsize=(15,5))\n",
    "\n",
    "#Top_Women.groupby('DATE1').Difference.mean().plot(kind='bar', color='black')"
   ]
  },
  {
   "cell_type": "code",
   "execution_count": 392,
   "metadata": {},
   "outputs": [
    {
     "data": {
      "image/png": "[encoded data removed]",
      "text/plain": [
       "<matplotlib.figure.Figure at 0x124d257f0>"
      ]
     },
     "metadata": {},
     "output_type": "display_data"
    }
   ],
   "source": [
    "fig, ax = plt.subplots()\n",
    "\n",
    "Top_Men.groupby('DATE1').Difference.mean().plot(title='Men', color='#81D8D0', ax=ax, kind='bar', figsize=(15,5))\n",
    "Top_Women.groupby('DATE1').Difference.mean().plot(title='Women', color='#5B9EFF' ,ax=ax, kind='bar', figsize=(15,5))\n",
    "\n",
    "plt.savefig(\"Age_Women.pdf\")"
   ]
  },
  {
   "cell_type": "code",
   "execution_count": 393,
   "metadata": {},
   "outputs": [
    {
     "data": {
      "image/png": "[encoded data removed]",
      "text/plain": [
       "<matplotlib.figure.Figure at 0x125481dd8>"
      ]
     },
     "metadata": {},
     "output_type": "display_data"
    }
   ],
   "source": [
    "fig, ax = plt.subplots()\n",
    "\n",
    "Top_Women.groupby('DATE1').Difference.mean().plot(title='Women', color='#5B9EFF' ,ax=ax, kind='bar', figsize=(15,5))\n",
    "Top_Men.groupby('DATE1').Difference.mean().plot(title='Men', color='#81D8D0', ax=ax, kind='bar', figsize=(15,5))\n",
    "plt.savefig(\"Age_Men.pdf\")"
   ]
  },
  {
   "cell_type": "code",
   "execution_count": 394,
   "metadata": {},
   "outputs": [
    {
     "data": {
      "image/png": "[encoded data removed]",
      "text/plain": [
       "<matplotlib.figure.Figure at 0x125491e10>"
      ]
     },
     "metadata": {},
     "output_type": "display_data"
    }
   ],
   "source": [
    "#TOP Men / TOP Women\n",
    "fig = plt.figure()\n",
    "ax = fig.add_subplot(121) # hoch/runter\n",
    "ax2 = fig.add_subplot(122) # seitlich\n",
    "Top_Men.groupby('DATE1').Difference.mean().plot(title='Men', color='#81D8D0', ax=ax, figsize=(15,5))\n",
    "Top_Women.groupby('DATE1').Difference.mean().plot(title='Women', color='#5B9EFF' ,ax=ax2, figsize=(15,5))\n",
    "\n",
    "plt.savefig(\"Age_Lines.pdf\")\n",
    "#Top_Women.groupby('DATE1').Difference.mean().plot(kind='bar', color='black')"
   ]
  },
  {
   "cell_type": "code",
   "execution_count": 396,
   "metadata": {
    "scrolled": false
   },
   "outputs": [
    {
     "data": {
      "image/png": "[encoded data removed]",
      "text/plain": [
       "<matplotlib.figure.Figure at 0x125ac4dd8>"
      ]
     },
     "metadata": {},
     "output_type": "display_data"
    }
   ],
   "source": [
    "Top_Women['Difference'].plot(kind='bar', figsize=(20, 4), color=[colorlist])\n",
    "plt.savefig(\"Age_Women_allYears.pdf\")"
   ]
  },
  {
   "cell_type": "code",
   "execution_count": null,
   "metadata": {
    "collapsed": true
   },
   "outputs": [],
   "source": [
    "#colorlist"
   ]
  },
  {
   "cell_type": "code",
   "execution_count": null,
   "metadata": {
    "collapsed": true
   },
   "outputs": [],
   "source": [
    "#colors = {\n",
    "#    True:'#1D302F',\n",
    "#    False:'#bcb985'\n",
    "#}\n",
    "#colorlist = [colors[x] for x in Top_Women['30plus']]\n",
    "\n",
    "#Top_Women['Difference'].plot(kind='bar', figsize=(20, 4), color=[colorlist])\n",
    "#plt.xlabel('Age Development from 1999 to 2016', fontsize=15)\n",
    "#plt.savefig(\"Top_Women_Difference_Color.pdf\")"
   ]
  },
  {
   "cell_type": "code",
   "execution_count": null,
   "metadata": {
    "collapsed": true
   },
   "outputs": [],
   "source": [
    "Top_Women['30plus'] = Top_Women['Difference'] > 29"
   ]
  },
  {
   "cell_type": "code",
   "execution_count": null,
   "metadata": {
    "collapsed": true
   },
   "outputs": [],
   "source": [
    "Top_Women['30plus'].sum()"
   ]
  },
  {
   "cell_type": "code",
   "execution_count": null,
   "metadata": {
    "collapsed": true
   },
   "outputs": [],
   "source": [
    "Top_Women['30minus'] = Top_Women['Difference'] < 30"
   ]
  },
  {
   "cell_type": "code",
   "execution_count": null,
   "metadata": {
    "collapsed": true
   },
   "outputs": [],
   "source": [
    "Top_Women['30minus'].sum()"
   ]
  },
  {
   "cell_type": "code",
   "execution_count": null,
   "metadata": {
    "collapsed": true
   },
   "outputs": [],
   "source": [
    "Top_Women.head()"
   ]
  },
  {
   "cell_type": "code",
   "execution_count": null,
   "metadata": {
    "collapsed": true
   },
   "outputs": [],
   "source": [
    "Top_Women['30plus'].plot(kind='bar', color='#1D302F', figsize=(25,3))\n",
    "Top_Women['30minus'].plot(kind='bar', color='#bcb985', figsize=(25,3))\n",
    "\n",
    "plt.xlabel('1999', fontsize=15)\n",
    "#plt.savefig(\"Top_Women.pdf\")"
   ]
  },
  {
   "cell_type": "markdown",
   "metadata": {},
   "source": [
    "# 1999"
   ]
  },
  {
   "cell_type": "code",
   "execution_count": null,
   "metadata": {
    "collapsed": true
   },
   "outputs": [],
   "source": [
    "Top_Women_1999 = Top_Women[Top_Women['DATE1'] == 1999]\n",
    "Top_Women_1999"
   ]
  },
  {
   "cell_type": "code",
   "execution_count": null,
   "metadata": {
    "collapsed": true
   },
   "outputs": [],
   "source": [
    "Avg_1999 = Top_Women_1999['Difference'].mean()\n",
    "Avg_1999"
   ]
  },
  {
   "cell_type": "code",
   "execution_count": null,
   "metadata": {
    "collapsed": true
   },
   "outputs": [],
   "source": [
    "#Top_Women_1999['Difference'].sort_values()"
   ]
  },
  {
   "cell_type": "code",
   "execution_count": null,
   "metadata": {
    "collapsed": true
   },
   "outputs": [],
   "source": [
    "Top_Women_1999['30plus'].plot(kind='bar', color='#1D302F', figsize=(5,3))\n",
    "Top_Women_1999['30minus'].plot(kind='bar', color='#bcb985', figsize=(5,3))\n",
    "plt.xlabel('1999', fontsize=15)\n",
    "#plt.savefig(\"Top_10_1999.pdf\")"
   ]
  },
  {
   "cell_type": "markdown",
   "metadata": {},
   "source": [
    "# 2000"
   ]
  },
  {
   "cell_type": "code",
   "execution_count": null,
   "metadata": {
    "collapsed": true
   },
   "outputs": [],
   "source": [
    "Top_Women_2000 = Top_Women[Top_Women['DATE1'] == 2000]\n",
    "Top_Women_2000"
   ]
  },
  {
   "cell_type": "code",
   "execution_count": null,
   "metadata": {
    "collapsed": true
   },
   "outputs": [],
   "source": [
    "Avg_2000 = Top_Women_2000['Difference'].mean()\n",
    "Avg_2000"
   ]
  },
  {
   "cell_type": "code",
   "execution_count": null,
   "metadata": {
    "collapsed": true
   },
   "outputs": [],
   "source": [
    "Top_Women_2000['30plus'].plot(kind='bar', color='#1D302F', figsize=(5,3))\n",
    "Top_Women_2000['30minus'].plot(kind='bar', color='#bcb985', figsize=(5,3))\n",
    "plt.xlabel('2000', fontsize=15)\n",
    "#plt.savefig(\"Top_10_2000.pdf\")"
   ]
  },
  {
   "cell_type": "markdown",
   "metadata": {},
   "source": [
    "# 2001"
   ]
  },
  {
   "cell_type": "code",
   "execution_count": null,
   "metadata": {
    "collapsed": true
   },
   "outputs": [],
   "source": [
    "Top_Women_2001 = Top_Women[Top_Women['DATE1'] == 2001]\n",
    "Top_Women_2001"
   ]
  },
  {
   "cell_type": "code",
   "execution_count": null,
   "metadata": {
    "collapsed": true
   },
   "outputs": [],
   "source": [
    "Avg_2001 = Top_Women_2001['Difference'].mean()\n",
    "Avg_2001"
   ]
  },
  {
   "cell_type": "code",
   "execution_count": null,
   "metadata": {
    "collapsed": true
   },
   "outputs": [],
   "source": [
    "Top_Women_2001['30plus'].plot(kind='bar', color='#1D302F', figsize=(5,3))\n",
    "Top_Women_2001['30minus'].plot(kind='bar', color='#bcb985', figsize=(5,3))\n",
    "plt.xlabel('2001', fontsize=15)\n",
    "#plt.savefig(\"Top_10_2001.pdf\")"
   ]
  },
  {
   "cell_type": "markdown",
   "metadata": {},
   "source": [
    "# 2002"
   ]
  },
  {
   "cell_type": "code",
   "execution_count": null,
   "metadata": {
    "collapsed": true
   },
   "outputs": [],
   "source": [
    "Top_Women_2002 = Top_Women[Top_Women['DATE1'] == 2002]\n",
    "Top_Women_2002.head(3)"
   ]
  },
  {
   "cell_type": "code",
   "execution_count": null,
   "metadata": {
    "collapsed": true
   },
   "outputs": [],
   "source": [
    "Avg_2002 = Top_Women_2002['Difference'].mean()\n",
    "Avg_2002"
   ]
  },
  {
   "cell_type": "code",
   "execution_count": null,
   "metadata": {
    "collapsed": true
   },
   "outputs": [],
   "source": [
    "Top_Women_2002['30plus'].plot(kind='bar', color='#1D302F', figsize=(5,3))\n",
    "Top_Women_2002['30minus'].plot(kind='bar', color='#bcb985', figsize=(5,3))\n",
    "plt.xlabel('2002', fontsize=15)\n",
    "#plt.savefig(\"Top_10_2002.pdf\")"
   ]
  },
  {
   "cell_type": "markdown",
   "metadata": {},
   "source": [
    "# 2003"
   ]
  },
  {
   "cell_type": "code",
   "execution_count": null,
   "metadata": {
    "collapsed": true
   },
   "outputs": [],
   "source": [
    "Top_Women_2003 = Top_Women[Top_Women['DATE1'] == 2003]\n",
    "Top_Women_2003.head(3)"
   ]
  },
  {
   "cell_type": "code",
   "execution_count": null,
   "metadata": {
    "collapsed": true
   },
   "outputs": [],
   "source": [
    "Avg_2003 = Top_Women_2003['Difference'].mean()\n",
    "Avg_2003"
   ]
  },
  {
   "cell_type": "code",
   "execution_count": null,
   "metadata": {
    "collapsed": true
   },
   "outputs": [],
   "source": [
    "Top_Women_2003['30plus'].plot(kind='bar', color='#1D302F', figsize=(5,3))\n",
    "Top_Women_2003['30minus'].plot(kind='bar', color='#bcb985', figsize=(5,3))\n",
    "plt.xlabel('2003', fontsize=15)\n",
    "#plt.savefig(\"Top_10_2003.pdf\")"
   ]
  },
  {
   "cell_type": "code",
   "execution_count": null,
   "metadata": {
    "collapsed": true
   },
   "outputs": [],
   "source": [
    "Top_Women_2003['30plus'].sum()\n"
   ]
  },
  {
   "cell_type": "markdown",
   "metadata": {},
   "source": [
    "# 2004"
   ]
  },
  {
   "cell_type": "code",
   "execution_count": null,
   "metadata": {
    "collapsed": true
   },
   "outputs": [],
   "source": [
    "Top_Women_2004 = Top_Women[Top_Women['DATE1'] == 2004]\n",
    "Top_Women_2004.head(3)"
   ]
  },
  {
   "cell_type": "code",
   "execution_count": null,
   "metadata": {
    "collapsed": true
   },
   "outputs": [],
   "source": [
    "Avg_2004 = Top_Women_2003['Difference'].mean()\n",
    "Avg_2004"
   ]
  },
  {
   "cell_type": "code",
   "execution_count": null,
   "metadata": {
    "collapsed": true
   },
   "outputs": [],
   "source": [
    "Top_Women_2004['30plus'].plot(kind='bar', color='#1D302F', figsize=(5,3))\n",
    "Top_Women_2004['30minus'].plot(kind='bar', color='#bcb985', figsize=(5,3))\n",
    "plt.xlabel('2004', fontsize=15)\n",
    "#plt.savefig(\"Top_10_2004.pdf\")"
   ]
  },
  {
   "cell_type": "code",
   "execution_count": null,
   "metadata": {
    "collapsed": true
   },
   "outputs": [],
   "source": [
    "Top_Women_2004['30plus'].sum()\n"
   ]
  },
  {
   "cell_type": "markdown",
   "metadata": {},
   "source": [
    "# 2005"
   ]
  },
  {
   "cell_type": "code",
   "execution_count": null,
   "metadata": {
    "collapsed": true
   },
   "outputs": [],
   "source": [
    "Top_Women_2005 = Top_Women[Top_Women['DATE1'] == 2005]\n",
    "Top_Women_2005.head(3)"
   ]
  },
  {
   "cell_type": "code",
   "execution_count": null,
   "metadata": {
    "collapsed": true
   },
   "outputs": [],
   "source": [
    "Avg_2005 = Top_Women_2005['Difference'].mean()\n",
    "Avg_2005"
   ]
  },
  {
   "cell_type": "code",
   "execution_count": null,
   "metadata": {
    "collapsed": true
   },
   "outputs": [],
   "source": [
    "Top_Women_2005['30plus'].plot(kind='bar', color='#1D302F', figsize=(5,3))\n",
    "Top_Women_2005['30minus'].plot(kind='bar', color='#bcb985', figsize=(5,3))\n",
    "plt.xlabel('2005', fontsize=15)\n",
    "#plt.savefig(\"Top_10_2005.pdf\")"
   ]
  },
  {
   "cell_type": "code",
   "execution_count": null,
   "metadata": {
    "collapsed": true
   },
   "outputs": [],
   "source": [
    "Top_Women_2005['30plus'].sum()"
   ]
  },
  {
   "cell_type": "markdown",
   "metadata": {},
   "source": [
    "# 2006"
   ]
  },
  {
   "cell_type": "code",
   "execution_count": null,
   "metadata": {
    "collapsed": true
   },
   "outputs": [],
   "source": [
    "Top_Women_2006 = Top_Women[Top_Women['DATE1'] == 2006]\n",
    "Top_Women_2006#.head(3)"
   ]
  },
  {
   "cell_type": "code",
   "execution_count": null,
   "metadata": {
    "collapsed": true
   },
   "outputs": [],
   "source": [
    "Avg_2006 = Top_Women_2006['Difference'].mean()\n",
    "Avg_2006"
   ]
  },
  {
   "cell_type": "code",
   "execution_count": null,
   "metadata": {
    "collapsed": true
   },
   "outputs": [],
   "source": [
    "Top_Women_2006['30plus'].plot(kind='bar', color='#1D302F', figsize=(5,3))\n",
    "Top_Women_2006['30minus'].plot(kind='bar', color='#bcb985', figsize=(5,3))\n",
    "plt.xlabel('2006', fontsize=15)\n",
    "#plt.savefig(\"Top_10_2006.pdf\")"
   ]
  },
  {
   "cell_type": "code",
   "execution_count": null,
   "metadata": {
    "collapsed": true
   },
   "outputs": [],
   "source": [
    "Top_Women_2006['30plus'].sum()"
   ]
  },
  {
   "cell_type": "markdown",
   "metadata": {},
   "source": [
    "# 2007"
   ]
  },
  {
   "cell_type": "code",
   "execution_count": null,
   "metadata": {
    "collapsed": true
   },
   "outputs": [],
   "source": [
    "Top_Women_2007 = Top_Women[Top_Women['DATE1'] == 2007]\n",
    "Top_Women_2007#.head(3)"
   ]
  },
  {
   "cell_type": "code",
   "execution_count": null,
   "metadata": {
    "collapsed": true
   },
   "outputs": [],
   "source": [
    "Avg_2007 = Top_Women_2007['Difference'].mean()\n",
    "Avg_2007"
   ]
  },
  {
   "cell_type": "code",
   "execution_count": null,
   "metadata": {
    "collapsed": true
   },
   "outputs": [],
   "source": [
    "Top_Women_2007['30plus'].plot(kind='bar', color='#1D302F', figsize=(5,3))\n",
    "Top_Women_2007['30minus'].plot(kind='bar', color='#bcb985', figsize=(5,3))\n",
    "plt.xlabel('2007', fontsize=15)\n",
    "#plt.savefig(\"Top_10_2007.pdf\")"
   ]
  },
  {
   "cell_type": "code",
   "execution_count": null,
   "metadata": {
    "collapsed": true
   },
   "outputs": [],
   "source": [
    "Top_Women_2007['30plus'].sum()"
   ]
  },
  {
   "cell_type": "markdown",
   "metadata": {},
   "source": [
    "# 2008"
   ]
  },
  {
   "cell_type": "code",
   "execution_count": null,
   "metadata": {
    "collapsed": true
   },
   "outputs": [],
   "source": [
    "Top_Women_2008 = Top_Women[Top_Women['DATE1'] == 2008]\n",
    "Top_Women_2008#.head(3)"
   ]
  },
  {
   "cell_type": "code",
   "execution_count": null,
   "metadata": {
    "collapsed": true
   },
   "outputs": [],
   "source": [
    "Avg_2008 = Top_Women_2008['Difference'].mean()\n",
    "Avg_2008"
   ]
  },
  {
   "cell_type": "code",
   "execution_count": null,
   "metadata": {
    "collapsed": true
   },
   "outputs": [],
   "source": [
    "Top_Women_2008['30plus'].plot(kind='bar', color='#1D302F', figsize=(5,3))\n",
    "Top_Women_2008['30minus'].plot(kind='bar', color='#bcb985', figsize=(5,3))\n",
    "plt.xlabel('2008', fontsize=15)\n",
    "#plt.savefig(\"Top_10_2008.pdf\")"
   ]
  },
  {
   "cell_type": "code",
   "execution_count": null,
   "metadata": {
    "collapsed": true
   },
   "outputs": [],
   "source": [
    "Top_Women_2008['30plus'].sum()"
   ]
  },
  {
   "cell_type": "markdown",
   "metadata": {},
   "source": [
    "# 2009"
   ]
  },
  {
   "cell_type": "code",
   "execution_count": null,
   "metadata": {
    "collapsed": true
   },
   "outputs": [],
   "source": [
    "Top_Women_2009 = Top_Women[Top_Women['DATE1'] == 2009]\n",
    "Top_Women_2009#.head(3)"
   ]
  },
  {
   "cell_type": "code",
   "execution_count": null,
   "metadata": {
    "collapsed": true
   },
   "outputs": [],
   "source": [
    "Avg_2009 = Top_Women_2009['Difference'].mean()\n",
    "Avg_2009"
   ]
  },
  {
   "cell_type": "code",
   "execution_count": null,
   "metadata": {
    "collapsed": true
   },
   "outputs": [],
   "source": [
    "Top_Women_2009['30plus'].plot(kind='bar', color='#1D302F', figsize=(5,3))\n",
    "Top_Women_2009['30minus'].plot(kind='bar', color='#bcb985', figsize=(5,3))\n",
    "plt.xlabel('2009', fontsize=15)\n",
    "#plt.savefig(\"Top_10_2009.pdf\")"
   ]
  },
  {
   "cell_type": "code",
   "execution_count": null,
   "metadata": {
    "collapsed": true
   },
   "outputs": [],
   "source": [
    "Top_Women_2009['30plus'].sum()"
   ]
  },
  {
   "cell_type": "markdown",
   "metadata": {
    "collapsed": true
   },
   "source": [
    "# 2010"
   ]
  },
  {
   "cell_type": "code",
   "execution_count": null,
   "metadata": {
    "collapsed": true
   },
   "outputs": [],
   "source": [
    "Top_Women_2010 = Top_Women[Top_Women['DATE1'] == 2010]\n",
    "Top_Women_2010#.head(3)"
   ]
  },
  {
   "cell_type": "code",
   "execution_count": null,
   "metadata": {
    "collapsed": true
   },
   "outputs": [],
   "source": [
    "Avg_2010 = Top_Women_2010['Difference'].mean()\n",
    "Avg_2010"
   ]
  },
  {
   "cell_type": "code",
   "execution_count": null,
   "metadata": {
    "collapsed": true
   },
   "outputs": [],
   "source": [
    "Top_Women_2010['30plus'].plot(kind='bar', color='#1D302F', figsize=(5,3))\n",
    "Top_Women_2010['30minus'].plot(kind='bar', color='#bcb985', figsize=(5,3))\n",
    "plt.xlabel('2010', fontsize=15)\n",
    "#plt.savefig(\"Top_10_2010.pdf\")"
   ]
  },
  {
   "cell_type": "code",
   "execution_count": null,
   "metadata": {
    "collapsed": true
   },
   "outputs": [],
   "source": [
    "Top_Women_2010['30plus'].sum()"
   ]
  },
  {
   "cell_type": "markdown",
   "metadata": {},
   "source": [
    "# 2011"
   ]
  },
  {
   "cell_type": "code",
   "execution_count": null,
   "metadata": {
    "collapsed": true
   },
   "outputs": [],
   "source": [
    "Top_Women_2011 = Top_Women[Top_Women['DATE1'] == 2011]\n",
    "Top_Women_2011#.head(3)"
   ]
  },
  {
   "cell_type": "code",
   "execution_count": null,
   "metadata": {
    "collapsed": true
   },
   "outputs": [],
   "source": [
    "Avg_2011 = Top_Women_2011['Difference'].mean()\n",
    "Avg_2011"
   ]
  },
  {
   "cell_type": "code",
   "execution_count": null,
   "metadata": {
    "collapsed": true
   },
   "outputs": [],
   "source": [
    "Top_Women_2011['30plus'].plot(kind='bar', color='#1D302F', figsize=(5,3))\n",
    "Top_Women_2011['30minus'].plot(kind='bar', color='#bcb985', figsize=(5,3))\n",
    "plt.xlabel('2011', fontsize=15)\n",
    "#plt.savefig(\"Top_10_2011.pdf\")"
   ]
  },
  {
   "cell_type": "code",
   "execution_count": null,
   "metadata": {
    "collapsed": true
   },
   "outputs": [],
   "source": [
    "Top_Women_2011['30plus'].sum()"
   ]
  },
  {
   "cell_type": "markdown",
   "metadata": {},
   "source": [
    "# 2012"
   ]
  },
  {
   "cell_type": "code",
   "execution_count": null,
   "metadata": {
    "collapsed": true
   },
   "outputs": [],
   "source": [
    "Top_Women_2012 = Top_Women[Top_Women['DATE1'] == 2012]\n",
    "Top_Women_2012#.head(3)"
   ]
  },
  {
   "cell_type": "code",
   "execution_count": null,
   "metadata": {
    "collapsed": true
   },
   "outputs": [],
   "source": [
    "Avg_2012 = Top_Women_2012['Difference'].mean()\n",
    "Avg_2012"
   ]
  },
  {
   "cell_type": "code",
   "execution_count": null,
   "metadata": {
    "collapsed": true
   },
   "outputs": [],
   "source": [
    "Top_Women_2012['30plus'].plot(kind='bar', color='#1D302F', figsize=(5,3))\n",
    "Top_Women_2012['30minus'].plot(kind='bar', color='#bcb985', figsize=(5,3))\n",
    "plt.xlabel('2012', fontsize=15)\n",
    "plt.savefig(\"Top_10_2012.pdf\")"
   ]
  },
  {
   "cell_type": "code",
   "execution_count": null,
   "metadata": {
    "collapsed": true
   },
   "outputs": [],
   "source": [
    "#Top_Women_2012['30plus'].sum()"
   ]
  },
  {
   "cell_type": "markdown",
   "metadata": {},
   "source": [
    "# 2013"
   ]
  },
  {
   "cell_type": "code",
   "execution_count": null,
   "metadata": {
    "collapsed": true
   },
   "outputs": [],
   "source": [
    "Top_Women_2013 = Top_Women[Top_Women['DATE1'] == 2013]\n",
    "Top_Women_2013#.head(3)"
   ]
  },
  {
   "cell_type": "code",
   "execution_count": null,
   "metadata": {
    "collapsed": true
   },
   "outputs": [],
   "source": [
    "Avg_2013 = Top_Women_2013['Difference'].mean()\n",
    "Avg_2013"
   ]
  },
  {
   "cell_type": "code",
   "execution_count": null,
   "metadata": {
    "collapsed": true
   },
   "outputs": [],
   "source": [
    "Top_Women_2013['30plus'].plot(kind='bar', color='#1D302F', figsize=(5,3))\n",
    "Top_Women_2013['30minus'].plot(kind='bar', color='#bcb985', figsize=(5,3))\n",
    "plt.xlabel('2012', fontsize=15)\n",
    "#plt.savefig(\"Top_10_2013.pdf\")"
   ]
  },
  {
   "cell_type": "code",
   "execution_count": null,
   "metadata": {
    "collapsed": true
   },
   "outputs": [],
   "source": [
    "Top_Women_2013['30plus'].sum()"
   ]
  },
  {
   "cell_type": "markdown",
   "metadata": {},
   "source": [
    "# 2014"
   ]
  },
  {
   "cell_type": "code",
   "execution_count": null,
   "metadata": {
    "collapsed": true
   },
   "outputs": [],
   "source": [
    "Top_Women_2014 = Top_Women[Top_Women['DATE1'] == 2014]\n",
    "Top_Women_2014#.head(3)"
   ]
  },
  {
   "cell_type": "code",
   "execution_count": null,
   "metadata": {
    "collapsed": true
   },
   "outputs": [],
   "source": [
    "Avg_2014 = Top_Women_2014['Difference'].mean()\n",
    "Avg_2014"
   ]
  },
  {
   "cell_type": "code",
   "execution_count": null,
   "metadata": {
    "collapsed": true
   },
   "outputs": [],
   "source": [
    "Top_Women_2014['30plus'].plot(kind='bar', color='#1D302F', figsize=(5,3))\n",
    "Top_Women_2014['30minus'].plot(kind='bar', color='#bcb985', figsize=(5,3))\n",
    "plt.xlabel('2014', fontsize=15)\n",
    "#plt.savefig(\"Top_10_2014.pdf\")"
   ]
  },
  {
   "cell_type": "code",
   "execution_count": null,
   "metadata": {
    "collapsed": true
   },
   "outputs": [],
   "source": [
    "Top_Women_2014['30plus'].sum()"
   ]
  },
  {
   "cell_type": "markdown",
   "metadata": {},
   "source": [
    "# 2015"
   ]
  },
  {
   "cell_type": "code",
   "execution_count": null,
   "metadata": {
    "collapsed": true
   },
   "outputs": [],
   "source": [
    "Top_Women_2015 = Top_Women[Top_Women['DATE1'] == 2015]\n",
    "Top_Women_2015#.head(3)"
   ]
  },
  {
   "cell_type": "code",
   "execution_count": null,
   "metadata": {
    "collapsed": true
   },
   "outputs": [],
   "source": [
    "Avg_2015 = Top_Women_2015['Difference'].mean()\n",
    "Avg_2015"
   ]
  },
  {
   "cell_type": "code",
   "execution_count": null,
   "metadata": {
    "collapsed": true
   },
   "outputs": [],
   "source": [
    "Top_Women_2015['30plus'].plot(kind='bar', color='#1D302F', figsize=(5,3))\n",
    "Top_Women_2015['30minus'].plot(kind='bar', color='#bcb985', figsize=(5,3))\n",
    "plt.xlabel('2015', fontsize=15)\n",
    "#plt.savefig(\"Top_10_2015.pdf\")"
   ]
  },
  {
   "cell_type": "code",
   "execution_count": null,
   "metadata": {
    "collapsed": true
   },
   "outputs": [],
   "source": [
    "Top_Women_2015['30plus'].sum()"
   ]
  },
  {
   "cell_type": "markdown",
   "metadata": {
    "collapsed": true
   },
   "source": [
    "# 2016"
   ]
  },
  {
   "cell_type": "code",
   "execution_count": null,
   "metadata": {
    "collapsed": true
   },
   "outputs": [],
   "source": [
    "Top_Women_2016 = Top_Women[Top_Women['DATE1'] == 2016]\n",
    "Top_Women_2016#.head(3)"
   ]
  },
  {
   "cell_type": "code",
   "execution_count": null,
   "metadata": {
    "collapsed": true
   },
   "outputs": [],
   "source": [
    "Avg_2016 = Top_Women_2016['Difference'].mean()\n",
    "Avg_2016"
   ]
  },
  {
   "cell_type": "code",
   "execution_count": null,
   "metadata": {
    "collapsed": true
   },
   "outputs": [],
   "source": [
    "Top_Women_2016['30plus'].plot(kind='bar', color='#1D302F', figsize=(5,3))\n",
    "Top_Women_2016['30minus'].plot(kind='bar', color='#bcb985', figsize=(5,3))\n",
    "plt.xlabel('2016', fontsize=15)\n",
    "#plt.savefig(\"Top_10_2016.pdf\")"
   ]
  },
  {
   "cell_type": "code",
   "execution_count": null,
   "metadata": {
    "collapsed": true
   },
   "outputs": [],
   "source": [
    "Top_Women_2016['30plus'].sum()"
   ]
  },
  {
   "cell_type": "markdown",
   "metadata": {
    "collapsed": true
   },
   "source": [
    "# 2017"
   ]
  },
  {
   "cell_type": "code",
   "execution_count": null,
   "metadata": {
    "collapsed": true
   },
   "outputs": [],
   "source": [
    "Top_Women_2017 = Top_Women[Top_Women['DATE1'] == 2017]\n",
    "Top_Women_2017#.head(3)"
   ]
  },
  {
   "cell_type": "code",
   "execution_count": null,
   "metadata": {
    "collapsed": true
   },
   "outputs": [],
   "source": [
    "Avg_2017 = Top_Women_2017['Difference'].mean()\n",
    "Avg_2017"
   ]
  },
  {
   "cell_type": "code",
   "execution_count": null,
   "metadata": {
    "collapsed": true
   },
   "outputs": [],
   "source": [
    "Top_Women_2017['30plus'].plot(kind='bar', color='#1D302F', figsize=(5,3))\n",
    "Top_Women_2017['30minus'].plot(kind='bar', color='#bcb985', figsize=(5,3))\n",
    "plt.xlabel('2017', fontsize=15)\n",
    "#ßplt.savefig(\"Top_10_2017.pdf\")"
   ]
  },
  {
   "cell_type": "code",
   "execution_count": null,
   "metadata": {
    "collapsed": true
   },
   "outputs": [],
   "source": [
    "Top_Women_2016['30plus'].sum()"
   ]
  },
  {
   "cell_type": "code",
   "execution_count": null,
   "metadata": {
    "collapsed": true
   },
   "outputs": [],
   "source": []
  },
  {
   "cell_type": "code",
   "execution_count": null,
   "metadata": {
    "collapsed": true
   },
   "outputs": [],
   "source": []
  },
  {
   "cell_type": "code",
   "execution_count": null,
   "metadata": {
    "collapsed": true
   },
   "outputs": [],
   "source": []
  },
  {
   "cell_type": "code",
   "execution_count": null,
   "metadata": {
    "collapsed": true
   },
   "outputs": [],
   "source": []
  },
  {
   "cell_type": "code",
   "execution_count": null,
   "metadata": {
    "collapsed": true
   },
   "outputs": [],
   "source": []
  },
  {
   "cell_type": "code",
   "execution_count": null,
   "metadata": {
    "collapsed": true
   },
   "outputs": [],
   "source": [
    "#Um nur die Balken über 30 auszuwählen:\n",
    "Top_Women_2003['30plus'].plot(kind='bar', color='#1D302F', figsize=(5,3))\n",
    "plt.xlabel('2003', over 30, fontsize=15)"
   ]
  },
  {
   "cell_type": "code",
   "execution_count": null,
   "metadata": {
    "collapsed": true
   },
   "outputs": [],
   "source": [
    "# 1 row, 2 columns, and we'd like the second element.\n",
    "ax1 = plt.subplot(1, 2, 1)\n",
    "Top_Women_2000['30plus'].plot(kind='bar', color='#1D302F', figsize=(8, 3))\n",
    "Top_Women_2000['30minus'].plot(kind='bar', color='#bcb985', figsize=(8, 3))\n",
    "ax1.set_title(\"2000\")\n",
    "\n",
    "# 1 row, 2 columns, and we'd like the first element.\n",
    "ax2 = plt.subplot(1, 2, 2)\n",
    "Top_Women_2001['30plus'].plot(kind='bar', color='#1D302F', figsize=(8, 3))\n",
    "Top_Women_2001['30minus'].plot(kind='bar', color='#bcb985', figsize=(8, 3))\n",
    "ax2.set_title(\"2001\")"
   ]
  }
 ],
 "metadata": {
  "kernelspec": {
   "display_name": "Python 3",
   "language": "python",
   "name": "python3"
  },
  "language_info": {
   "codemirror_mode": {
    "name": "ipython",
    "version": 3
   },
   "file_extension": ".py",
   "mimetype": "text/x-python",
   "name": "python",
   "nbconvert_exporter": "python",
   "pygments_lexer": "ipython3",
   "version": "3.6.1"
  }
 },
 "nbformat": 4,
 "nbformat_minor": 2
}
