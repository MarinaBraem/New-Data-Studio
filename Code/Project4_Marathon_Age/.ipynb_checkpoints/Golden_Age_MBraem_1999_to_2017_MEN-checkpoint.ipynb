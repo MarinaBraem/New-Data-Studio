{
 "cells": [
  {
   "cell_type": "code",
   "execution_count": 65,
   "metadata": {
    "collapsed": true
   },
   "outputs": [],
   "source": [
    "%matplotlib inline\n",
    "import pandas as pd\n",
    "import geopandas as gpd\n",
    "from shapely.geometry import Point\n",
    "import matplotlib.pyplot as plt\n",
    "import numpy as np\n",
    "\n",
    "\n",
    "import matplotlib\n",
    "matplotlib.rcParams['pdf.fonttype'] = 42\n",
    "import matplotlib.pyplot as pyplot"
   ]
  },
  {
   "cell_type": "code",
   "execution_count": 66,
   "metadata": {
    "collapsed": true
   },
   "outputs": [],
   "source": [
    "Top_Men = pd.read_csv(\"Men_TopTen_1999-2017.csv\")"
   ]
  },
  {
   "cell_type": "code",
   "execution_count": 67,
   "metadata": {},
   "outputs": [
    {
     "data": {
      "text/html": [
       "<div>\n",
       "<style>\n",
       "    .dataframe thead tr:only-child th {\n",
       "        text-align: right;\n",
       "    }\n",
       "\n",
       "    .dataframe thead th {\n",
       "        text-align: left;\n",
       "    }\n",
       "\n",
       "    .dataframe tbody tr th {\n",
       "        vertical-align: top;\n",
       "    }\n",
       "</style>\n",
       "<table border=\"1\" class=\"dataframe\">\n",
       "  <thead>\n",
       "    <tr style=\"text-align: right;\">\n",
       "      <th></th>\n",
       "      <th>RANK</th>\n",
       "      <th>MARK</th>\n",
       "      <th>COMPETITOR</th>\n",
       "      <th>DOB</th>\n",
       "      <th>NAT</th>\n",
       "      <th>POS</th>\n",
       "      <th>VENUE</th>\n",
       "      <th>DATE1</th>\n",
       "      <th>DATE2</th>\n",
       "    </tr>\n",
       "  </thead>\n",
       "  <tbody>\n",
       "    <tr>\n",
       "      <th>0</th>\n",
       "      <td>1</td>\n",
       "      <td>02:05:42</td>\n",
       "      <td>Khalid KHANNOUCHI</td>\n",
       "      <td>1971</td>\n",
       "      <td>MAR</td>\n",
       "      <td>1</td>\n",
       "      <td>Chicago, IL</td>\n",
       "      <td>1999</td>\n",
       "      <td>1999</td>\n",
       "    </tr>\n",
       "    <tr>\n",
       "      <th>1</th>\n",
       "      <td>2</td>\n",
       "      <td>02:06:16</td>\n",
       "      <td>Moses TANUI</td>\n",
       "      <td>1965</td>\n",
       "      <td>KEN</td>\n",
       "      <td>2</td>\n",
       "      <td>Chicago, IL</td>\n",
       "      <td>1999</td>\n",
       "      <td>1999</td>\n",
       "    </tr>\n",
       "    <tr>\n",
       "      <th>2</th>\n",
       "      <td>3</td>\n",
       "      <td>02:06:33</td>\n",
       "      <td>Gert THYS</td>\n",
       "      <td>1971</td>\n",
       "      <td>RSA</td>\n",
       "      <td>1</td>\n",
       "      <td>Tokyo</td>\n",
       "      <td>1999</td>\n",
       "      <td>1999</td>\n",
       "    </tr>\n",
       "    <tr>\n",
       "      <th>3</th>\n",
       "      <td>4</td>\n",
       "      <td>02:06:44</td>\n",
       "      <td>Josephat KIPRONO</td>\n",
       "      <td>1973</td>\n",
       "      <td>KEN</td>\n",
       "      <td>1</td>\n",
       "      <td>Berlin</td>\n",
       "      <td>1999</td>\n",
       "      <td>1999</td>\n",
       "    </tr>\n",
       "    <tr>\n",
       "      <th>4</th>\n",
       "      <td>5</td>\n",
       "      <td>02:06:47</td>\n",
       "      <td>Fred Kiprop KIPTUM</td>\n",
       "      <td>1974</td>\n",
       "      <td>KEN</td>\n",
       "      <td>1</td>\n",
       "      <td>Amsterdam</td>\n",
       "      <td>1999</td>\n",
       "      <td>1999</td>\n",
       "    </tr>\n",
       "  </tbody>\n",
       "</table>\n",
       "</div>"
      ],
      "text/plain": [
       "   RANK      MARK          COMPETITOR   DOB  NAT POS        VENUE  DATE1  \\\n",
       "0     1  02:05:42   Khalid KHANNOUCHI  1971  MAR   1  Chicago, IL   1999   \n",
       "1     2  02:06:16         Moses TANUI  1965  KEN   2  Chicago, IL   1999   \n",
       "2     3  02:06:33           Gert THYS  1971  RSA   1        Tokyo   1999   \n",
       "3     4  02:06:44    Josephat KIPRONO  1973  KEN   1       Berlin   1999   \n",
       "4     5  02:06:47  Fred Kiprop KIPTUM  1974  KEN   1    Amsterdam   1999   \n",
       "\n",
       "   DATE2  \n",
       "0   1999  \n",
       "1   1999  \n",
       "2   1999  \n",
       "3   1999  \n",
       "4   1999  "
      ]
     },
     "execution_count": 67,
     "metadata": {},
     "output_type": "execute_result"
    }
   ],
   "source": [
    "Top_Men.head(5)"
   ]
  },
  {
   "cell_type": "code",
   "execution_count": 68,
   "metadata": {},
   "outputs": [
    {
     "data": {
      "text/plain": [
       "RANK           int64\n",
       "MARK          object\n",
       "COMPETITOR    object\n",
       "DOB            int64\n",
       "NAT           object\n",
       "POS           object\n",
       "VENUE         object\n",
       "DATE1          int64\n",
       "DATE2          int64\n",
       "dtype: object"
      ]
     },
     "execution_count": 68,
     "metadata": {},
     "output_type": "execute_result"
    }
   ],
   "source": [
    "Top_Men.dtypes"
   ]
  },
  {
   "cell_type": "code",
   "execution_count": 69,
   "metadata": {},
   "outputs": [
    {
     "data": {
      "text/html": [
       "<div>\n",
       "<style>\n",
       "    .dataframe thead tr:only-child th {\n",
       "        text-align: right;\n",
       "    }\n",
       "\n",
       "    .dataframe thead th {\n",
       "        text-align: left;\n",
       "    }\n",
       "\n",
       "    .dataframe tbody tr th {\n",
       "        vertical-align: top;\n",
       "    }\n",
       "</style>\n",
       "<table border=\"1\" class=\"dataframe\">\n",
       "  <thead>\n",
       "    <tr style=\"text-align: right;\">\n",
       "      <th></th>\n",
       "      <th>RANK</th>\n",
       "      <th>MARK</th>\n",
       "      <th>COMPETITOR</th>\n",
       "      <th>DOB</th>\n",
       "      <th>NAT</th>\n",
       "      <th>POS</th>\n",
       "      <th>VENUE</th>\n",
       "      <th>DATE1</th>\n",
       "    </tr>\n",
       "    <tr>\n",
       "      <th>DATE2</th>\n",
       "      <th></th>\n",
       "      <th></th>\n",
       "      <th></th>\n",
       "      <th></th>\n",
       "      <th></th>\n",
       "      <th></th>\n",
       "      <th></th>\n",
       "      <th></th>\n",
       "    </tr>\n",
       "  </thead>\n",
       "  <tbody>\n",
       "    <tr>\n",
       "      <th>1999</th>\n",
       "      <td>1</td>\n",
       "      <td>02:05:42</td>\n",
       "      <td>Khalid KHANNOUCHI</td>\n",
       "      <td>1971</td>\n",
       "      <td>MAR</td>\n",
       "      <td>1</td>\n",
       "      <td>Chicago, IL</td>\n",
       "      <td>1999</td>\n",
       "    </tr>\n",
       "    <tr>\n",
       "      <th>1999</th>\n",
       "      <td>2</td>\n",
       "      <td>02:06:16</td>\n",
       "      <td>Moses TANUI</td>\n",
       "      <td>1965</td>\n",
       "      <td>KEN</td>\n",
       "      <td>2</td>\n",
       "      <td>Chicago, IL</td>\n",
       "      <td>1999</td>\n",
       "    </tr>\n",
       "    <tr>\n",
       "      <th>1999</th>\n",
       "      <td>3</td>\n",
       "      <td>02:06:33</td>\n",
       "      <td>Gert THYS</td>\n",
       "      <td>1971</td>\n",
       "      <td>RSA</td>\n",
       "      <td>1</td>\n",
       "      <td>Tokyo</td>\n",
       "      <td>1999</td>\n",
       "    </tr>\n",
       "    <tr>\n",
       "      <th>1999</th>\n",
       "      <td>4</td>\n",
       "      <td>02:06:44</td>\n",
       "      <td>Josephat KIPRONO</td>\n",
       "      <td>1973</td>\n",
       "      <td>KEN</td>\n",
       "      <td>1</td>\n",
       "      <td>Berlin</td>\n",
       "      <td>1999</td>\n",
       "    </tr>\n",
       "    <tr>\n",
       "      <th>1999</th>\n",
       "      <td>5</td>\n",
       "      <td>02:06:47</td>\n",
       "      <td>Fred Kiprop KIPTUM</td>\n",
       "      <td>1974</td>\n",
       "      <td>KEN</td>\n",
       "      <td>1</td>\n",
       "      <td>Amsterdam</td>\n",
       "      <td>1999</td>\n",
       "    </tr>\n",
       "  </tbody>\n",
       "</table>\n",
       "</div>"
      ],
      "text/plain": [
       "       RANK      MARK          COMPETITOR   DOB  NAT POS        VENUE  DATE1\n",
       "DATE2                                                                       \n",
       "1999      1  02:05:42   Khalid KHANNOUCHI  1971  MAR   1  Chicago, IL   1999\n",
       "1999      2  02:06:16         Moses TANUI  1965  KEN   2  Chicago, IL   1999\n",
       "1999      3  02:06:33           Gert THYS  1971  RSA   1        Tokyo   1999\n",
       "1999      4  02:06:44    Josephat KIPRONO  1973  KEN   1       Berlin   1999\n",
       "1999      5  02:06:47  Fred Kiprop KIPTUM  1974  KEN   1    Amsterdam   1999"
      ]
     },
     "execution_count": 69,
     "metadata": {},
     "output_type": "execute_result"
    }
   ],
   "source": [
    "Top_Men = Top_Men.set_index('DATE2')\n",
    "Top_Men.head()"
   ]
  },
  {
   "cell_type": "code",
   "execution_count": 70,
   "metadata": {},
   "outputs": [
    {
     "data": {
      "text/plain": [
       "(190, 8)"
      ]
     },
     "execution_count": 70,
     "metadata": {},
     "output_type": "execute_result"
    }
   ],
   "source": [
    "Top_Men.shape"
   ]
  },
  {
   "cell_type": "code",
   "execution_count": 71,
   "metadata": {},
   "outputs": [
    {
     "data": {
      "text/plain": [
       "RANK           int64\n",
       "MARK          object\n",
       "COMPETITOR    object\n",
       "DOB            int64\n",
       "NAT           object\n",
       "POS           object\n",
       "VENUE         object\n",
       "DATE1          int64\n",
       "dtype: object"
      ]
     },
     "execution_count": 71,
     "metadata": {},
     "output_type": "execute_result"
    }
   ],
   "source": [
    "Top_Men.dtypes"
   ]
  },
  {
   "cell_type": "code",
   "execution_count": 72,
   "metadata": {},
   "outputs": [],
   "source": [
    "Top_Men['Difference'] = Top_Men['DATE1']-Top_Men['DOB']"
   ]
  },
  {
   "cell_type": "code",
   "execution_count": 81,
   "metadata": {},
   "outputs": [
    {
     "data": {
      "text/html": [
       "<div>\n",
       "<style>\n",
       "    .dataframe thead tr:only-child th {\n",
       "        text-align: right;\n",
       "    }\n",
       "\n",
       "    .dataframe thead th {\n",
       "        text-align: left;\n",
       "    }\n",
       "\n",
       "    .dataframe tbody tr th {\n",
       "        vertical-align: top;\n",
       "    }\n",
       "</style>\n",
       "<table border=\"1\" class=\"dataframe\">\n",
       "  <thead>\n",
       "    <tr style=\"text-align: right;\">\n",
       "      <th></th>\n",
       "      <th>RANK</th>\n",
       "      <th>MARK</th>\n",
       "      <th>COMPETITOR</th>\n",
       "      <th>DOB</th>\n",
       "      <th>NAT</th>\n",
       "      <th>POS</th>\n",
       "      <th>VENUE</th>\n",
       "      <th>DATE1</th>\n",
       "      <th>Difference</th>\n",
       "      <th>30plus</th>\n",
       "      <th>30minus</th>\n",
       "    </tr>\n",
       "    <tr>\n",
       "      <th>DATE2</th>\n",
       "      <th></th>\n",
       "      <th></th>\n",
       "      <th></th>\n",
       "      <th></th>\n",
       "      <th></th>\n",
       "      <th></th>\n",
       "      <th></th>\n",
       "      <th></th>\n",
       "      <th></th>\n",
       "      <th></th>\n",
       "      <th></th>\n",
       "    </tr>\n",
       "  </thead>\n",
       "  <tbody>\n",
       "    <tr>\n",
       "      <th>1999</th>\n",
       "      <td>1</td>\n",
       "      <td>02:05:42</td>\n",
       "      <td>Khalid KHANNOUCHI</td>\n",
       "      <td>1971</td>\n",
       "      <td>MAR</td>\n",
       "      <td>1</td>\n",
       "      <td>Chicago, IL</td>\n",
       "      <td>1999</td>\n",
       "      <td>28</td>\n",
       "      <td>False</td>\n",
       "      <td>True</td>\n",
       "    </tr>\n",
       "    <tr>\n",
       "      <th>1999</th>\n",
       "      <td>2</td>\n",
       "      <td>02:06:16</td>\n",
       "      <td>Moses TANUI</td>\n",
       "      <td>1965</td>\n",
       "      <td>KEN</td>\n",
       "      <td>2</td>\n",
       "      <td>Chicago, IL</td>\n",
       "      <td>1999</td>\n",
       "      <td>34</td>\n",
       "      <td>True</td>\n",
       "      <td>False</td>\n",
       "    </tr>\n",
       "    <tr>\n",
       "      <th>1999</th>\n",
       "      <td>3</td>\n",
       "      <td>02:06:33</td>\n",
       "      <td>Gert THYS</td>\n",
       "      <td>1971</td>\n",
       "      <td>RSA</td>\n",
       "      <td>1</td>\n",
       "      <td>Tokyo</td>\n",
       "      <td>1999</td>\n",
       "      <td>28</td>\n",
       "      <td>False</td>\n",
       "      <td>True</td>\n",
       "    </tr>\n",
       "    <tr>\n",
       "      <th>1999</th>\n",
       "      <td>4</td>\n",
       "      <td>02:06:44</td>\n",
       "      <td>Josephat KIPRONO</td>\n",
       "      <td>1973</td>\n",
       "      <td>KEN</td>\n",
       "      <td>1</td>\n",
       "      <td>Berlin</td>\n",
       "      <td>1999</td>\n",
       "      <td>26</td>\n",
       "      <td>False</td>\n",
       "      <td>True</td>\n",
       "    </tr>\n",
       "    <tr>\n",
       "      <th>1999</th>\n",
       "      <td>5</td>\n",
       "      <td>02:06:47</td>\n",
       "      <td>Fred Kiprop KIPTUM</td>\n",
       "      <td>1974</td>\n",
       "      <td>KEN</td>\n",
       "      <td>1</td>\n",
       "      <td>Amsterdam</td>\n",
       "      <td>1999</td>\n",
       "      <td>25</td>\n",
       "      <td>False</td>\n",
       "      <td>True</td>\n",
       "    </tr>\n",
       "  </tbody>\n",
       "</table>\n",
       "</div>"
      ],
      "text/plain": [
       "       RANK      MARK          COMPETITOR   DOB  NAT POS        VENUE  DATE1  \\\n",
       "DATE2                                                                          \n",
       "1999      1  02:05:42   Khalid KHANNOUCHI  1971  MAR   1  Chicago, IL   1999   \n",
       "1999      2  02:06:16         Moses TANUI  1965  KEN   2  Chicago, IL   1999   \n",
       "1999      3  02:06:33           Gert THYS  1971  RSA   1        Tokyo   1999   \n",
       "1999      4  02:06:44    Josephat KIPRONO  1973  KEN   1       Berlin   1999   \n",
       "1999      5  02:06:47  Fred Kiprop KIPTUM  1974  KEN   1    Amsterdam   1999   \n",
       "\n",
       "       Difference  30plus  30minus  \n",
       "DATE2                               \n",
       "1999           28   False     True  \n",
       "1999           34    True    False  \n",
       "1999           28   False     True  \n",
       "1999           26   False     True  \n",
       "1999           25   False     True  "
      ]
     },
     "execution_count": 81,
     "metadata": {},
     "output_type": "execute_result"
    }
   ],
   "source": [
    "Top_Men.head()  #.loc[2017]"
   ]
  },
  {
   "cell_type": "code",
   "execution_count": null,
   "metadata": {
    "collapsed": true
   },
   "outputs": [],
   "source": [
    "#df.pct_change().plot(figsize=(20, 10))"
   ]
  },
  {
   "cell_type": "code",
   "execution_count": 86,
   "metadata": {},
   "outputs": [
    {
     "ename": "AttributeError",
     "evalue": "'float' object has no attribute 'plot'",
     "output_type": "error",
     "traceback": [
      "\u001b[0;31m---------------------------------------------------------------------------\u001b[0m",
      "\u001b[0;31mAttributeError\u001b[0m                            Traceback (most recent call last)",
      "\u001b[0;32m<ipython-input-86-d1487a5c0fd8>\u001b[0m in \u001b[0;36m<module>\u001b[0;34m()\u001b[0m\n\u001b[0;32m----> 1\u001b[0;31m \u001b[0mTop_Men\u001b[0m\u001b[0;34m[\u001b[0m\u001b[0;34m'Difference'\u001b[0m\u001b[0;34m]\u001b[0m\u001b[0;34m.\u001b[0m\u001b[0mmedian\u001b[0m\u001b[0;34m(\u001b[0m\u001b[0;34m)\u001b[0m\u001b[0;34m.\u001b[0m\u001b[0mplot\u001b[0m\u001b[0;34m(\u001b[0m\u001b[0;34m)\u001b[0m\u001b[0;34m\u001b[0m\u001b[0m\n\u001b[0m",
      "\u001b[0;31mAttributeError\u001b[0m: 'float' object has no attribute 'plot'"
     ]
    }
   ],
   "source": [
    "Top_Men['Difference'].median().plot()"
   ]
  },
  {
   "cell_type": "code",
   "execution_count": 75,
   "metadata": {
    "collapsed": true
   },
   "outputs": [],
   "source": [
    "Top_Men['30plus'] = Top_Men['Difference'] > 29"
   ]
  },
  {
   "cell_type": "code",
   "execution_count": 76,
   "metadata": {
    "collapsed": true
   },
   "outputs": [],
   "source": [
    "Top_Men['30minus'] = Top_Men['Difference'] < 30"
   ]
  },
  {
   "cell_type": "code",
   "execution_count": 77,
   "metadata": {},
   "outputs": [
    {
     "data": {
      "text/html": [
       "<div>\n",
       "<style>\n",
       "    .dataframe thead tr:only-child th {\n",
       "        text-align: right;\n",
       "    }\n",
       "\n",
       "    .dataframe thead th {\n",
       "        text-align: left;\n",
       "    }\n",
       "\n",
       "    .dataframe tbody tr th {\n",
       "        vertical-align: top;\n",
       "    }\n",
       "</style>\n",
       "<table border=\"1\" class=\"dataframe\">\n",
       "  <thead>\n",
       "    <tr style=\"text-align: right;\">\n",
       "      <th></th>\n",
       "      <th>RANK</th>\n",
       "      <th>MARK</th>\n",
       "      <th>COMPETITOR</th>\n",
       "      <th>DOB</th>\n",
       "      <th>NAT</th>\n",
       "      <th>POS</th>\n",
       "      <th>VENUE</th>\n",
       "      <th>DATE1</th>\n",
       "      <th>Difference</th>\n",
       "      <th>30plus</th>\n",
       "      <th>30minus</th>\n",
       "    </tr>\n",
       "    <tr>\n",
       "      <th>DATE2</th>\n",
       "      <th></th>\n",
       "      <th></th>\n",
       "      <th></th>\n",
       "      <th></th>\n",
       "      <th></th>\n",
       "      <th></th>\n",
       "      <th></th>\n",
       "      <th></th>\n",
       "      <th></th>\n",
       "      <th></th>\n",
       "      <th></th>\n",
       "    </tr>\n",
       "  </thead>\n",
       "  <tbody>\n",
       "    <tr>\n",
       "      <th>1999</th>\n",
       "      <td>1</td>\n",
       "      <td>02:05:42</td>\n",
       "      <td>Khalid KHANNOUCHI</td>\n",
       "      <td>1971</td>\n",
       "      <td>MAR</td>\n",
       "      <td>1</td>\n",
       "      <td>Chicago, IL</td>\n",
       "      <td>1999</td>\n",
       "      <td>28</td>\n",
       "      <td>False</td>\n",
       "      <td>True</td>\n",
       "    </tr>\n",
       "    <tr>\n",
       "      <th>1999</th>\n",
       "      <td>2</td>\n",
       "      <td>02:06:16</td>\n",
       "      <td>Moses TANUI</td>\n",
       "      <td>1965</td>\n",
       "      <td>KEN</td>\n",
       "      <td>2</td>\n",
       "      <td>Chicago, IL</td>\n",
       "      <td>1999</td>\n",
       "      <td>34</td>\n",
       "      <td>True</td>\n",
       "      <td>False</td>\n",
       "    </tr>\n",
       "    <tr>\n",
       "      <th>1999</th>\n",
       "      <td>3</td>\n",
       "      <td>02:06:33</td>\n",
       "      <td>Gert THYS</td>\n",
       "      <td>1971</td>\n",
       "      <td>RSA</td>\n",
       "      <td>1</td>\n",
       "      <td>Tokyo</td>\n",
       "      <td>1999</td>\n",
       "      <td>28</td>\n",
       "      <td>False</td>\n",
       "      <td>True</td>\n",
       "    </tr>\n",
       "    <tr>\n",
       "      <th>1999</th>\n",
       "      <td>4</td>\n",
       "      <td>02:06:44</td>\n",
       "      <td>Josephat KIPRONO</td>\n",
       "      <td>1973</td>\n",
       "      <td>KEN</td>\n",
       "      <td>1</td>\n",
       "      <td>Berlin</td>\n",
       "      <td>1999</td>\n",
       "      <td>26</td>\n",
       "      <td>False</td>\n",
       "      <td>True</td>\n",
       "    </tr>\n",
       "    <tr>\n",
       "      <th>1999</th>\n",
       "      <td>5</td>\n",
       "      <td>02:06:47</td>\n",
       "      <td>Fred Kiprop KIPTUM</td>\n",
       "      <td>1974</td>\n",
       "      <td>KEN</td>\n",
       "      <td>1</td>\n",
       "      <td>Amsterdam</td>\n",
       "      <td>1999</td>\n",
       "      <td>25</td>\n",
       "      <td>False</td>\n",
       "      <td>True</td>\n",
       "    </tr>\n",
       "  </tbody>\n",
       "</table>\n",
       "</div>"
      ],
      "text/plain": [
       "       RANK      MARK          COMPETITOR   DOB  NAT POS        VENUE  DATE1  \\\n",
       "DATE2                                                                          \n",
       "1999      1  02:05:42   Khalid KHANNOUCHI  1971  MAR   1  Chicago, IL   1999   \n",
       "1999      2  02:06:16         Moses TANUI  1965  KEN   2  Chicago, IL   1999   \n",
       "1999      3  02:06:33           Gert THYS  1971  RSA   1        Tokyo   1999   \n",
       "1999      4  02:06:44    Josephat KIPRONO  1973  KEN   1       Berlin   1999   \n",
       "1999      5  02:06:47  Fred Kiprop KIPTUM  1974  KEN   1    Amsterdam   1999   \n",
       "\n",
       "       Difference  30plus  30minus  \n",
       "DATE2                               \n",
       "1999           28   False     True  \n",
       "1999           34    True    False  \n",
       "1999           28   False     True  \n",
       "1999           26   False     True  \n",
       "1999           25   False     True  "
      ]
     },
     "execution_count": 77,
     "metadata": {},
     "output_type": "execute_result"
    }
   ],
   "source": [
    "Top_Men.head()"
   ]
  },
  {
   "cell_type": "code",
   "execution_count": 80,
   "metadata": {},
   "outputs": [
    {
     "data": {
      "image/png": "[encoded data removed]",
      "text/plain": [
       "<matplotlib.figure.Figure at 0x1105734a8>"
      ]
     },
     "metadata": {},
     "output_type": "display_data"
    }
   ],
   "source": [
    "colors = {\n",
    "    True:'#1D302F',\n",
    "    False:'#bcb985'\n",
    "}\n",
    "colorlist = [colors[x] for x in Top_Men['30plus']]\n",
    "\n",
    "Top_Men['Difference'].plot(kind='bar', figsize=(20, 4), color=[colorlist])\n",
    "plt.xlabel('Age Development from 1999 to 2016', fontsize=15)\n",
    "#plt.savefig(\"Top_Men_Difference_Color.pdf\")"
   ]
  },
  {
   "cell_type": "code",
   "execution_count": null,
   "metadata": {
    "collapsed": true
   },
   "outputs": [],
   "source": []
  },
  {
   "cell_type": "code",
   "execution_count": null,
   "metadata": {
    "collapsed": true
   },
   "outputs": [],
   "source": []
  },
  {
   "cell_type": "code",
   "execution_count": null,
   "metadata": {
    "collapsed": true
   },
   "outputs": [],
   "source": []
  },
  {
   "cell_type": "code",
   "execution_count": null,
   "metadata": {
    "collapsed": true
   },
   "outputs": [],
   "source": []
  }
 ],
 "metadata": {
  "kernelspec": {
   "display_name": "Python 3",
   "language": "python",
   "name": "python3"
  },
  "language_info": {
   "codemirror_mode": {
    "name": "ipython",
    "version": 3
   },
   "file_extension": ".py",
   "mimetype": "text/x-python",
   "name": "python",
   "nbconvert_exporter": "python",
   "pygments_lexer": "ipython3",
   "version": "3.6.1"
  }
 },
 "nbformat": 4,
 "nbformat_minor": 2
}
