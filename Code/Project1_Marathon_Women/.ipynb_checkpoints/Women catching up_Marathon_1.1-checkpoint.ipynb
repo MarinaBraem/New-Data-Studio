{
 "cells": [
  {
   "cell_type": "markdown",
   "metadata": {},
   "source": [
    "# Women catching up"
   ]
  },
  {
   "cell_type": "markdown",
   "metadata": {},
   "source": [
    "Research Details | Links:"
   ]
  },
  {
   "cell_type": "markdown",
   "metadata": {},
   "source": [
    "NYC Marathons Analytics\n",
    "http://www.tcsnycmarathon.org/analytics\n",
    "\n",
    "New York Times \n",
    "http://nyti.ms/2vaTpYi\n",
    "\n",
    "Related Links \n",
    "New York Times | Skipping the full course\n",
    "http://nyti.ms/2t9anF7\n",
    "\n",
    "New York Times |  \n",
    "http://nyti.ms/2vaTpYi\n",
    "\n",
    "Important women:\n",
    "Nina Kuscsik: \n",
    "https://de.wikipedia.org/wiki/Nina_Kuscsik\n",
    "Bobi Gibb: \n",
    "https://en.wikipedia.org/wiki/Bobbi_Gibb\n",
    "\n",
    "\n",
    "COLOR CODE MEN: #81D8D0 (mint) | COLOR CODE WOMEN: #5B9EFF (darkblue)"
   ]
  },
  {
   "cell_type": "code",
   "execution_count": 213,
   "metadata": {
    "collapsed": true
   },
   "outputs": [],
   "source": [
    "%matplotlib inline\n",
    "import pandas as pd\n",
    "import geopandas as gpd\n",
    "from shapely.geometry import Point\n",
    "import matplotlib.pyplot as plt\n",
    "import numpy as np\n",
    "\n",
    "\n",
    "import matplotlib\n",
    "matplotlib.rcParams['pdf.fonttype'] = 42\n",
    "import matplotlib.pyplot as pyplot"
   ]
  },
  {
   "cell_type": "code",
   "execution_count": 193,
   "metadata": {},
   "outputs": [
    {
     "data": {
      "text/html": [
       "<div>\n",
       "<style>\n",
       "    .dataframe thead tr:only-child th {\n",
       "        text-align: right;\n",
       "    }\n",
       "\n",
       "    .dataframe thead th {\n",
       "        text-align: left;\n",
       "    }\n",
       "\n",
       "    .dataframe tbody tr th {\n",
       "        vertical-align: top;\n",
       "    }\n",
       "</style>\n",
       "<table border=\"1\" class=\"dataframe\">\n",
       "  <thead>\n",
       "    <tr style=\"text-align: right;\">\n",
       "      <th></th>\n",
       "      <th>date</th>\n",
       "      <th>m_winner</th>\n",
       "      <th>m_country</th>\n",
       "      <th>m_time</th>\n",
       "      <th>f_winner</th>\n",
       "      <th>f_country</th>\n",
       "      <th>f_time</th>\n",
       "      <th>m_starter</th>\n",
       "      <th>f_starter</th>\n",
       "      <th>total_starter</th>\n",
       "      <th>m_finisher</th>\n",
       "      <th>f_finisher</th>\n",
       "      <th>total_finisher</th>\n",
       "    </tr>\n",
       "  </thead>\n",
       "  <tbody>\n",
       "    <tr>\n",
       "      <th>0</th>\n",
       "      <td>2016</td>\n",
       "      <td>Ghirmay Ghebreslassie</td>\n",
       "      <td>(ERI)</td>\n",
       "      <td>02:07:51</td>\n",
       "      <td>Mary Keitany</td>\n",
       "      <td>(KEN)</td>\n",
       "      <td>02:24:26</td>\n",
       "      <td>NaN</td>\n",
       "      <td>NaN</td>\n",
       "      <td>NaN</td>\n",
       "      <td>NaN</td>\n",
       "      <td>NaN</td>\n",
       "      <td>NaN</td>\n",
       "    </tr>\n",
       "    <tr>\n",
       "      <th>1</th>\n",
       "      <td>2015</td>\n",
       "      <td>Stanley Kipleting Biwott</td>\n",
       "      <td>(KEN)</td>\n",
       "      <td>02:10:34</td>\n",
       "      <td>Mary Keitany</td>\n",
       "      <td>(KEN)</td>\n",
       "      <td>02:24:25</td>\n",
       "      <td>29291.0</td>\n",
       "      <td>20944.0</td>\n",
       "      <td>50235.0</td>\n",
       "      <td>28899.0</td>\n",
       "      <td>20696.0</td>\n",
       "      <td>49595.0</td>\n",
       "    </tr>\n",
       "    <tr>\n",
       "      <th>2</th>\n",
       "      <td>2014</td>\n",
       "      <td>Wilson Kipsang</td>\n",
       "      <td>(KEN)</td>\n",
       "      <td>02:10:59</td>\n",
       "      <td>Mary Keitany</td>\n",
       "      <td>(KEN)</td>\n",
       "      <td>02:25:07</td>\n",
       "      <td>30324.0</td>\n",
       "      <td>20572.0</td>\n",
       "      <td>50896.0</td>\n",
       "      <td>30108.0</td>\n",
       "      <td>20422.0</td>\n",
       "      <td>50530.0</td>\n",
       "    </tr>\n",
       "    <tr>\n",
       "      <th>3</th>\n",
       "      <td>2013</td>\n",
       "      <td>Geoffrey Kiprono Mutai</td>\n",
       "      <td>(KEN)</td>\n",
       "      <td>02:08:24</td>\n",
       "      <td>Priscah Jeptoo</td>\n",
       "      <td>(KEN)</td>\n",
       "      <td>02:25:07</td>\n",
       "      <td>31002.0</td>\n",
       "      <td>19738.0</td>\n",
       "      <td>50740.0</td>\n",
       "      <td>30699.0</td>\n",
       "      <td>19567.0</td>\n",
       "      <td>50266.0</td>\n",
       "    </tr>\n",
       "    <tr>\n",
       "      <th>4</th>\n",
       "      <td>2012</td>\n",
       "      <td>NaN</td>\n",
       "      <td>NaN</td>\n",
       "      <td>NaN</td>\n",
       "      <td>NaN</td>\n",
       "      <td>NaN</td>\n",
       "      <td>NaN</td>\n",
       "      <td>NaN</td>\n",
       "      <td>NaN</td>\n",
       "      <td>NaN</td>\n",
       "      <td>NaN</td>\n",
       "      <td>NaN</td>\n",
       "      <td>NaN</td>\n",
       "    </tr>\n",
       "    <tr>\n",
       "      <th>5</th>\n",
       "      <td>2011</td>\n",
       "      <td>Geoffrey Kiprono Mutai</td>\n",
       "      <td>(KEN)</td>\n",
       "      <td>02:05:06</td>\n",
       "      <td>Firehiwot Dado</td>\n",
       "      <td>(ETH)</td>\n",
       "      <td>02:23:15</td>\n",
       "      <td>30200.0</td>\n",
       "      <td>17563.0</td>\n",
       "      <td>47763.0</td>\n",
       "      <td>30068.0</td>\n",
       "      <td>17272.0</td>\n",
       "      <td>47340.0</td>\n",
       "    </tr>\n",
       "    <tr>\n",
       "      <th>6</th>\n",
       "      <td>2010</td>\n",
       "      <td>Gebregziabher Gebremariam</td>\n",
       "      <td>(ETH)</td>\n",
       "      <td>02:08:14</td>\n",
       "      <td>Edna Ngeringwony Kiplagat</td>\n",
       "      <td>(KEN)</td>\n",
       "      <td>02:28:20</td>\n",
       "      <td>29097.0</td>\n",
       "      <td>16253.0</td>\n",
       "      <td>45350.0</td>\n",
       "      <td>28948.0</td>\n",
       "      <td>16155.0</td>\n",
       "      <td>45103.0</td>\n",
       "    </tr>\n",
       "    <tr>\n",
       "      <th>7</th>\n",
       "      <td>2009</td>\n",
       "      <td>Mebrahtom Keflezighi</td>\n",
       "      <td>(USA)</td>\n",
       "      <td>02:09:15</td>\n",
       "      <td>Derartu Tulu</td>\n",
       "      <td>(ETH)</td>\n",
       "      <td>02:28:52</td>\n",
       "      <td>28808.0</td>\n",
       "      <td>15369.0</td>\n",
       "      <td>44177.0</td>\n",
       "      <td>28485.0</td>\n",
       "      <td>15175.0</td>\n",
       "      <td>43660.0</td>\n",
       "    </tr>\n",
       "    <tr>\n",
       "      <th>8</th>\n",
       "      <td>2008</td>\n",
       "      <td>Marílson dos Santos</td>\n",
       "      <td>(BRA)</td>\n",
       "      <td>02:08:43</td>\n",
       "      <td>Paula Radcliffe</td>\n",
       "      <td>(GBR)</td>\n",
       "      <td>02:23:56</td>\n",
       "      <td>25669.0</td>\n",
       "      <td>13163.0</td>\n",
       "      <td>38832.0</td>\n",
       "      <td>25216.0</td>\n",
       "      <td>12880.0</td>\n",
       "      <td>38096.0</td>\n",
       "    </tr>\n",
       "    <tr>\n",
       "      <th>9</th>\n",
       "      <td>2007</td>\n",
       "      <td>Martin Kiptoo Lel</td>\n",
       "      <td>(KEN)</td>\n",
       "      <td>02:09:04</td>\n",
       "      <td>Paula Radcliffe</td>\n",
       "      <td>(GBR)</td>\n",
       "      <td>02:23:09</td>\n",
       "      <td>26525.0</td>\n",
       "      <td>12740.0</td>\n",
       "      <td>39265.0</td>\n",
       "      <td>26072.0</td>\n",
       "      <td>12535.0</td>\n",
       "      <td>38607.0</td>\n",
       "    </tr>\n",
       "    <tr>\n",
       "      <th>10</th>\n",
       "      <td>2006</td>\n",
       "      <td>Marílson dos Santos</td>\n",
       "      <td>(BRA)</td>\n",
       "      <td>02:09:58</td>\n",
       "      <td>Jeļena Prokopčuka</td>\n",
       "      <td>(LAT)</td>\n",
       "      <td>02:25:05</td>\n",
       "      <td>25890.0</td>\n",
       "      <td>12478.0</td>\n",
       "      <td>38368.0</td>\n",
       "      <td>25546.0</td>\n",
       "      <td>12320.0</td>\n",
       "      <td>37866.0</td>\n",
       "    </tr>\n",
       "    <tr>\n",
       "      <th>11</th>\n",
       "      <td>2005</td>\n",
       "      <td>Paul Tergat</td>\n",
       "      <td>(KEN)</td>\n",
       "      <td>02:09:30</td>\n",
       "      <td>Jeļena Prokopčuka</td>\n",
       "      <td>(LAT)</td>\n",
       "      <td>02:24:41</td>\n",
       "      <td>25279.0</td>\n",
       "      <td>12318.0</td>\n",
       "      <td>37597.0</td>\n",
       "      <td>24795.0</td>\n",
       "      <td>12062.0</td>\n",
       "      <td>36857.0</td>\n",
       "    </tr>\n",
       "    <tr>\n",
       "      <th>12</th>\n",
       "      <td>2004</td>\n",
       "      <td>Hendrick Ramaala</td>\n",
       "      <td>(RSA)</td>\n",
       "      <td>02:09:28</td>\n",
       "      <td>Paula Radcliffe</td>\n",
       "      <td>(GBR)</td>\n",
       "      <td>02:23:10</td>\n",
       "      <td>25051.0</td>\n",
       "      <td>12206.0</td>\n",
       "      <td>37257.0</td>\n",
       "      <td>24574.0</td>\n",
       "      <td>11988.0</td>\n",
       "      <td>36562.0</td>\n",
       "    </tr>\n",
       "    <tr>\n",
       "      <th>13</th>\n",
       "      <td>2003</td>\n",
       "      <td>Martin Kiptoo Lel</td>\n",
       "      <td>(KEN)</td>\n",
       "      <td>02:10:30</td>\n",
       "      <td>Margaret Okayo</td>\n",
       "      <td>(KEN)</td>\n",
       "      <td>02:22:31</td>\n",
       "      <td>23359.0</td>\n",
       "      <td>11927.0</td>\n",
       "      <td>35286.0</td>\n",
       "      <td>23014.0</td>\n",
       "      <td>11715.0</td>\n",
       "      <td>34729.0</td>\n",
       "    </tr>\n",
       "    <tr>\n",
       "      <th>14</th>\n",
       "      <td>2002</td>\n",
       "      <td>Rodgers Rop</td>\n",
       "      <td>(KEN)</td>\n",
       "      <td>02:08:07</td>\n",
       "      <td>Joyce Chepchumba</td>\n",
       "      <td>(KEN)</td>\n",
       "      <td>02:25:56</td>\n",
       "      <td>22140.0</td>\n",
       "      <td>10209.0</td>\n",
       "      <td>32560.0</td>\n",
       "      <td>21625.0</td>\n",
       "      <td>10209.0</td>\n",
       "      <td>31834.0</td>\n",
       "    </tr>\n",
       "    <tr>\n",
       "      <th>15</th>\n",
       "      <td>2001</td>\n",
       "      <td>Tesfaye Jifar</td>\n",
       "      <td>(ETH)</td>\n",
       "      <td>02:07:43</td>\n",
       "      <td>Margaret Okayo</td>\n",
       "      <td>(KEN)</td>\n",
       "      <td>02:24:21</td>\n",
       "      <td>17080.0</td>\n",
       "      <td>6977.0</td>\n",
       "      <td>24057.0</td>\n",
       "      <td>16811.0</td>\n",
       "      <td>6853.0</td>\n",
       "      <td>23664.0</td>\n",
       "    </tr>\n",
       "    <tr>\n",
       "      <th>16</th>\n",
       "      <td>2000</td>\n",
       "      <td>Abdelkader El Mouaziz</td>\n",
       "      <td>(MAR)</td>\n",
       "      <td>02:10:09</td>\n",
       "      <td>Ljudmila Petrowa</td>\n",
       "      <td>(RUS)</td>\n",
       "      <td>02:25:45</td>\n",
       "      <td>21289.0</td>\n",
       "      <td>8641.0</td>\n",
       "      <td>29930.0</td>\n",
       "      <td>21005.0</td>\n",
       "      <td>8331.0</td>\n",
       "      <td>29336.0</td>\n",
       "    </tr>\n",
       "    <tr>\n",
       "      <th>17</th>\n",
       "      <td>1999</td>\n",
       "      <td>Joseph Chebet</td>\n",
       "      <td>(KEN)</td>\n",
       "      <td>02:09:14</td>\n",
       "      <td>Adriana Fernández</td>\n",
       "      <td>(MEX)</td>\n",
       "      <td>02:25:06</td>\n",
       "      <td>23077.0</td>\n",
       "      <td>9426.0</td>\n",
       "      <td>32503.0</td>\n",
       "      <td>22626.0</td>\n",
       "      <td>9160.0</td>\n",
       "      <td>31786.0</td>\n",
       "    </tr>\n",
       "    <tr>\n",
       "      <th>18</th>\n",
       "      <td>1998</td>\n",
       "      <td>John Kagwe</td>\n",
       "      <td>(KEN)</td>\n",
       "      <td>02:08:45</td>\n",
       "      <td>Franca Fiacconi</td>\n",
       "      <td>(ITA)</td>\n",
       "      <td>02:25:17</td>\n",
       "      <td>23327.0</td>\n",
       "      <td>9071.0</td>\n",
       "      <td>32398.0</td>\n",
       "      <td>22587.0</td>\n",
       "      <td>8952.0</td>\n",
       "      <td>31539.0</td>\n",
       "    </tr>\n",
       "    <tr>\n",
       "      <th>19</th>\n",
       "      <td>1997</td>\n",
       "      <td>John Kagwe</td>\n",
       "      <td>(KEN)</td>\n",
       "      <td>02:08:12</td>\n",
       "      <td>Franziska Rochat-Moser</td>\n",
       "      <td>(SUI)</td>\n",
       "      <td>02:28:43</td>\n",
       "      <td>22608.0</td>\n",
       "      <td>8792.0</td>\n",
       "      <td>31400.0</td>\n",
       "      <td>22014.0</td>\n",
       "      <td>8413.0</td>\n",
       "      <td>30427.0</td>\n",
       "    </tr>\n",
       "  </tbody>\n",
       "</table>\n",
       "</div>"
      ],
      "text/plain": [
       "    date                   m_winner m_country    m_time  \\\n",
       "0   2016      Ghirmay Ghebreslassie     (ERI)  02:07:51   \n",
       "1   2015   Stanley Kipleting Biwott     (KEN)  02:10:34   \n",
       "2   2014             Wilson Kipsang     (KEN)  02:10:59   \n",
       "3   2013     Geoffrey Kiprono Mutai     (KEN)  02:08:24   \n",
       "4   2012                        NaN       NaN       NaN   \n",
       "5   2011     Geoffrey Kiprono Mutai     (KEN)  02:05:06   \n",
       "6   2010  Gebregziabher Gebremariam     (ETH)  02:08:14   \n",
       "7   2009       Mebrahtom Keflezighi     (USA)  02:09:15   \n",
       "8   2008        Marílson dos Santos     (BRA)  02:08:43   \n",
       "9   2007          Martin Kiptoo Lel     (KEN)  02:09:04   \n",
       "10  2006        Marílson dos Santos     (BRA)  02:09:58   \n",
       "11  2005                Paul Tergat     (KEN)  02:09:30   \n",
       "12  2004           Hendrick Ramaala     (RSA)  02:09:28   \n",
       "13  2003          Martin Kiptoo Lel     (KEN)  02:10:30   \n",
       "14  2002                Rodgers Rop     (KEN)  02:08:07   \n",
       "15  2001              Tesfaye Jifar     (ETH)  02:07:43   \n",
       "16  2000      Abdelkader El Mouaziz     (MAR)  02:10:09   \n",
       "17  1999              Joseph Chebet     (KEN)  02:09:14   \n",
       "18  1998                 John Kagwe     (KEN)  02:08:45   \n",
       "19  1997                 John Kagwe     (KEN)  02:08:12   \n",
       "\n",
       "                     f_winner f_country    f_time  m_starter  f_starter  \\\n",
       "0                Mary Keitany     (KEN)  02:24:26        NaN        NaN   \n",
       "1                Mary Keitany     (KEN)  02:24:25    29291.0    20944.0   \n",
       "2                Mary Keitany     (KEN)  02:25:07    30324.0    20572.0   \n",
       "3              Priscah Jeptoo     (KEN)  02:25:07    31002.0    19738.0   \n",
       "4                         NaN       NaN       NaN        NaN        NaN   \n",
       "5              Firehiwot Dado     (ETH)  02:23:15    30200.0    17563.0   \n",
       "6   Edna Ngeringwony Kiplagat     (KEN)  02:28:20    29097.0    16253.0   \n",
       "7                Derartu Tulu     (ETH)  02:28:52    28808.0    15369.0   \n",
       "8             Paula Radcliffe     (GBR)  02:23:56    25669.0    13163.0   \n",
       "9             Paula Radcliffe     (GBR)  02:23:09    26525.0    12740.0   \n",
       "10          Jeļena Prokopčuka     (LAT)  02:25:05    25890.0    12478.0   \n",
       "11          Jeļena Prokopčuka     (LAT)  02:24:41    25279.0    12318.0   \n",
       "12            Paula Radcliffe     (GBR)  02:23:10    25051.0    12206.0   \n",
       "13             Margaret Okayo     (KEN)  02:22:31    23359.0    11927.0   \n",
       "14           Joyce Chepchumba     (KEN)  02:25:56    22140.0    10209.0   \n",
       "15             Margaret Okayo     (KEN)  02:24:21    17080.0     6977.0   \n",
       "16           Ljudmila Petrowa     (RUS)  02:25:45    21289.0     8641.0   \n",
       "17          Adriana Fernández     (MEX)  02:25:06    23077.0     9426.0   \n",
       "18            Franca Fiacconi     (ITA)  02:25:17    23327.0     9071.0   \n",
       "19     Franziska Rochat-Moser     (SUI)  02:28:43    22608.0     8792.0   \n",
       "\n",
       "    total_starter  m_finisher  f_finisher  total_finisher  \n",
       "0             NaN         NaN         NaN             NaN  \n",
       "1         50235.0     28899.0     20696.0         49595.0  \n",
       "2         50896.0     30108.0     20422.0         50530.0  \n",
       "3         50740.0     30699.0     19567.0         50266.0  \n",
       "4             NaN         NaN         NaN             NaN  \n",
       "5         47763.0     30068.0     17272.0         47340.0  \n",
       "6         45350.0     28948.0     16155.0         45103.0  \n",
       "7         44177.0     28485.0     15175.0         43660.0  \n",
       "8         38832.0     25216.0     12880.0         38096.0  \n",
       "9         39265.0     26072.0     12535.0         38607.0  \n",
       "10        38368.0     25546.0     12320.0         37866.0  \n",
       "11        37597.0     24795.0     12062.0         36857.0  \n",
       "12        37257.0     24574.0     11988.0         36562.0  \n",
       "13        35286.0     23014.0     11715.0         34729.0  \n",
       "14        32560.0     21625.0     10209.0         31834.0  \n",
       "15        24057.0     16811.0      6853.0         23664.0  \n",
       "16        29930.0     21005.0      8331.0         29336.0  \n",
       "17        32503.0     22626.0      9160.0         31786.0  \n",
       "18        32398.0     22587.0      8952.0         31539.0  \n",
       "19        31400.0     22014.0      8413.0         30427.0  "
      ]
     },
     "execution_count": 193,
     "metadata": {},
     "output_type": "execute_result"
    }
   ],
   "source": [
    "df_marathon_ny = pd.read_excel(\"NY_Marathon_clean.xlsx\")\n",
    "df_marathon_ny.head(20)"
   ]
  },
  {
   "cell_type": "code",
   "execution_count": 194,
   "metadata": {},
   "outputs": [
    {
     "data": {
      "text/plain": [
       "RangeIndex(start=0, stop=47, step=1)"
      ]
     },
     "execution_count": 194,
     "metadata": {},
     "output_type": "execute_result"
    }
   ],
   "source": [
    "df_marathon_ny.index"
   ]
  },
  {
   "cell_type": "code",
   "execution_count": 195,
   "metadata": {},
   "outputs": [
    {
     "data": {
      "text/html": [
       "<div>\n",
       "<style>\n",
       "    .dataframe thead tr:only-child th {\n",
       "        text-align: right;\n",
       "    }\n",
       "\n",
       "    .dataframe thead th {\n",
       "        text-align: left;\n",
       "    }\n",
       "\n",
       "    .dataframe tbody tr th {\n",
       "        vertical-align: top;\n",
       "    }\n",
       "</style>\n",
       "<table border=\"1\" class=\"dataframe\">\n",
       "  <thead>\n",
       "    <tr style=\"text-align: right;\">\n",
       "      <th></th>\n",
       "      <th>m_winner</th>\n",
       "      <th>m_country</th>\n",
       "      <th>m_time</th>\n",
       "      <th>f_winner</th>\n",
       "      <th>f_country</th>\n",
       "      <th>f_time</th>\n",
       "      <th>m_starter</th>\n",
       "      <th>f_starter</th>\n",
       "      <th>total_starter</th>\n",
       "      <th>m_finisher</th>\n",
       "      <th>f_finisher</th>\n",
       "      <th>total_finisher</th>\n",
       "    </tr>\n",
       "    <tr>\n",
       "      <th>date</th>\n",
       "      <th></th>\n",
       "      <th></th>\n",
       "      <th></th>\n",
       "      <th></th>\n",
       "      <th></th>\n",
       "      <th></th>\n",
       "      <th></th>\n",
       "      <th></th>\n",
       "      <th></th>\n",
       "      <th></th>\n",
       "      <th></th>\n",
       "      <th></th>\n",
       "    </tr>\n",
       "  </thead>\n",
       "  <tbody>\n",
       "    <tr>\n",
       "      <th>2016</th>\n",
       "      <td>Ghirmay Ghebreslassie</td>\n",
       "      <td>(ERI)</td>\n",
       "      <td>02:07:51</td>\n",
       "      <td>Mary Keitany</td>\n",
       "      <td>(KEN)</td>\n",
       "      <td>02:24:26</td>\n",
       "      <td>NaN</td>\n",
       "      <td>NaN</td>\n",
       "      <td>NaN</td>\n",
       "      <td>NaN</td>\n",
       "      <td>NaN</td>\n",
       "      <td>NaN</td>\n",
       "    </tr>\n",
       "    <tr>\n",
       "      <th>2015</th>\n",
       "      <td>Stanley Kipleting Biwott</td>\n",
       "      <td>(KEN)</td>\n",
       "      <td>02:10:34</td>\n",
       "      <td>Mary Keitany</td>\n",
       "      <td>(KEN)</td>\n",
       "      <td>02:24:25</td>\n",
       "      <td>29291.0</td>\n",
       "      <td>20944.0</td>\n",
       "      <td>50235.0</td>\n",
       "      <td>28899.0</td>\n",
       "      <td>20696.0</td>\n",
       "      <td>49595.0</td>\n",
       "    </tr>\n",
       "    <tr>\n",
       "      <th>2014</th>\n",
       "      <td>Wilson Kipsang</td>\n",
       "      <td>(KEN)</td>\n",
       "      <td>02:10:59</td>\n",
       "      <td>Mary Keitany</td>\n",
       "      <td>(KEN)</td>\n",
       "      <td>02:25:07</td>\n",
       "      <td>30324.0</td>\n",
       "      <td>20572.0</td>\n",
       "      <td>50896.0</td>\n",
       "      <td>30108.0</td>\n",
       "      <td>20422.0</td>\n",
       "      <td>50530.0</td>\n",
       "    </tr>\n",
       "    <tr>\n",
       "      <th>2013</th>\n",
       "      <td>Geoffrey Kiprono Mutai</td>\n",
       "      <td>(KEN)</td>\n",
       "      <td>02:08:24</td>\n",
       "      <td>Priscah Jeptoo</td>\n",
       "      <td>(KEN)</td>\n",
       "      <td>02:25:07</td>\n",
       "      <td>31002.0</td>\n",
       "      <td>19738.0</td>\n",
       "      <td>50740.0</td>\n",
       "      <td>30699.0</td>\n",
       "      <td>19567.0</td>\n",
       "      <td>50266.0</td>\n",
       "    </tr>\n",
       "    <tr>\n",
       "      <th>2012</th>\n",
       "      <td>NaN</td>\n",
       "      <td>NaN</td>\n",
       "      <td>NaN</td>\n",
       "      <td>NaN</td>\n",
       "      <td>NaN</td>\n",
       "      <td>NaN</td>\n",
       "      <td>NaN</td>\n",
       "      <td>NaN</td>\n",
       "      <td>NaN</td>\n",
       "      <td>NaN</td>\n",
       "      <td>NaN</td>\n",
       "      <td>NaN</td>\n",
       "    </tr>\n",
       "  </tbody>\n",
       "</table>\n",
       "</div>"
      ],
      "text/plain": [
       "                      m_winner m_country    m_time        f_winner f_country  \\\n",
       "date                                                                           \n",
       "2016     Ghirmay Ghebreslassie     (ERI)  02:07:51    Mary Keitany     (KEN)   \n",
       "2015  Stanley Kipleting Biwott     (KEN)  02:10:34    Mary Keitany     (KEN)   \n",
       "2014            Wilson Kipsang     (KEN)  02:10:59    Mary Keitany     (KEN)   \n",
       "2013    Geoffrey Kiprono Mutai     (KEN)  02:08:24  Priscah Jeptoo     (KEN)   \n",
       "2012                       NaN       NaN       NaN             NaN       NaN   \n",
       "\n",
       "        f_time  m_starter  f_starter  total_starter  m_finisher  f_finisher  \\\n",
       "date                                                                          \n",
       "2016  02:24:26        NaN        NaN            NaN         NaN         NaN   \n",
       "2015  02:24:25    29291.0    20944.0        50235.0     28899.0     20696.0   \n",
       "2014  02:25:07    30324.0    20572.0        50896.0     30108.0     20422.0   \n",
       "2013  02:25:07    31002.0    19738.0        50740.0     30699.0     19567.0   \n",
       "2012       NaN        NaN        NaN            NaN         NaN         NaN   \n",
       "\n",
       "      total_finisher  \n",
       "date                  \n",
       "2016             NaN  \n",
       "2015         49595.0  \n",
       "2014         50530.0  \n",
       "2013         50266.0  \n",
       "2012             NaN  "
      ]
     },
     "execution_count": 195,
     "metadata": {},
     "output_type": "execute_result"
    }
   ],
   "source": [
    "df_marathon_ny = df_marathon_ny.set_index('date')\n",
    "df_marathon_ny.head()"
   ]
  },
  {
   "cell_type": "markdown",
   "metadata": {},
   "source": [
    "# Part 1 – Starters "
   ]
  },
  {
   "cell_type": "code",
   "execution_count": 196,
   "metadata": {},
   "outputs": [
    {
     "data": {
      "image/png": "[encoded data removed]",
      "text/plain": [
       "<matplotlib.figure.Figure at 0x113c34cc0>"
      ]
     },
     "metadata": {},
     "output_type": "display_data"
    }
   ],
   "source": [
    "fig, ax = plt.subplots()\n",
    "\n",
    "df_marathon_ny['m_starter'].plot(color='#81D8D0', ax=ax, position=0, kind='barh', figsize=(18,15), label='men starter')\n",
    "df_marathon_ny['f_starter'].plot(color='#5B9EFF', ax=ax, position=1, kind='barh', figsize=(18,15), label='women starter')\n",
    "#plt.ylabel('US dollars/capita, 1996–2016', fontsize=10)\n",
    "#plt.xlabel('Year', fontsize=10)\n",
    "\n",
    "plt.savefig(\"marathon_graph_starters.pdf\")"
   ]
  },
  {
   "cell_type": "code",
   "execution_count": 198,
   "metadata": {},
   "outputs": [
    {
     "data": {
      "text/plain": [
       "<matplotlib.axes._subplots.AxesSubplot at 0x113917940>"
      ]
     },
     "execution_count": 198,
     "metadata": {},
     "output_type": "execute_result"
    },
    {
     "data": {
      "image/png": "[encoded data removed]",
      "text/plain": [
       "<matplotlib.figure.Figure at 0x113a2ba58>"
      ]
     },
     "metadata": {},
     "output_type": "display_data"
    }
   ],
   "source": [
    "fig, ax = plt.subplots()\n",
    "\n",
    "df_marathon_ny['m_starter'].plot(color='#81D8D0', ax=ax, figsize=(10,4), label='men starter')\n",
    "df_marathon_ny['f_starter'].plot(color='#5B9EFF', ax=ax, figsize=(10,4), label='women starter')\n",
    "#plt.ylabel('US dollars/capita, 1996–2016', fontsize=10)\n",
    "#plt.xlabel('Year', fontsize=10)\n",
    "\n",
    "#plt.savefig(\"marathon_graph_starters.pdf\")"
   ]
  },
  {
   "cell_type": "code",
   "execution_count": 199,
   "metadata": {},
   "outputs": [
    {
     "data": {
      "image/png": "[encoded data removed]",
      "text/plain": [
       "<matplotlib.figure.Figure at 0x112f7a2e8>"
      ]
     },
     "metadata": {},
     "output_type": "display_data"
    }
   ],
   "source": [
    "import matplotlib.pyplot as plt\n",
    "\n",
    "fig, ax = plt.subplots()\n",
    "\n",
    "df_marathon_ny['m_starter'].plot(color='#81D8D0', ax=ax, position=0, kind='bar', figsize=(18,6), label='men starter')\n",
    "df_marathon_ny['f_starter'].plot(color='#5B9EFF', ax=ax, position=1, kind='bar', figsize=(18,6), label='women starter')\n",
    "#plt.ylabel('US dollars/capita, 1996–2016', fontsize=10)\n",
    "#plt.xlabel('Year', fontsize=10)\n",
    "\n",
    "plt.savefig(\"marathon_graph_2.pdf\")"
   ]
  },
  {
   "cell_type": "markdown",
   "metadata": {},
   "source": [
    "# Part 2 – Countries"
   ]
  },
  {
   "cell_type": "code",
   "execution_count": 201,
   "metadata": {
    "scrolled": true
   },
   "outputs": [
    {
     "data": {
      "text/plain": [
       "<matplotlib.axes._subplots.AxesSubplot at 0x113b16978>"
      ]
     },
     "execution_count": 201,
     "metadata": {},
     "output_type": "execute_result"
    },
    {
     "data": {
      "image/png": "[encoded data removed]",
      "text/plain": [
       "<matplotlib.figure.Figure at 0x112e646a0>"
      ]
     },
     "metadata": {},
     "output_type": "display_data"
    }
   ],
   "source": [
    "#MEN and WOMEN | total per Country\n",
    "fig, ax = plt.subplots()\n",
    "df_marathon_ny.groupby('m_country')['m_winner'].count().sort_values(ascending=True).plot(color='#81D8D0', figsize=(10,6), kind='barh', ax=ax, position=0)\n",
    "df_marathon_ny.groupby('f_country')['f_winner'].count().sort_values(ascending=True).plot(color='#5B9EFF', figsize=(10,6), kind='barh', ax=ax, position=1)\n",
    "#plt.savefig(\"marathon_graph_countries.pdf\")"
   ]
  },
  {
   "cell_type": "code",
   "execution_count": 202,
   "metadata": {},
   "outputs": [
    {
     "data": {
      "text/plain": [
       "m_country\n",
       "(USA)    14\n",
       "(KEN)    13\n",
       "(MEX)     4\n",
       "(ITA)     4\n",
       "(RSA)     2\n",
       "(ETH)     2\n",
       "(BRA)     2\n",
       "(TAN)     1\n",
       "(NZL)     1\n",
       "(MAR)     1\n",
       "(GBR)     1\n",
       "(ERI)     1\n",
       "Name: m_winner, dtype: int64"
      ]
     },
     "execution_count": 202,
     "metadata": {},
     "output_type": "execute_result"
    }
   ],
   "source": [
    "#MEN | Winner | Countries\n",
    "df_marathon_ny.groupby('m_country')['m_winner'].count().sort_values(ascending=False)"
   ]
  },
  {
   "cell_type": "code",
   "execution_count": 203,
   "metadata": {},
   "outputs": [
    {
     "data": {
      "text/plain": [
       "<matplotlib.axes._subplots.AxesSubplot at 0x113e29780>"
      ]
     },
     "execution_count": 203,
     "metadata": {},
     "output_type": "execute_result"
    },
    {
     "data": {
      "image/png": "[encoded data removed]",
      "text/plain": [
       "<matplotlib.figure.Figure at 0x112d476a0>"
      ]
     },
     "metadata": {},
     "output_type": "display_data"
    }
   ],
   "source": [
    "#MEN / per Countries / total Winners\n",
    "df_marathon_ny.groupby('m_country')['m_winner'].count().sort_values(ascending=True).plot(color='#81D8D0', figsize=(10,5), kind='barh')"
   ]
  },
  {
   "cell_type": "code",
   "execution_count": 204,
   "metadata": {},
   "outputs": [
    {
     "data": {
      "text/plain": [
       "f_country\n",
       "(NOR)    10\n",
       "(KEN)    10\n",
       "(USA)     7\n",
       "(GBR)     5\n",
       "(LAT)     2\n",
       "(ETH)     2\n",
       "(SUI)     1\n",
       "(RUS)     1\n",
       "(ROU)     1\n",
       "(POL)     1\n",
       "(NZL)     1\n",
       "(MEX)     1\n",
       "(ITA)     1\n",
       "(GER)     1\n",
       "(AUS)     1\n",
       "Name: f_winner, dtype: int64"
      ]
     },
     "execution_count": 204,
     "metadata": {},
     "output_type": "execute_result"
    }
   ],
   "source": [
    "#WOMEN / Winner  / Countries\n",
    "df_marathon_ny.groupby('f_country')['f_winner'].count().sort_values(ascending=False)"
   ]
  },
  {
   "cell_type": "code",
   "execution_count": 205,
   "metadata": {},
   "outputs": [
    {
     "data": {
      "text/plain": [
       "<matplotlib.axes._subplots.AxesSubplot at 0x11418e518>"
      ]
     },
     "execution_count": 205,
     "metadata": {},
     "output_type": "execute_result"
    },
    {
     "data": {
      "image/png": "[encoded data removed]",
      "text/plain": [
       "<matplotlib.figure.Figure at 0x112e8a9b0>"
      ]
     },
     "metadata": {},
     "output_type": "display_data"
    }
   ],
   "source": [
    "#WOMEN / per Countries / total Winners\n",
    "df_marathon_ny.groupby('f_country')['f_winner'].count().sort_values(ascending=True).plot(color='#5B9EFF', figsize=(10,5), kind='barh')\n"
   ]
  },
  {
   "cell_type": "code",
   "execution_count": 206,
   "metadata": {},
   "outputs": [
    {
     "data": {
      "text/plain": [
       "m_winner\n",
       "Bill Rodgers                 (USA)(USA)(USA)(USA)\n",
       "Alberto Salazar                   (USA)(USA)(USA)\n",
       "Tom Fleming                            (USA)(USA)\n",
       "Sheldon Karlin                              (USA)\n",
       "Gary Muhrcke                                (USA)\n",
       "Norm Higgins                                (USA)\n",
       "Norbert Sander                              (USA)\n",
       "Mebrahtom Keflezighi                        (USA)\n",
       "Juma Ikangaa                                (TAN)\n",
       "Willie Mtolo                                (RSA)\n",
       "Hendrick Ramaala                            (RSA)\n",
       "Rod Dixon                                   (NZL)\n",
       "Germán Silva                           (MEX)(MEX)\n",
       "Andrés Espinosa                             (MEX)\n",
       "Salvador García                             (MEX)\n",
       "Abdelkader El Mouaziz                       (MAR)\n",
       "Martin Kiptoo Lel                      (KEN)(KEN)\n",
       "Geoffrey Kiprono Mutai                 (KEN)(KEN)\n",
       "John Kagwe                             (KEN)(KEN)\n",
       "Stanley Kipleting Biwott                    (KEN)\n",
       "Douglas Wakiihuri                           (KEN)\n",
       "Rodgers Rop                                 (KEN)\n",
       "Paul Tergat                                 (KEN)\n",
       "Ibrahim Hussein                             (KEN)\n",
       "Joseph Chebet                               (KEN)\n",
       "Wilson Kipsang                              (KEN)\n",
       "Orlando Pizzolato                      (ITA)(ITA)\n",
       "Giacomo Leone                               (ITA)\n",
       "Gianni Poli                                 (ITA)\n",
       "Steve Jones                                 (GBR)\n",
       "Gebregziabher Gebremariam                   (ETH)\n",
       "Tesfaye Jifar                               (ETH)\n",
       "Ghirmay Ghebreslassie                       (ERI)\n",
       "Marílson dos Santos                    (BRA)(BRA)\n",
       "Name: m_country, dtype: object"
      ]
     },
     "execution_count": 206,
     "metadata": {},
     "output_type": "execute_result"
    }
   ],
   "source": [
    "#MEN / Countries per Winner\n",
    "df_marathon_ny.groupby('m_winner')['m_country'].sum().sort_values(ascending=False)"
   ]
  },
  {
   "cell_type": "code",
   "execution_count": 207,
   "metadata": {},
   "outputs": [
    {
     "data": {
      "text/plain": [
       "<matplotlib.axes._subplots.AxesSubplot at 0x1142706a0>"
      ]
     },
     "execution_count": 207,
     "metadata": {},
     "output_type": "execute_result"
    },
    {
     "data": {
      "image/png": "[encoded data removed]",
      "text/plain": [
       "<matplotlib.figure.Figure at 0x112e995f8>"
      ]
     },
     "metadata": {},
     "output_type": "display_data"
    }
   ],
   "source": [
    "#MEN / per Winners / Countries\n",
    "df_marathon_ny.groupby('m_country')['m_winner'].value_counts(ascending=True).sort_values().plot(color='#81D8D0', kind='barh', figsize=(5,10))"
   ]
  },
  {
   "cell_type": "code",
   "execution_count": 211,
   "metadata": {},
   "outputs": [
    {
     "data": {
      "text/html": [
       "<div>\n",
       "<style>\n",
       "    .dataframe thead tr:only-child th {\n",
       "        text-align: right;\n",
       "    }\n",
       "\n",
       "    .dataframe thead th {\n",
       "        text-align: left;\n",
       "    }\n",
       "\n",
       "    .dataframe tbody tr th {\n",
       "        vertical-align: top;\n",
       "    }\n",
       "</style>\n",
       "<table border=\"1\" class=\"dataframe\">\n",
       "  <thead>\n",
       "    <tr style=\"text-align: right;\">\n",
       "      <th></th>\n",
       "      <th>m_finisher</th>\n",
       "      <th>f_finisher</th>\n",
       "    </tr>\n",
       "    <tr>\n",
       "      <th>date</th>\n",
       "      <th></th>\n",
       "      <th></th>\n",
       "    </tr>\n",
       "  </thead>\n",
       "  <tbody>\n",
       "    <tr>\n",
       "      <th>2016</th>\n",
       "      <td>NaN</td>\n",
       "      <td>NaN</td>\n",
       "    </tr>\n",
       "    <tr>\n",
       "      <th>2015</th>\n",
       "      <td>28899.0</td>\n",
       "      <td>20696.0</td>\n",
       "    </tr>\n",
       "    <tr>\n",
       "      <th>2014</th>\n",
       "      <td>30108.0</td>\n",
       "      <td>20422.0</td>\n",
       "    </tr>\n",
       "    <tr>\n",
       "      <th>2013</th>\n",
       "      <td>30699.0</td>\n",
       "      <td>19567.0</td>\n",
       "    </tr>\n",
       "    <tr>\n",
       "      <th>2012</th>\n",
       "      <td>NaN</td>\n",
       "      <td>NaN</td>\n",
       "    </tr>\n",
       "  </tbody>\n",
       "</table>\n",
       "</div>"
      ],
      "text/plain": [
       "      m_finisher  f_finisher\n",
       "date                        \n",
       "2016         NaN         NaN\n",
       "2015     28899.0     20696.0\n",
       "2014     30108.0     20422.0\n",
       "2013     30699.0     19567.0\n",
       "2012         NaN         NaN"
      ]
     },
     "execution_count": 211,
     "metadata": {},
     "output_type": "execute_result"
    }
   ],
   "source": [
    "df_marathon_ny_finisher = df_marathon_ny[['m_finisher', 'f_finisher']]\n",
    "df_marathon_ny_finisher.head()"
   ]
  },
  {
   "cell_type": "code",
   "execution_count": 210,
   "metadata": {
    "collapsed": true
   },
   "outputs": [],
   "source": [
    "#df[df.month.isin(summer)]\n",
    "df_marathon_ny_finisher"
   ]
  },
  {
   "cell_type": "markdown",
   "metadata": {},
   "source": [
    "# PART 3 – Berlin Marathon"
   ]
  },
  {
   "cell_type": "code",
   "execution_count": 3,
   "metadata": {},
   "outputs": [
    {
     "ename": "NameError",
     "evalue": "name 'pd' is not defined",
     "output_type": "error",
     "traceback": [
      "\u001b[0;31m---------------------------------------------------------------------------\u001b[0m",
      "\u001b[0;31mNameError\u001b[0m                                 Traceback (most recent call last)",
      "\u001b[0;32m<ipython-input-3-ef075c7d0a17>\u001b[0m in \u001b[0;36m<module>\u001b[0;34m()\u001b[0m\n\u001b[0;32m----> 1\u001b[0;31m \u001b[0mBerlin\u001b[0m \u001b[0;34m=\u001b[0m \u001b[0mpd\u001b[0m\u001b[0;34m.\u001b[0m\u001b[0mread_excel\u001b[0m\u001b[0;34m(\u001b[0m\u001b[0;34m\"Frauenquote_Marathon.xlsx\"\u001b[0m\u001b[0;34m)\u001b[0m\u001b[0;34m\u001b[0m\u001b[0m\n\u001b[0m\u001b[1;32m      2\u001b[0m \u001b[0mBerlin\u001b[0m\u001b[0;34m.\u001b[0m\u001b[0mhead\u001b[0m\u001b[0;34m(\u001b[0m\u001b[0;36m20\u001b[0m\u001b[0;34m)\u001b[0m\u001b[0;34m\u001b[0m\u001b[0m\n",
      "\u001b[0;31mNameError\u001b[0m: name 'pd' is not defined"
     ]
    }
   ],
   "source": [
    "Berlin = pd.read_excel(\"Frauenquote_Marathon.xlsx\")\n",
    "Berlin.head(20)"
   ]
  },
  {
   "cell_type": "code",
   "execution_count": null,
   "metadata": {
    "collapsed": true
   },
   "outputs": [],
   "source": []
  },
  {
   "cell_type": "code",
   "execution_count": null,
   "metadata": {
    "collapsed": true
   },
   "outputs": [],
   "source": []
  },
  {
   "cell_type": "code",
   "execution_count": null,
   "metadata": {
    "collapsed": true
   },
   "outputs": [],
   "source": []
  },
  {
   "cell_type": "code",
   "execution_count": null,
   "metadata": {
    "collapsed": true
   },
   "outputs": [],
   "source": []
  },
  {
   "cell_type": "code",
   "execution_count": null,
   "metadata": {
    "collapsed": true
   },
   "outputs": [],
   "source": []
  },
  {
   "cell_type": "code",
   "execution_count": null,
   "metadata": {
    "collapsed": true
   },
   "outputs": [],
   "source": []
  },
  {
   "cell_type": "code",
   "execution_count": null,
   "metadata": {
    "collapsed": true
   },
   "outputs": [],
   "source": []
  },
  {
   "cell_type": "code",
   "execution_count": null,
   "metadata": {
    "collapsed": true
   },
   "outputs": [],
   "source": []
  },
  {
   "cell_type": "code",
   "execution_count": null,
   "metadata": {
    "collapsed": true
   },
   "outputs": [],
   "source": [
    "#for geodata\n",
    "def geocode(row):\n",
    "    if pd.notnull(row['country']):\n",
    "        url = 'https://maps.googleapis.com/maps/api/geocode/json'\n",
    "        keys = {\n",
    "            'address': row['country'],\n",
    "            'key': 'XXXXXXXXXXXXXXXXXXXXXXXXXXXXXX'\n",
    "        }\n",
    "        response = requests.get(url, params=keys)\n",
    "        result = response.json()\n",
    "        if len(result['results']) == 1:\n",
    "            return result['results'][0]['geometry']['location']\n",
    "    return np.nan\n",
    "\n",
    "df['geo'] = df.apply(geocode, axis=1)\n",
    "\n",
    "df = df.merge(df['geo'].astype('str').str.extract(' (?P<geo_lat>[\\d.]+),.* (?P<geo_lon>[\\d.]+)}', expand=False), left_index=True, right_index=True)\n",
    "df['geo_lat'] = df['geo_lat'].astype('float')\n",
    "df['geo_lon'] = df['geo_lon'].astype('float')\n",
    "df.drop('geo', axis=1, inplace=True)"
   ]
  },
  {
   "cell_type": "code",
   "execution_count": null,
   "metadata": {
    "collapsed": true
   },
   "outputs": [],
   "source": []
  }
 ],
 "metadata": {
  "kernelspec": {
   "display_name": "Python 3",
   "language": "python",
   "name": "python3"
  },
  "language_info": {
   "codemirror_mode": {
    "name": "ipython",
    "version": 3
   },
   "file_extension": ".py",
   "mimetype": "text/x-python",
   "name": "python",
   "nbconvert_exporter": "python",
   "pygments_lexer": "ipython3",
   "version": "3.6.1"
  }
 },
 "nbformat": 4,
 "nbformat_minor": 2
}
