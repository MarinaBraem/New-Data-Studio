{
 "cells": [
  {
   "cell_type": "markdown",
   "metadata": {},
   "source": [
    "# Women catching up"
   ]
  },
  {
   "cell_type": "markdown",
   "metadata": {},
   "source": [
    "> Ideas & Links\n",
    "\n",
    "> New York Times, History : http://nyti.ms/2vaTpYi || New York Times, Interactives \"Six charts\": http://nyti.ms/2hkPfKz || NYC Marathons, Statistics Analytics: http://bit.ly/1tpapUj"
   ]
  },
  {
   "cell_type": "code",
   "execution_count": 196,
   "metadata": {
    "collapsed": true
   },
   "outputs": [],
   "source": [
    "%matplotlib inline\n",
    "import pandas as pd\n",
    "import geopandas as gpd\n",
    "from shapely.geometry import Point\n",
    "import matplotlib.pyplot as plt\n",
    "import numpy as np\n",
    "\n",
    "\n",
    "import matplotlib\n",
    "matplotlib.rcParams['pdf.fonttype'] = 42\n",
    "import matplotlib.pyplot as pyplot"
   ]
  },
  {
   "cell_type": "code",
   "execution_count": 202,
   "metadata": {},
   "outputs": [
    {
     "data": {
      "text/html": [
       "<div>\n",
       "<style>\n",
       "    .dataframe thead tr:only-child th {\n",
       "        text-align: right;\n",
       "    }\n",
       "\n",
       "    .dataframe thead th {\n",
       "        text-align: left;\n",
       "    }\n",
       "\n",
       "    .dataframe tbody tr th {\n",
       "        vertical-align: top;\n",
       "    }\n",
       "</style>\n",
       "<table border=\"1\" class=\"dataframe\">\n",
       "  <thead>\n",
       "    <tr style=\"text-align: right;\">\n",
       "      <th></th>\n",
       "      <th>date</th>\n",
       "      <th>m_winner</th>\n",
       "      <th>m_country</th>\n",
       "      <th>m_time</th>\n",
       "      <th>f_winner</th>\n",
       "      <th>f_country</th>\n",
       "      <th>f_time</th>\n",
       "      <th>m_starter</th>\n",
       "      <th>f_starter</th>\n",
       "      <th>total_starter</th>\n",
       "      <th>m_finisher</th>\n",
       "      <th>f_finisher</th>\n",
       "      <th>total_finisher</th>\n",
       "    </tr>\n",
       "  </thead>\n",
       "  <tbody>\n",
       "    <tr>\n",
       "      <th>0</th>\n",
       "      <td>1970</td>\n",
       "      <td>Gary Muhrcke</td>\n",
       "      <td>(USA)</td>\n",
       "      <td>02:31:39</td>\n",
       "      <td>---[22]</td>\n",
       "      <td>NaN</td>\n",
       "      <td>NaN</td>\n",
       "      <td>126.0</td>\n",
       "      <td>1.0</td>\n",
       "      <td>127.0</td>\n",
       "      <td>55.0</td>\n",
       "      <td>0.0</td>\n",
       "      <td>55.0</td>\n",
       "    </tr>\n",
       "    <tr>\n",
       "      <th>1</th>\n",
       "      <td>1971</td>\n",
       "      <td>Norm Higgins</td>\n",
       "      <td>(USA)</td>\n",
       "      <td>02:22:54</td>\n",
       "      <td>Beth Bonner</td>\n",
       "      <td>(USA)</td>\n",
       "      <td>02:55:22</td>\n",
       "      <td>240.0</td>\n",
       "      <td>5.0</td>\n",
       "      <td>245.0</td>\n",
       "      <td>153.0</td>\n",
       "      <td>4.0</td>\n",
       "      <td>157.0</td>\n",
       "    </tr>\n",
       "    <tr>\n",
       "      <th>2</th>\n",
       "      <td>1972</td>\n",
       "      <td>Sheldon Karlin</td>\n",
       "      <td>(USA)</td>\n",
       "      <td>02:27:52</td>\n",
       "      <td>Nina Kuscsik</td>\n",
       "      <td>(USA)</td>\n",
       "      <td>03:08:41</td>\n",
       "      <td>278.0</td>\n",
       "      <td>6.0</td>\n",
       "      <td>284.0</td>\n",
       "      <td>92.0</td>\n",
       "      <td>2.0</td>\n",
       "      <td>94.0</td>\n",
       "    </tr>\n",
       "    <tr>\n",
       "      <th>3</th>\n",
       "      <td>1973</td>\n",
       "      <td>Tom Fleming</td>\n",
       "      <td>(USA)</td>\n",
       "      <td>02:21:55</td>\n",
       "      <td>Nina Kuscsik</td>\n",
       "      <td>(USA)</td>\n",
       "      <td>02:57:08</td>\n",
       "      <td>394.0</td>\n",
       "      <td>12.0</td>\n",
       "      <td>406.0</td>\n",
       "      <td>277.0</td>\n",
       "      <td>5.0</td>\n",
       "      <td>282.0</td>\n",
       "    </tr>\n",
       "    <tr>\n",
       "      <th>4</th>\n",
       "      <td>1974</td>\n",
       "      <td>Norbert Sander</td>\n",
       "      <td>(USA)</td>\n",
       "      <td>02:26:31</td>\n",
       "      <td>Kathrine Switzer</td>\n",
       "      <td>(USA)</td>\n",
       "      <td>03:07:29</td>\n",
       "      <td>501.0</td>\n",
       "      <td>26.0</td>\n",
       "      <td>527.0</td>\n",
       "      <td>250.0</td>\n",
       "      <td>9.0</td>\n",
       "      <td>259.0</td>\n",
       "    </tr>\n",
       "    <tr>\n",
       "      <th>5</th>\n",
       "      <td>1975</td>\n",
       "      <td>Tom Fleming</td>\n",
       "      <td>(USA)</td>\n",
       "      <td>02:19:27</td>\n",
       "      <td>Kim Merritt</td>\n",
       "      <td>(USA)</td>\n",
       "      <td>02:46:14</td>\n",
       "      <td>490.0</td>\n",
       "      <td>44.0</td>\n",
       "      <td>534.0</td>\n",
       "      <td>303.0</td>\n",
       "      <td>36.0</td>\n",
       "      <td>339.0</td>\n",
       "    </tr>\n",
       "    <tr>\n",
       "      <th>6</th>\n",
       "      <td>1976</td>\n",
       "      <td>Bill Rodgers</td>\n",
       "      <td>(USA)</td>\n",
       "      <td>02:10:09</td>\n",
       "      <td>Miki Gorman</td>\n",
       "      <td>(USA)</td>\n",
       "      <td>02:39:11</td>\n",
       "      <td>2002.0</td>\n",
       "      <td>88.0</td>\n",
       "      <td>2090.0</td>\n",
       "      <td>1486.0</td>\n",
       "      <td>63.0</td>\n",
       "      <td>1549.0</td>\n",
       "    </tr>\n",
       "    <tr>\n",
       "      <th>7</th>\n",
       "      <td>1977</td>\n",
       "      <td>Bill Rodgers</td>\n",
       "      <td>(USA)</td>\n",
       "      <td>02:11:20</td>\n",
       "      <td>Miki Gorman</td>\n",
       "      <td>(USA)</td>\n",
       "      <td>02:43:10</td>\n",
       "      <td>4595.0</td>\n",
       "      <td>228.0</td>\n",
       "      <td>4823.0</td>\n",
       "      <td>3522.0</td>\n",
       "      <td>179.0</td>\n",
       "      <td>3701.0</td>\n",
       "    </tr>\n",
       "    <tr>\n",
       "      <th>8</th>\n",
       "      <td>1978</td>\n",
       "      <td>Bill Rodgers</td>\n",
       "      <td>(USA)</td>\n",
       "      <td>02:12:12</td>\n",
       "      <td>Grete Waitz</td>\n",
       "      <td>(NOR)</td>\n",
       "      <td>02:32:30</td>\n",
       "      <td>8937.0</td>\n",
       "      <td>938.0</td>\n",
       "      <td>9875.0</td>\n",
       "      <td>7819.0</td>\n",
       "      <td>769.0</td>\n",
       "      <td>8588.0</td>\n",
       "    </tr>\n",
       "    <tr>\n",
       "      <th>9</th>\n",
       "      <td>1979</td>\n",
       "      <td>Bill Rodgers</td>\n",
       "      <td>(USA)</td>\n",
       "      <td>02:11:42</td>\n",
       "      <td>Grete Waitz</td>\n",
       "      <td>(NOR)</td>\n",
       "      <td>02:27:33</td>\n",
       "      <td>10207.0</td>\n",
       "      <td>1326.0</td>\n",
       "      <td>11533.0</td>\n",
       "      <td>9274.0</td>\n",
       "      <td>1203.0</td>\n",
       "      <td>10477.0</td>\n",
       "    </tr>\n",
       "  </tbody>\n",
       "</table>\n",
       "</div>"
      ],
      "text/plain": [
       "   date        m_winner m_country    m_time          f_winner f_country  \\\n",
       "0  1970    Gary Muhrcke     (USA)  02:31:39           ---[22]       NaN   \n",
       "1  1971    Norm Higgins     (USA)  02:22:54       Beth Bonner     (USA)   \n",
       "2  1972  Sheldon Karlin     (USA)  02:27:52      Nina Kuscsik     (USA)   \n",
       "3  1973     Tom Fleming     (USA)  02:21:55      Nina Kuscsik     (USA)   \n",
       "4  1974  Norbert Sander     (USA)  02:26:31  Kathrine Switzer     (USA)   \n",
       "5  1975     Tom Fleming     (USA)  02:19:27       Kim Merritt     (USA)   \n",
       "6  1976    Bill Rodgers     (USA)  02:10:09       Miki Gorman     (USA)   \n",
       "7  1977    Bill Rodgers     (USA)  02:11:20       Miki Gorman     (USA)   \n",
       "8  1978    Bill Rodgers     (USA)  02:12:12       Grete Waitz     (NOR)   \n",
       "9  1979    Bill Rodgers     (USA)  02:11:42       Grete Waitz     (NOR)   \n",
       "\n",
       "     f_time  m_starter  f_starter  total_starter  m_finisher  f_finisher  \\\n",
       "0       NaN      126.0        1.0          127.0        55.0         0.0   \n",
       "1  02:55:22      240.0        5.0          245.0       153.0         4.0   \n",
       "2  03:08:41      278.0        6.0          284.0        92.0         2.0   \n",
       "3  02:57:08      394.0       12.0          406.0       277.0         5.0   \n",
       "4  03:07:29      501.0       26.0          527.0       250.0         9.0   \n",
       "5  02:46:14      490.0       44.0          534.0       303.0        36.0   \n",
       "6  02:39:11     2002.0       88.0         2090.0      1486.0        63.0   \n",
       "7  02:43:10     4595.0      228.0         4823.0      3522.0       179.0   \n",
       "8  02:32:30     8937.0      938.0         9875.0      7819.0       769.0   \n",
       "9  02:27:33    10207.0     1326.0        11533.0      9274.0      1203.0   \n",
       "\n",
       "   total_finisher  \n",
       "0            55.0  \n",
       "1           157.0  \n",
       "2            94.0  \n",
       "3           282.0  \n",
       "4           259.0  \n",
       "5           339.0  \n",
       "6          1549.0  \n",
       "7          3701.0  \n",
       "8          8588.0  \n",
       "9         10477.0  "
      ]
     },
     "execution_count": 202,
     "metadata": {},
     "output_type": "execute_result"
    }
   ],
   "source": [
    "df_marathon_ny = pd.read_csv(\"NY_Marathon_clean.csv\")\n",
    "df_marathon_ny.head(10)"
   ]
  },
  {
   "cell_type": "code",
   "execution_count": 203,
   "metadata": {},
   "outputs": [
    {
     "data": {
      "text/plain": [
       "RangeIndex(start=0, stop=46, step=1)"
      ]
     },
     "execution_count": 203,
     "metadata": {},
     "output_type": "execute_result"
    }
   ],
   "source": [
    "df_marathon_ny.index"
   ]
  },
  {
   "cell_type": "code",
   "execution_count": 204,
   "metadata": {},
   "outputs": [
    {
     "data": {
      "text/html": [
       "<div>\n",
       "<style>\n",
       "    .dataframe thead tr:only-child th {\n",
       "        text-align: right;\n",
       "    }\n",
       "\n",
       "    .dataframe thead th {\n",
       "        text-align: left;\n",
       "    }\n",
       "\n",
       "    .dataframe tbody tr th {\n",
       "        vertical-align: top;\n",
       "    }\n",
       "</style>\n",
       "<table border=\"1\" class=\"dataframe\">\n",
       "  <thead>\n",
       "    <tr style=\"text-align: right;\">\n",
       "      <th></th>\n",
       "      <th>m_winner</th>\n",
       "      <th>m_country</th>\n",
       "      <th>m_time</th>\n",
       "      <th>f_winner</th>\n",
       "      <th>f_country</th>\n",
       "      <th>f_time</th>\n",
       "      <th>m_starter</th>\n",
       "      <th>f_starter</th>\n",
       "      <th>total_starter</th>\n",
       "      <th>m_finisher</th>\n",
       "      <th>f_finisher</th>\n",
       "      <th>total_finisher</th>\n",
       "    </tr>\n",
       "    <tr>\n",
       "      <th>date</th>\n",
       "      <th></th>\n",
       "      <th></th>\n",
       "      <th></th>\n",
       "      <th></th>\n",
       "      <th></th>\n",
       "      <th></th>\n",
       "      <th></th>\n",
       "      <th></th>\n",
       "      <th></th>\n",
       "      <th></th>\n",
       "      <th></th>\n",
       "      <th></th>\n",
       "    </tr>\n",
       "  </thead>\n",
       "  <tbody>\n",
       "    <tr>\n",
       "      <th>1970</th>\n",
       "      <td>Gary Muhrcke</td>\n",
       "      <td>(USA)</td>\n",
       "      <td>02:31:39</td>\n",
       "      <td>---[22]</td>\n",
       "      <td>NaN</td>\n",
       "      <td>NaN</td>\n",
       "      <td>126.0</td>\n",
       "      <td>1.0</td>\n",
       "      <td>127.0</td>\n",
       "      <td>55.0</td>\n",
       "      <td>0.0</td>\n",
       "      <td>55.0</td>\n",
       "    </tr>\n",
       "    <tr>\n",
       "      <th>1971</th>\n",
       "      <td>Norm Higgins</td>\n",
       "      <td>(USA)</td>\n",
       "      <td>02:22:54</td>\n",
       "      <td>Beth Bonner</td>\n",
       "      <td>(USA)</td>\n",
       "      <td>02:55:22</td>\n",
       "      <td>240.0</td>\n",
       "      <td>5.0</td>\n",
       "      <td>245.0</td>\n",
       "      <td>153.0</td>\n",
       "      <td>4.0</td>\n",
       "      <td>157.0</td>\n",
       "    </tr>\n",
       "    <tr>\n",
       "      <th>1972</th>\n",
       "      <td>Sheldon Karlin</td>\n",
       "      <td>(USA)</td>\n",
       "      <td>02:27:52</td>\n",
       "      <td>Nina Kuscsik</td>\n",
       "      <td>(USA)</td>\n",
       "      <td>03:08:41</td>\n",
       "      <td>278.0</td>\n",
       "      <td>6.0</td>\n",
       "      <td>284.0</td>\n",
       "      <td>92.0</td>\n",
       "      <td>2.0</td>\n",
       "      <td>94.0</td>\n",
       "    </tr>\n",
       "    <tr>\n",
       "      <th>1973</th>\n",
       "      <td>Tom Fleming</td>\n",
       "      <td>(USA)</td>\n",
       "      <td>02:21:55</td>\n",
       "      <td>Nina Kuscsik</td>\n",
       "      <td>(USA)</td>\n",
       "      <td>02:57:08</td>\n",
       "      <td>394.0</td>\n",
       "      <td>12.0</td>\n",
       "      <td>406.0</td>\n",
       "      <td>277.0</td>\n",
       "      <td>5.0</td>\n",
       "      <td>282.0</td>\n",
       "    </tr>\n",
       "    <tr>\n",
       "      <th>1974</th>\n",
       "      <td>Norbert Sander</td>\n",
       "      <td>(USA)</td>\n",
       "      <td>02:26:31</td>\n",
       "      <td>Kathrine Switzer</td>\n",
       "      <td>(USA)</td>\n",
       "      <td>03:07:29</td>\n",
       "      <td>501.0</td>\n",
       "      <td>26.0</td>\n",
       "      <td>527.0</td>\n",
       "      <td>250.0</td>\n",
       "      <td>9.0</td>\n",
       "      <td>259.0</td>\n",
       "    </tr>\n",
       "  </tbody>\n",
       "</table>\n",
       "</div>"
      ],
      "text/plain": [
       "            m_winner m_country    m_time          f_winner f_country  \\\n",
       "date                                                                   \n",
       "1970    Gary Muhrcke     (USA)  02:31:39           ---[22]       NaN   \n",
       "1971    Norm Higgins     (USA)  02:22:54       Beth Bonner     (USA)   \n",
       "1972  Sheldon Karlin     (USA)  02:27:52      Nina Kuscsik     (USA)   \n",
       "1973     Tom Fleming     (USA)  02:21:55      Nina Kuscsik     (USA)   \n",
       "1974  Norbert Sander     (USA)  02:26:31  Kathrine Switzer     (USA)   \n",
       "\n",
       "        f_time  m_starter  f_starter  total_starter  m_finisher  f_finisher  \\\n",
       "date                                                                          \n",
       "1970       NaN      126.0        1.0          127.0        55.0         0.0   \n",
       "1971  02:55:22      240.0        5.0          245.0       153.0         4.0   \n",
       "1972  03:08:41      278.0        6.0          284.0        92.0         2.0   \n",
       "1973  02:57:08      394.0       12.0          406.0       277.0         5.0   \n",
       "1974  03:07:29      501.0       26.0          527.0       250.0         9.0   \n",
       "\n",
       "      total_finisher  \n",
       "date                  \n",
       "1970            55.0  \n",
       "1971           157.0  \n",
       "1972            94.0  \n",
       "1973           282.0  \n",
       "1974           259.0  "
      ]
     },
     "execution_count": 204,
     "metadata": {},
     "output_type": "execute_result"
    }
   ],
   "source": [
    "df_marathon_ny = df_marathon_ny.set_index('date')\n",
    "df_marathon_ny.head()"
   ]
  },
  {
   "cell_type": "code",
   "execution_count": 205,
   "metadata": {},
   "outputs": [
    {
     "data": {
      "text/html": [
       "<div>\n",
       "<style>\n",
       "    .dataframe thead tr:only-child th {\n",
       "        text-align: right;\n",
       "    }\n",
       "\n",
       "    .dataframe thead th {\n",
       "        text-align: left;\n",
       "    }\n",
       "\n",
       "    .dataframe tbody tr th {\n",
       "        vertical-align: top;\n",
       "    }\n",
       "</style>\n",
       "<table border=\"1\" class=\"dataframe\">\n",
       "  <thead>\n",
       "    <tr style=\"text-align: right;\">\n",
       "      <th></th>\n",
       "      <th>m_winner</th>\n",
       "      <th>m_country</th>\n",
       "      <th>m_time</th>\n",
       "      <th>f_winner</th>\n",
       "      <th>f_country</th>\n",
       "      <th>f_time</th>\n",
       "      <th>m_starter</th>\n",
       "      <th>f_starter</th>\n",
       "      <th>total_starter</th>\n",
       "      <th>m_finisher</th>\n",
       "      <th>f_finisher</th>\n",
       "      <th>total_finisher</th>\n",
       "    </tr>\n",
       "    <tr>\n",
       "      <th>date</th>\n",
       "      <th></th>\n",
       "      <th></th>\n",
       "      <th></th>\n",
       "      <th></th>\n",
       "      <th></th>\n",
       "      <th></th>\n",
       "      <th></th>\n",
       "      <th></th>\n",
       "      <th></th>\n",
       "      <th></th>\n",
       "      <th></th>\n",
       "      <th></th>\n",
       "    </tr>\n",
       "  </thead>\n",
       "  <tbody>\n",
       "    <tr>\n",
       "      <th>2011</th>\n",
       "      <td>Geoffrey Kiprono Mutai</td>\n",
       "      <td>(KEN)</td>\n",
       "      <td>02:05:06</td>\n",
       "      <td>Firehiwot Dado</td>\n",
       "      <td>(ETH)</td>\n",
       "      <td>02:23:15</td>\n",
       "      <td>30200.0</td>\n",
       "      <td>17563.0</td>\n",
       "      <td>47763.0</td>\n",
       "      <td>30068.0</td>\n",
       "      <td>17272.0</td>\n",
       "      <td>47340.0</td>\n",
       "    </tr>\n",
       "    <tr>\n",
       "      <th>2013</th>\n",
       "      <td>Geoffrey Kiprono Mutai</td>\n",
       "      <td>(KEN)</td>\n",
       "      <td>02:08:24</td>\n",
       "      <td>Priscah Jeptoo</td>\n",
       "      <td>(KEN)</td>\n",
       "      <td>02:25:07</td>\n",
       "      <td>31002.0</td>\n",
       "      <td>19738.0</td>\n",
       "      <td>50740.0</td>\n",
       "      <td>30699.0</td>\n",
       "      <td>19567.0</td>\n",
       "      <td>50266.0</td>\n",
       "    </tr>\n",
       "    <tr>\n",
       "      <th>2014</th>\n",
       "      <td>Wilson Kipsang</td>\n",
       "      <td>(KEN)</td>\n",
       "      <td>02:10:59</td>\n",
       "      <td>Mary Keitany</td>\n",
       "      <td>(KEN)</td>\n",
       "      <td>02:25:07</td>\n",
       "      <td>30324.0</td>\n",
       "      <td>20572.0</td>\n",
       "      <td>50896.0</td>\n",
       "      <td>30108.0</td>\n",
       "      <td>20422.0</td>\n",
       "      <td>50530.0</td>\n",
       "    </tr>\n",
       "    <tr>\n",
       "      <th>2015</th>\n",
       "      <td>Stanley Kipleting Biwott</td>\n",
       "      <td>(KEN)</td>\n",
       "      <td>02:10:34</td>\n",
       "      <td>Mary Keitany</td>\n",
       "      <td>(KEN)</td>\n",
       "      <td>02:24:25</td>\n",
       "      <td>29291.0</td>\n",
       "      <td>20944.0</td>\n",
       "      <td>50235.0</td>\n",
       "      <td>28899.0</td>\n",
       "      <td>20696.0</td>\n",
       "      <td>49595.0</td>\n",
       "    </tr>\n",
       "    <tr>\n",
       "      <th>2016</th>\n",
       "      <td>Ghirmay Ghebreslassie</td>\n",
       "      <td>(ERI)</td>\n",
       "      <td>02:07:51</td>\n",
       "      <td>Mary Keitany</td>\n",
       "      <td>(KEN)</td>\n",
       "      <td>02:24:26</td>\n",
       "      <td>NaN</td>\n",
       "      <td>NaN</td>\n",
       "      <td>NaN</td>\n",
       "      <td>NaN</td>\n",
       "      <td>NaN</td>\n",
       "      <td>NaN</td>\n",
       "    </tr>\n",
       "  </tbody>\n",
       "</table>\n",
       "</div>"
      ],
      "text/plain": [
       "                      m_winner m_country    m_time        f_winner f_country  \\\n",
       "date                                                                           \n",
       "2011    Geoffrey Kiprono Mutai     (KEN)  02:05:06  Firehiwot Dado     (ETH)   \n",
       "2013    Geoffrey Kiprono Mutai     (KEN)  02:08:24  Priscah Jeptoo     (KEN)   \n",
       "2014            Wilson Kipsang     (KEN)  02:10:59    Mary Keitany     (KEN)   \n",
       "2015  Stanley Kipleting Biwott     (KEN)  02:10:34    Mary Keitany     (KEN)   \n",
       "2016     Ghirmay Ghebreslassie     (ERI)  02:07:51    Mary Keitany     (KEN)   \n",
       "\n",
       "        f_time  m_starter  f_starter  total_starter  m_finisher  f_finisher  \\\n",
       "date                                                                          \n",
       "2011  02:23:15    30200.0    17563.0        47763.0     30068.0     17272.0   \n",
       "2013  02:25:07    31002.0    19738.0        50740.0     30699.0     19567.0   \n",
       "2014  02:25:07    30324.0    20572.0        50896.0     30108.0     20422.0   \n",
       "2015  02:24:25    29291.0    20944.0        50235.0     28899.0     20696.0   \n",
       "2016  02:24:26        NaN        NaN            NaN         NaN         NaN   \n",
       "\n",
       "      total_finisher  \n",
       "date                  \n",
       "2011         47340.0  \n",
       "2013         50266.0  \n",
       "2014         50530.0  \n",
       "2015         49595.0  \n",
       "2016             NaN  "
      ]
     },
     "execution_count": 205,
     "metadata": {},
     "output_type": "execute_result"
    }
   ],
   "source": [
    "df_marathon_ny.tail()"
   ]
  },
  {
   "cell_type": "code",
   "execution_count": 206,
   "metadata": {},
   "outputs": [
    {
     "data": {
      "text/plain": [
       "m_winner           object\n",
       "m_country          object\n",
       "m_time             object\n",
       "f_winner           object\n",
       "f_country          object\n",
       "f_time             object\n",
       "m_starter         float64\n",
       "f_starter         float64\n",
       "total_starter     float64\n",
       "m_finisher        float64\n",
       "f_finisher        float64\n",
       "total_finisher    float64\n",
       "dtype: object"
      ]
     },
     "execution_count": 206,
     "metadata": {},
     "output_type": "execute_result"
    }
   ],
   "source": [
    "df_marathon_ny.dtypes"
   ]
  },
  {
   "cell_type": "markdown",
   "metadata": {},
   "source": [
    "# Part 1 – Starters "
   ]
  },
  {
   "cell_type": "code",
   "execution_count": 187,
   "metadata": {},
   "outputs": [
    {
     "data": {
      "text/plain": [
       "<matplotlib.axes._subplots.AxesSubplot at 0x1233de940>"
      ]
     },
     "execution_count": 187,
     "metadata": {},
     "output_type": "execute_result"
    },
    {
     "data": {
      "image/png": "[encoded data removed]",
      "text/plain": [
       "<matplotlib.figure.Figure at 0x1232fb400>"
      ]
     },
     "metadata": {},
     "output_type": "display_data"
    }
   ],
   "source": [
    "fig, ax = plt.subplots()\n",
    "\n",
    "df_marathon_ny['m_starter'].plot(color='#81D8D0', ax=ax, position=0, kind='barh', figsize=(18,15), label='men starter')\n",
    "df_marathon_ny['f_starter'].plot(color='#5B9EFF', ax=ax, position=1, kind='barh', figsize=(18,15), label='women starter')\n",
    "#plt.ylabel('US dollars/capita, 1996–2016', fontsize=10)\n",
    "#plt.xlabel('Year', fontsize=10)\n",
    "\n",
    "#plt.savefig(\"marathon_graph_starters.pdf\")"
   ]
  },
  {
   "cell_type": "code",
   "execution_count": 189,
   "metadata": {},
   "outputs": [
    {
     "data": {
      "text/plain": [
       "<matplotlib.axes._subplots.AxesSubplot at 0x124a43d30>"
      ]
     },
     "execution_count": 189,
     "metadata": {},
     "output_type": "execute_result"
    },
    {
     "data": {
      "image/png": "[encoded data removed]",
      "text/plain": [
       "<matplotlib.figure.Figure at 0x1249f6f60>"
      ]
     },
     "metadata": {},
     "output_type": "display_data"
    }
   ],
   "source": [
    "fig, ax = plt.subplots()\n",
    "\n",
    "df_marathon_ny['m_starter'].plot(color='#81D8D0', ax=ax, kind='barh', figsize=(10,15), label='men starter')\n",
    "df_marathon_ny['f_starter'].plot(color='#5B9EFF', ax=ax, kind='barh', figsize=(10,15), label='women starter')\n",
    "#plt.ylabel('US dollars/capita, 1996–2016', fontsize=10)\n",
    "#plt.xlabel('Year', fontsize=10)\n",
    "\n",
    "#plt.savefig(\"marathon_graph_starters.pdf\")"
   ]
  },
  {
   "cell_type": "code",
   "execution_count": 190,
   "metadata": {},
   "outputs": [
    {
     "data": {
      "text/plain": [
       "<matplotlib.axes._subplots.AxesSubplot at 0x125079978>"
      ]
     },
     "execution_count": 190,
     "metadata": {},
     "output_type": "execute_result"
    },
    {
     "data": {
      "image/png": "[encoded data removed]",
      "text/plain": [
       "<matplotlib.figure.Figure at 0x1249d7f60>"
      ]
     },
     "metadata": {},
     "output_type": "display_data"
    }
   ],
   "source": [
    "fig, ax = plt.subplots()\n",
    "\n",
    "df_marathon_ny['m_starter'].plot(color='#81D8D0', ax=ax, figsize=(10,4), label='men starter')\n",
    "df_marathon_ny['f_starter'].plot(color='#5B9EFF', ax=ax, figsize=(10,4), label='women starter')\n",
    "#plt.ylabel('US dollars/capita, 1996–2016', fontsize=10)\n",
    "#plt.xlabel('Year', fontsize=10)\n",
    "\n",
    "#plt.savefig(\"marathon_graph_starters.pdf\")"
   ]
  },
  {
   "cell_type": "code",
   "execution_count": 192,
   "metadata": {},
   "outputs": [
    {
     "data": {
      "text/plain": [
       "<matplotlib.axes._subplots.AxesSubplot at 0x125691c18>"
      ]
     },
     "execution_count": 192,
     "metadata": {},
     "output_type": "execute_result"
    },
    {
     "data": {
      "image/png": "[encoded data removed]",
      "text/plain": [
       "<matplotlib.figure.Figure at 0x125731d30>"
      ]
     },
     "metadata": {},
     "output_type": "display_data"
    }
   ],
   "source": [
    "fig, ax = plt.subplots()\n",
    "\n",
    "df_marathon_ny['m_starter'].plot(color='#81D8D0', ax=ax, kind='bar', figsize=(18,6), label='men starter')\n",
    "df_marathon_ny['f_starter'].plot(color='#5B9EFF', ax=ax, kind='bar', figsize=(18,6), label='women starter')\n",
    "#plt.ylabel('US dollars/capita, 1996–2016', fontsize=10)\n",
    "#plt.xlabel('Year', fontsize=10)\n",
    "\n",
    "#plt.savefig(\"marathon_graph_2.pdf\")"
   ]
  },
  {
   "cell_type": "markdown",
   "metadata": {},
   "source": [
    "# Part 2 – Countries"
   ]
  },
  {
   "cell_type": "code",
   "execution_count": 13,
   "metadata": {
    "scrolled": true
   },
   "outputs": [
    {
     "data": {
      "text/plain": [
       "<matplotlib.axes._subplots.AxesSubplot at 0x1129b95f8>"
      ]
     },
     "execution_count": 13,
     "metadata": {},
     "output_type": "execute_result"
    },
    {
     "data": {
      "image/png": "[encoded data removed]",
      "text/plain": [
       "<matplotlib.figure.Figure at 0x1128c3d30>"
      ]
     },
     "metadata": {},
     "output_type": "display_data"
    }
   ],
   "source": [
    "#MEN and WOMEN | total per Country\n",
    "fig, ax = plt.subplots()\n",
    "df_marathon_ny.groupby('m_country')['m_winner'].count().sort_values(ascending=True).plot(color='#81D8D0', figsize=(10,6), kind='barh', ax=ax, position=0)\n",
    "df_marathon_ny.groupby('f_country')['f_winner'].count().sort_values(ascending=True).plot(color='#5B9EFF', figsize=(10,6), kind='barh', ax=ax, position=1)\n",
    "#plt.savefig(\"marathon_graph_countries.pdf\")"
   ]
  },
  {
   "cell_type": "code",
   "execution_count": 14,
   "metadata": {},
   "outputs": [
    {
     "data": {
      "text/plain": [
       "m_country\n",
       "(USA)    14\n",
       "(KEN)    13\n",
       "(MEX)     4\n",
       "(ITA)     4\n",
       "(RSA)     2\n",
       "(ETH)     2\n",
       "(BRA)     2\n",
       "(TAN)     1\n",
       "(NZL)     1\n",
       "(MAR)     1\n",
       "(GBR)     1\n",
       "(ERI)     1\n",
       "Name: m_winner, dtype: int64"
      ]
     },
     "execution_count": 14,
     "metadata": {},
     "output_type": "execute_result"
    }
   ],
   "source": [
    "#MEN | Winner | Countries\n",
    "df_marathon_ny.groupby('m_country')['m_winner'].count().sort_values(ascending=False)"
   ]
  },
  {
   "cell_type": "code",
   "execution_count": 15,
   "metadata": {},
   "outputs": [
    {
     "data": {
      "text/plain": [
       "<matplotlib.axes._subplots.AxesSubplot at 0x111b27f28>"
      ]
     },
     "execution_count": 15,
     "metadata": {},
     "output_type": "execute_result"
    },
    {
     "data": {
      "image/png": "[encoded data removed]",
      "text/plain": [
       "<matplotlib.figure.Figure at 0x1128596a0>"
      ]
     },
     "metadata": {},
     "output_type": "display_data"
    }
   ],
   "source": [
    "#MEN / per Countries / total Winners\n",
    "df_marathon_ny.groupby('m_country')['m_winner'].count().sort_values(ascending=True).plot(color='#81D8D0', figsize=(10,5), kind='barh')"
   ]
  },
  {
   "cell_type": "code",
   "execution_count": 16,
   "metadata": {},
   "outputs": [
    {
     "data": {
      "text/plain": [
       "f_country\n",
       "(NOR)    10\n",
       "(KEN)    10\n",
       "(USA)     7\n",
       "(GBR)     5\n",
       "(LAT)     2\n",
       "(ETH)     2\n",
       "(SUI)     1\n",
       "(RUS)     1\n",
       "(ROU)     1\n",
       "(POL)     1\n",
       "(NZL)     1\n",
       "(MEX)     1\n",
       "(ITA)     1\n",
       "(GER)     1\n",
       "(AUS)     1\n",
       "Name: f_winner, dtype: int64"
      ]
     },
     "execution_count": 16,
     "metadata": {},
     "output_type": "execute_result"
    }
   ],
   "source": [
    "#WOMEN / Winner  / Countries\n",
    "df_marathon_ny.groupby('f_country')['f_winner'].count().sort_values(ascending=False)"
   ]
  },
  {
   "cell_type": "code",
   "execution_count": 17,
   "metadata": {},
   "outputs": [
    {
     "data": {
      "text/plain": [
       "<matplotlib.axes._subplots.AxesSubplot at 0x10c4cabe0>"
      ]
     },
     "execution_count": 17,
     "metadata": {},
     "output_type": "execute_result"
    },
    {
     "data": {
      "image/png": "[encoded data removed]",
      "text/plain": [
       "<matplotlib.figure.Figure at 0x111cce320>"
      ]
     },
     "metadata": {},
     "output_type": "display_data"
    }
   ],
   "source": [
    "#WOMEN / per Countries / total Winners\n",
    "df_marathon_ny.groupby('f_country')['f_winner'].count().sort_values(ascending=True).plot(color='#5B9EFF', figsize=(10,5), kind='barh')\n"
   ]
  },
  {
   "cell_type": "code",
   "execution_count": 18,
   "metadata": {},
   "outputs": [
    {
     "data": {
      "text/plain": [
       "m_winner\n",
       "Bill Rodgers                 (USA)(USA)(USA)(USA)\n",
       "Alberto Salazar                   (USA)(USA)(USA)\n",
       "Tom Fleming                            (USA)(USA)\n",
       "Sheldon Karlin                              (USA)\n",
       "Gary Muhrcke                                (USA)\n",
       "Norm Higgins                                (USA)\n",
       "Norbert Sander                              (USA)\n",
       "Mebrahtom Keflezighi                        (USA)\n",
       "Juma Ikangaa                                (TAN)\n",
       "Willie Mtolo                                (RSA)\n",
       "Hendrick Ramaala                            (RSA)\n",
       "Rod Dixon                                   (NZL)\n",
       "Germán Silva                           (MEX)(MEX)\n",
       "Andrés Espinosa                             (MEX)\n",
       "Salvador García                             (MEX)\n",
       "Abdelkader El Mouaziz                       (MAR)\n",
       "Martin Kiptoo Lel                      (KEN)(KEN)\n",
       "Geoffrey Kiprono Mutai                 (KEN)(KEN)\n",
       "John Kagwe                             (KEN)(KEN)\n",
       "Stanley Kipleting Biwott                    (KEN)\n",
       "Douglas Wakiihuri                           (KEN)\n",
       "Rodgers Rop                                 (KEN)\n",
       "Paul Tergat                                 (KEN)\n",
       "Ibrahim Hussein                             (KEN)\n",
       "Joseph Chebet                               (KEN)\n",
       "Wilson Kipsang                              (KEN)\n",
       "Orlando Pizzolato                      (ITA)(ITA)\n",
       "Giacomo Leone                               (ITA)\n",
       "Gianni Poli                                 (ITA)\n",
       "Steve Jones                                 (GBR)\n",
       "Gebregziabher Gebremariam                   (ETH)\n",
       "Tesfaye Jifar                               (ETH)\n",
       "Ghirmay Ghebreslassie                       (ERI)\n",
       "Marílson dos Santos                    (BRA)(BRA)\n",
       "Name: m_country, dtype: object"
      ]
     },
     "execution_count": 18,
     "metadata": {},
     "output_type": "execute_result"
    }
   ],
   "source": [
    "#MEN / Countries per Winner\n",
    "df_marathon_ny.groupby('m_winner')['m_country'].sum().sort_values(ascending=False)"
   ]
  },
  {
   "cell_type": "code",
   "execution_count": 19,
   "metadata": {},
   "outputs": [
    {
     "data": {
      "text/plain": [
       "<matplotlib.axes._subplots.AxesSubplot at 0x112dc1780>"
      ]
     },
     "execution_count": 19,
     "metadata": {},
     "output_type": "execute_result"
    },
    {
     "data": {
      "image/png": "[encoded data removed]",
      "text/plain": [
       "<matplotlib.figure.Figure at 0x112a71908>"
      ]
     },
     "metadata": {},
     "output_type": "display_data"
    }
   ],
   "source": [
    "#MEN / per Winners / Countries\n",
    "df_marathon_ny.groupby('m_country')['m_winner'].value_counts(ascending=True).sort_values().plot(color='#81D8D0', kind='barh', figsize=(5,10))"
   ]
  },
  {
   "cell_type": "code",
   "execution_count": 20,
   "metadata": {},
   "outputs": [
    {
     "data": {
      "text/html": [
       "<div>\n",
       "<style>\n",
       "    .dataframe thead tr:only-child th {\n",
       "        text-align: right;\n",
       "    }\n",
       "\n",
       "    .dataframe thead th {\n",
       "        text-align: left;\n",
       "    }\n",
       "\n",
       "    .dataframe tbody tr th {\n",
       "        vertical-align: top;\n",
       "    }\n",
       "</style>\n",
       "<table border=\"1\" class=\"dataframe\">\n",
       "  <thead>\n",
       "    <tr style=\"text-align: right;\">\n",
       "      <th></th>\n",
       "      <th>m_finisher</th>\n",
       "      <th>f_finisher</th>\n",
       "    </tr>\n",
       "    <tr>\n",
       "      <th>date</th>\n",
       "      <th></th>\n",
       "      <th></th>\n",
       "    </tr>\n",
       "  </thead>\n",
       "  <tbody>\n",
       "    <tr>\n",
       "      <th>2016</th>\n",
       "      <td>NaN</td>\n",
       "      <td>NaN</td>\n",
       "    </tr>\n",
       "    <tr>\n",
       "      <th>2015</th>\n",
       "      <td>28899.0</td>\n",
       "      <td>20696.0</td>\n",
       "    </tr>\n",
       "    <tr>\n",
       "      <th>2014</th>\n",
       "      <td>30108.0</td>\n",
       "      <td>20422.0</td>\n",
       "    </tr>\n",
       "    <tr>\n",
       "      <th>2013</th>\n",
       "      <td>30699.0</td>\n",
       "      <td>19567.0</td>\n",
       "    </tr>\n",
       "    <tr>\n",
       "      <th>2012</th>\n",
       "      <td>NaN</td>\n",
       "      <td>NaN</td>\n",
       "    </tr>\n",
       "  </tbody>\n",
       "</table>\n",
       "</div>"
      ],
      "text/plain": [
       "      m_finisher  f_finisher\n",
       "date                        \n",
       "2016         NaN         NaN\n",
       "2015     28899.0     20696.0\n",
       "2014     30108.0     20422.0\n",
       "2013     30699.0     19567.0\n",
       "2012         NaN         NaN"
      ]
     },
     "execution_count": 20,
     "metadata": {},
     "output_type": "execute_result"
    }
   ],
   "source": [
    "df_marathon_ny_finisher = df_marathon_ny[['m_finisher', 'f_finisher']]\n",
    "df_marathon_ny_finisher.head()"
   ]
  },
  {
   "cell_type": "markdown",
   "metadata": {},
   "source": [
    "# PART 3 – Women quota"
   ]
  },
  {
   "cell_type": "markdown",
   "metadata": {},
   "source": [
    "**Boston**"
   ]
  },
  {
   "cell_type": "code",
   "execution_count": 215,
   "metadata": {},
   "outputs": [
    {
     "data": {
      "text/html": [
       "<div>\n",
       "<style>\n",
       "    .dataframe thead tr:only-child th {\n",
       "        text-align: right;\n",
       "    }\n",
       "\n",
       "    .dataframe thead th {\n",
       "        text-align: left;\n",
       "    }\n",
       "\n",
       "    .dataframe tbody tr th {\n",
       "        vertical-align: top;\n",
       "    }\n",
       "</style>\n",
       "<table border=\"1\" class=\"dataframe\">\n",
       "  <thead>\n",
       "    <tr style=\"text-align: right;\">\n",
       "      <th></th>\n",
       "      <th>Year</th>\n",
       "      <th>Men</th>\n",
       "      <th>Women</th>\n",
       "      <th>Total</th>\n",
       "    </tr>\n",
       "  </thead>\n",
       "  <tbody>\n",
       "    <tr>\n",
       "      <th>0</th>\n",
       "      <td>2017</td>\n",
       "      <td>14439</td>\n",
       "      <td>11975</td>\n",
       "      <td>26413</td>\n",
       "    </tr>\n",
       "    <tr>\n",
       "      <th>1</th>\n",
       "      <td>2016</td>\n",
       "      <td>14471</td>\n",
       "      <td>12168</td>\n",
       "      <td>26639</td>\n",
       "    </tr>\n",
       "    <tr>\n",
       "      <th>2</th>\n",
       "      <td>2015</td>\n",
       "      <td>14588</td>\n",
       "      <td>12022</td>\n",
       "      <td>26610</td>\n",
       "    </tr>\n",
       "    <tr>\n",
       "      <th>3</th>\n",
       "      <td>2014</td>\n",
       "      <td>17523</td>\n",
       "      <td>14282</td>\n",
       "      <td>31805</td>\n",
       "    </tr>\n",
       "    <tr>\n",
       "      <th>4</th>\n",
       "      <td>2013</td>\n",
       "      <td>10638</td>\n",
       "      <td>7942</td>\n",
       "      <td>17580</td>\n",
       "    </tr>\n",
       "  </tbody>\n",
       "</table>\n",
       "</div>"
      ],
      "text/plain": [
       "   Year    Men  Women  Total\n",
       "0  2017  14439  11975  26413\n",
       "1  2016  14471  12168  26639\n",
       "2  2015  14588  12022  26610\n",
       "3  2014  17523  14282  31805\n",
       "4  2013  10638   7942  17580"
      ]
     },
     "execution_count": 215,
     "metadata": {},
     "output_type": "execute_result"
    }
   ],
   "source": [
    "Quota_Boston = pd.read_csv(\"Boston_Finisher_by_Gender_1897–2017.csv\")\n",
    "Quota_Boston.head()"
   ]
  },
  {
   "cell_type": "code",
   "execution_count": 216,
   "metadata": {},
   "outputs": [
    {
     "data": {
      "text/plain": [
       "Year     int64\n",
       "Men      int64\n",
       "Women    int64\n",
       "Total    int64\n",
       "dtype: object"
      ]
     },
     "execution_count": 216,
     "metadata": {},
     "output_type": "execute_result"
    }
   ],
   "source": [
    "Quota_Boston.dtypes"
   ]
  },
  {
   "cell_type": "code",
   "execution_count": 217,
   "metadata": {},
   "outputs": [
    {
     "data": {
      "text/html": [
       "<div>\n",
       "<style>\n",
       "    .dataframe thead tr:only-child th {\n",
       "        text-align: right;\n",
       "    }\n",
       "\n",
       "    .dataframe thead th {\n",
       "        text-align: left;\n",
       "    }\n",
       "\n",
       "    .dataframe tbody tr th {\n",
       "        vertical-align: top;\n",
       "    }\n",
       "</style>\n",
       "<table border=\"1\" class=\"dataframe\">\n",
       "  <thead>\n",
       "    <tr style=\"text-align: right;\">\n",
       "      <th></th>\n",
       "      <th>Men</th>\n",
       "      <th>Women</th>\n",
       "      <th>Total</th>\n",
       "    </tr>\n",
       "    <tr>\n",
       "      <th>Year</th>\n",
       "      <th></th>\n",
       "      <th></th>\n",
       "      <th></th>\n",
       "    </tr>\n",
       "  </thead>\n",
       "  <tbody>\n",
       "    <tr>\n",
       "      <th>2017</th>\n",
       "      <td>14439</td>\n",
       "      <td>11975</td>\n",
       "      <td>26413</td>\n",
       "    </tr>\n",
       "    <tr>\n",
       "      <th>2016</th>\n",
       "      <td>14471</td>\n",
       "      <td>12168</td>\n",
       "      <td>26639</td>\n",
       "    </tr>\n",
       "    <tr>\n",
       "      <th>2015</th>\n",
       "      <td>14588</td>\n",
       "      <td>12022</td>\n",
       "      <td>26610</td>\n",
       "    </tr>\n",
       "    <tr>\n",
       "      <th>2014</th>\n",
       "      <td>17523</td>\n",
       "      <td>14282</td>\n",
       "      <td>31805</td>\n",
       "    </tr>\n",
       "    <tr>\n",
       "      <th>2013</th>\n",
       "      <td>10638</td>\n",
       "      <td>7942</td>\n",
       "      <td>17580</td>\n",
       "    </tr>\n",
       "  </tbody>\n",
       "</table>\n",
       "</div>"
      ],
      "text/plain": [
       "        Men  Women  Total\n",
       "Year                     \n",
       "2017  14439  11975  26413\n",
       "2016  14471  12168  26639\n",
       "2015  14588  12022  26610\n",
       "2014  17523  14282  31805\n",
       "2013  10638   7942  17580"
      ]
     },
     "execution_count": 217,
     "metadata": {},
     "output_type": "execute_result"
    }
   ],
   "source": [
    "Quota_Boston = Quota_Boston.set_index('Year')\n",
    "Quota_Boston.head()"
   ]
  },
  {
   "cell_type": "code",
   "execution_count": 227,
   "metadata": {},
   "outputs": [
    {
     "data": {
      "text/plain": [
       "<matplotlib.axes._subplots.AxesSubplot at 0x12787c748>"
      ]
     },
     "execution_count": 227,
     "metadata": {},
     "output_type": "execute_result"
    },
    {
     "data": {
      "image/png": "[encoded data removed]",
      "text/plain": [
       "<matplotlib.figure.Figure at 0x1276aed68>"
      ]
     },
     "metadata": {},
     "output_type": "display_data"
    }
   ],
   "source": [
    "fig, ax = plt.subplots()\n",
    "\n",
    "Quota_Boston['Men'].plot(color='#81D8D0', ax=ax, kind='bar', figsize=(20,3), label='men starter')\n",
    "Quota_Boston['Women'].plot(color='#5B9EFF', ax=ax, kind='bar', figsize=(20,3), label='women starter')\n",
    "\n",
    "#plt.savefig(\"marathon_Boston.pdf\")"
   ]
  },
  {
   "cell_type": "code",
   "execution_count": 225,
   "metadata": {},
   "outputs": [
    {
     "data": {
      "text/plain": [
       "<matplotlib.axes._subplots.AxesSubplot at 0x1238eeda0>"
      ]
     },
     "execution_count": 225,
     "metadata": {},
     "output_type": "execute_result"
    },
    {
     "data": {
      "image/png": "[encoded data removed]",
      "text/plain": [
       "<matplotlib.figure.Figure at 0x1239f7710>"
      ]
     },
     "metadata": {},
     "output_type": "display_data"
    }
   ],
   "source": [
    "Quota_Boston[['Women', 'Men']].plot(kind='bar', figsize=(20,3))plt.savefig(\"Quota_Boston.pdf\")\n",
    "#plt.savefig(\"Absolute_Boston.pdf\")"
   ]
  },
  {
   "cell_type": "markdown",
   "metadata": {},
   "source": [
    "**Boston Quota** – percentage"
   ]
  },
  {
   "cell_type": "code",
   "execution_count": 183,
   "metadata": {},
   "outputs": [
    {
     "data": {
      "image/png": "[encoded data removed]",
      "text/plain": [
       "<matplotlib.figure.Figure at 0x11d292588>"
      ]
     },
     "metadata": {},
     "output_type": "display_data"
    }
   ],
   "source": [
    "summed = Quota_Boston[['Women', 'Men']].divide(Quota_Boston[['Men', 'Women']].sum(axis=1), axis=0)\n",
    "summed.plot(kind='bar', stacked=True, figsize=(20,3)).invert_xaxis()\n",
    "#plt.savefig(\"Quota_Boston.pdf\")"
   ]
  },
  {
   "cell_type": "markdown",
   "metadata": {
    "collapsed": true
   },
   "source": [
    "**New York**"
   ]
  },
  {
   "cell_type": "code",
   "execution_count": 228,
   "metadata": {},
   "outputs": [
    {
     "data": {
      "text/html": [
       "<div>\n",
       "<style>\n",
       "    .dataframe thead tr:only-child th {\n",
       "        text-align: right;\n",
       "    }\n",
       "\n",
       "    .dataframe thead th {\n",
       "        text-align: left;\n",
       "    }\n",
       "\n",
       "    .dataframe tbody tr th {\n",
       "        vertical-align: top;\n",
       "    }\n",
       "</style>\n",
       "<table border=\"1\" class=\"dataframe\">\n",
       "  <thead>\n",
       "    <tr style=\"text-align: right;\">\n",
       "      <th></th>\n",
       "      <th>Year</th>\n",
       "      <th>Men</th>\n",
       "      <th>Women</th>\n",
       "      <th>Total</th>\n",
       "    </tr>\n",
       "  </thead>\n",
       "  <tbody>\n",
       "    <tr>\n",
       "      <th>0</th>\n",
       "      <td>2016</td>\n",
       "      <td>28899</td>\n",
       "      <td>20696</td>\n",
       "      <td>49595</td>\n",
       "    </tr>\n",
       "    <tr>\n",
       "      <th>1</th>\n",
       "      <td>2015</td>\n",
       "      <td>30108</td>\n",
       "      <td>20422</td>\n",
       "      <td>50530</td>\n",
       "    </tr>\n",
       "    <tr>\n",
       "      <th>2</th>\n",
       "      <td>2014</td>\n",
       "      <td>30699</td>\n",
       "      <td>19567</td>\n",
       "      <td>50266</td>\n",
       "    </tr>\n",
       "    <tr>\n",
       "      <th>3</th>\n",
       "      <td>2011</td>\n",
       "      <td>30068</td>\n",
       "      <td>17272</td>\n",
       "      <td>47340</td>\n",
       "    </tr>\n",
       "    <tr>\n",
       "      <th>4</th>\n",
       "      <td>2010</td>\n",
       "      <td>28948</td>\n",
       "      <td>16155</td>\n",
       "      <td>45103</td>\n",
       "    </tr>\n",
       "  </tbody>\n",
       "</table>\n",
       "</div>"
      ],
      "text/plain": [
       "   Year    Men  Women  Total\n",
       "0  2016  28899  20696  49595\n",
       "1  2015  30108  20422  50530\n",
       "2  2014  30699  19567  50266\n",
       "3  2011  30068  17272  47340\n",
       "4  2010  28948  16155  45103"
      ]
     },
     "execution_count": 228,
     "metadata": {},
     "output_type": "execute_result"
    }
   ],
   "source": [
    "Quota_New_York = pd.read_csv(\"NY_Finisher_by_Gender_1970-2016.csv\")\n",
    "Quota_New_York.head()"
   ]
  },
  {
   "cell_type": "code",
   "execution_count": 229,
   "metadata": {},
   "outputs": [
    {
     "data": {
      "text/plain": [
       "Year     int64\n",
       "Men      int64\n",
       "Women    int64\n",
       "Total    int64\n",
       "dtype: object"
      ]
     },
     "execution_count": 229,
     "metadata": {},
     "output_type": "execute_result"
    }
   ],
   "source": [
    "Quota_New_York.dtypes"
   ]
  },
  {
   "cell_type": "code",
   "execution_count": 230,
   "metadata": {},
   "outputs": [
    {
     "data": {
      "text/html": [
       "<div>\n",
       "<style>\n",
       "    .dataframe thead tr:only-child th {\n",
       "        text-align: right;\n",
       "    }\n",
       "\n",
       "    .dataframe thead th {\n",
       "        text-align: left;\n",
       "    }\n",
       "\n",
       "    .dataframe tbody tr th {\n",
       "        vertical-align: top;\n",
       "    }\n",
       "</style>\n",
       "<table border=\"1\" class=\"dataframe\">\n",
       "  <thead>\n",
       "    <tr style=\"text-align: right;\">\n",
       "      <th></th>\n",
       "      <th>Men</th>\n",
       "      <th>Women</th>\n",
       "      <th>Total</th>\n",
       "    </tr>\n",
       "    <tr>\n",
       "      <th>Year</th>\n",
       "      <th></th>\n",
       "      <th></th>\n",
       "      <th></th>\n",
       "    </tr>\n",
       "  </thead>\n",
       "  <tbody>\n",
       "    <tr>\n",
       "      <th>2016</th>\n",
       "      <td>28899</td>\n",
       "      <td>20696</td>\n",
       "      <td>49595</td>\n",
       "    </tr>\n",
       "    <tr>\n",
       "      <th>2015</th>\n",
       "      <td>30108</td>\n",
       "      <td>20422</td>\n",
       "      <td>50530</td>\n",
       "    </tr>\n",
       "    <tr>\n",
       "      <th>2014</th>\n",
       "      <td>30699</td>\n",
       "      <td>19567</td>\n",
       "      <td>50266</td>\n",
       "    </tr>\n",
       "    <tr>\n",
       "      <th>2011</th>\n",
       "      <td>30068</td>\n",
       "      <td>17272</td>\n",
       "      <td>47340</td>\n",
       "    </tr>\n",
       "    <tr>\n",
       "      <th>2010</th>\n",
       "      <td>28948</td>\n",
       "      <td>16155</td>\n",
       "      <td>45103</td>\n",
       "    </tr>\n",
       "  </tbody>\n",
       "</table>\n",
       "</div>"
      ],
      "text/plain": [
       "        Men  Women  Total\n",
       "Year                     \n",
       "2016  28899  20696  49595\n",
       "2015  30108  20422  50530\n",
       "2014  30699  19567  50266\n",
       "2011  30068  17272  47340\n",
       "2010  28948  16155  45103"
      ]
     },
     "execution_count": 230,
     "metadata": {},
     "output_type": "execute_result"
    }
   ],
   "source": [
    "Quota_New_York = Quota_New_York.set_index('Year')\n",
    "Quota_New_York.head()"
   ]
  },
  {
   "cell_type": "code",
   "execution_count": 247,
   "metadata": {},
   "outputs": [
    {
     "data": {
      "image/png": "[encoded data removed]",
      "text/plain": [
       "<matplotlib.figure.Figure at 0x12a7f2fd0>"
      ]
     },
     "metadata": {},
     "output_type": "display_data"
    }
   ],
   "source": [
    "fig, ax = plt.subplots()\n",
    "\n",
    "Quota_New_York['Men'].plot(color='#81D8D0', ax=ax, kind='bar', figsize=(20,6))\n",
    "Quota_New_York['Women'].plot(color='#5B9EFF', ax=ax, kind='bar', figsize=(20,6))\n",
    "\n",
    "plt.savefig(\"Absolute_New_York_.pdf\")"
   ]
  },
  {
   "cell_type": "code",
   "execution_count": 246,
   "metadata": {},
   "outputs": [
    {
     "data": {
      "text/plain": [
       "<matplotlib.axes._subplots.AxesSubplot at 0x12a11ef98>"
      ]
     },
     "execution_count": 246,
     "metadata": {},
     "output_type": "execute_result"
    },
    {
     "data": {
      "image/png": "[encoded data removed]",
      "text/plain": [
       "<matplotlib.figure.Figure at 0x1299f9f60>"
      ]
     },
     "metadata": {},
     "output_type": "display_data"
    }
   ],
   "source": [
    "fig, ax = plt.subplots()\n",
    "\n",
    "Quota_New_York['Men'].plot(color='#81D8D0', ax=ax, figsize=(20,6))\n",
    "Quota_New_York['Women'].plot(color='#5B9EFF', ax=ax, figsize=(20,6))\n",
    "\n",
    "#plt.savefig(\"Absolute_New_York_.pdf\")"
   ]
  },
  {
   "cell_type": "code",
   "execution_count": 173,
   "metadata": {},
   "outputs": [
    {
     "data": {
      "image/png": "[encoded data removed]",
      "text/plain": [
       "<matplotlib.figure.Figure at 0x122ebca58>"
      ]
     },
     "metadata": {},
     "output_type": "display_data"
    }
   ],
   "source": [
    "summed = Quota_New_York[['Women', 'Men']].divide(Quota_New_York[['Men', 'Women']].sum(axis=1), axis=0)\n",
    "summed.plot(kind='bar', stacked=True, figsize=(20,3))#.invert_xaxis()\n",
    "#plt.savefig(\"Quota_New_York_.pdf\")"
   ]
  },
  {
   "cell_type": "code",
   "execution_count": 244,
   "metadata": {},
   "outputs": [
    {
     "data": {
      "text/plain": [
       "<matplotlib.axes._subplots.AxesSubplot at 0x1299119b0>"
      ]
     },
     "execution_count": 244,
     "metadata": {},
     "output_type": "execute_result"
    },
    {
     "data": {
      "image/png": "[encoded data removed]",
      "text/plain": [
       "<matplotlib.figure.Figure at 0x129a08eb8>"
      ]
     },
     "metadata": {},
     "output_type": "display_data"
    }
   ],
   "source": [
    "#summed = Quota_New_York[['Women', 'Men']].divide(Quota_New_York[['Men', 'Women']].sum(axis=1), axis=0)\n",
    "Quota_New_York[['Women', 'Men']].plot(kind='bar', stacked=True, figsize=(20,3))#.invert_xaxis()\n",
    "#plt.savefig(\"Quota_New_York_.pdf\")"
   ]
  },
  {
   "cell_type": "markdown",
   "metadata": {},
   "source": [
    "**Berlin**"
   ]
  },
  {
   "cell_type": "code",
   "execution_count": 234,
   "metadata": {},
   "outputs": [
    {
     "data": {
      "text/html": [
       "<div>\n",
       "<style>\n",
       "    .dataframe thead tr:only-child th {\n",
       "        text-align: right;\n",
       "    }\n",
       "\n",
       "    .dataframe thead th {\n",
       "        text-align: left;\n",
       "    }\n",
       "\n",
       "    .dataframe tbody tr th {\n",
       "        vertical-align: top;\n",
       "    }\n",
       "</style>\n",
       "<table border=\"1\" class=\"dataframe\">\n",
       "  <thead>\n",
       "    <tr style=\"text-align: right;\">\n",
       "      <th></th>\n",
       "      <th>Year</th>\n",
       "      <th>Men</th>\n",
       "      <th>Women</th>\n",
       "      <th>Total</th>\n",
       "    </tr>\n",
       "  </thead>\n",
       "  <tbody>\n",
       "    <tr>\n",
       "      <th>0</th>\n",
       "      <td>2016</td>\n",
       "      <td>26807</td>\n",
       "      <td>9247</td>\n",
       "      <td>36054</td>\n",
       "    </tr>\n",
       "    <tr>\n",
       "      <th>1</th>\n",
       "      <td>2015</td>\n",
       "      <td>27897</td>\n",
       "      <td>8923</td>\n",
       "      <td>36820</td>\n",
       "    </tr>\n",
       "    <tr>\n",
       "      <th>2</th>\n",
       "      <td>2014</td>\n",
       "      <td>22209</td>\n",
       "      <td>6790</td>\n",
       "      <td>28999</td>\n",
       "    </tr>\n",
       "    <tr>\n",
       "      <th>3</th>\n",
       "      <td>2013</td>\n",
       "      <td>27549</td>\n",
       "      <td>8995</td>\n",
       "      <td>36544</td>\n",
       "    </tr>\n",
       "    <tr>\n",
       "      <th>4</th>\n",
       "      <td>2012</td>\n",
       "      <td>26450</td>\n",
       "      <td>7898</td>\n",
       "      <td>34348</td>\n",
       "    </tr>\n",
       "  </tbody>\n",
       "</table>\n",
       "</div>"
      ],
      "text/plain": [
       "   Year    Men  Women  Total\n",
       "0  2016  26807   9247  36054\n",
       "1  2015  27897   8923  36820\n",
       "2  2014  22209   6790  28999\n",
       "3  2013  27549   8995  36544\n",
       "4  2012  26450   7898  34348"
      ]
     },
     "execution_count": 234,
     "metadata": {},
     "output_type": "execute_result"
    }
   ],
   "source": [
    "Quota_Berlin = pd.read_csv(\"Berlin_Finisher_by_Gender_1974-2016.csv\")\n",
    "Quota_Berlin.head()"
   ]
  },
  {
   "cell_type": "code",
   "execution_count": 235,
   "metadata": {},
   "outputs": [
    {
     "data": {
      "text/plain": [
       "Year     int64\n",
       "Men      int64\n",
       "Women    int64\n",
       "Total    int64\n",
       "dtype: object"
      ]
     },
     "execution_count": 235,
     "metadata": {},
     "output_type": "execute_result"
    }
   ],
   "source": [
    "Quota_Berlin.dtypes"
   ]
  },
  {
   "cell_type": "code",
   "execution_count": 236,
   "metadata": {},
   "outputs": [
    {
     "data": {
      "text/html": [
       "<div>\n",
       "<style>\n",
       "    .dataframe thead tr:only-child th {\n",
       "        text-align: right;\n",
       "    }\n",
       "\n",
       "    .dataframe thead th {\n",
       "        text-align: left;\n",
       "    }\n",
       "\n",
       "    .dataframe tbody tr th {\n",
       "        vertical-align: top;\n",
       "    }\n",
       "</style>\n",
       "<table border=\"1\" class=\"dataframe\">\n",
       "  <thead>\n",
       "    <tr style=\"text-align: right;\">\n",
       "      <th></th>\n",
       "      <th>Men</th>\n",
       "      <th>Women</th>\n",
       "      <th>Total</th>\n",
       "    </tr>\n",
       "    <tr>\n",
       "      <th>Year</th>\n",
       "      <th></th>\n",
       "      <th></th>\n",
       "      <th></th>\n",
       "    </tr>\n",
       "  </thead>\n",
       "  <tbody>\n",
       "    <tr>\n",
       "      <th>2016</th>\n",
       "      <td>26807</td>\n",
       "      <td>9247</td>\n",
       "      <td>36054</td>\n",
       "    </tr>\n",
       "    <tr>\n",
       "      <th>2015</th>\n",
       "      <td>27897</td>\n",
       "      <td>8923</td>\n",
       "      <td>36820</td>\n",
       "    </tr>\n",
       "    <tr>\n",
       "      <th>2014</th>\n",
       "      <td>22209</td>\n",
       "      <td>6790</td>\n",
       "      <td>28999</td>\n",
       "    </tr>\n",
       "    <tr>\n",
       "      <th>2013</th>\n",
       "      <td>27549</td>\n",
       "      <td>8995</td>\n",
       "      <td>36544</td>\n",
       "    </tr>\n",
       "    <tr>\n",
       "      <th>2012</th>\n",
       "      <td>26450</td>\n",
       "      <td>7898</td>\n",
       "      <td>34348</td>\n",
       "    </tr>\n",
       "  </tbody>\n",
       "</table>\n",
       "</div>"
      ],
      "text/plain": [
       "        Men  Women  Total\n",
       "Year                     \n",
       "2016  26807   9247  36054\n",
       "2015  27897   8923  36820\n",
       "2014  22209   6790  28999\n",
       "2013  27549   8995  36544\n",
       "2012  26450   7898  34348"
      ]
     },
     "execution_count": 236,
     "metadata": {},
     "output_type": "execute_result"
    }
   ],
   "source": [
    "Quota_Berlin = Quota_Berlin.set_index('Year')\n",
    "Quota_Berlin.head()"
   ]
  },
  {
   "cell_type": "code",
   "execution_count": 238,
   "metadata": {},
   "outputs": [
    {
     "data": {
      "text/plain": [
       "<matplotlib.axes._subplots.AxesSubplot at 0x128f51d68>"
      ]
     },
     "execution_count": 238,
     "metadata": {},
     "output_type": "execute_result"
    },
    {
     "data": {
      "image/png": "[encoded data removed]",
      "text/plain": [
       "<matplotlib.figure.Figure at 0x128dae668>"
      ]
     },
     "metadata": {},
     "output_type": "display_data"
    }
   ],
   "source": [
    "fig, ax = plt.subplots()\n",
    "\n",
    "Quota_Berlin['Men'].plot(color='#81D8D0', ax=ax, kind='bar', figsize=(20,3), label='men starter')\n",
    "Quota_Berlin['Women'].plot(color='#5B9EFF', ax=ax, kind='bar', figsize=(20,3), label='women starter')\n",
    "\n",
    "#plt.savefig(\"Absolute_Berlin_.pdf\")"
   ]
  },
  {
   "cell_type": "code",
   "execution_count": 239,
   "metadata": {},
   "outputs": [
    {
     "data": {
      "text/plain": [
       "<matplotlib.axes._subplots.AxesSubplot at 0x1292e5fd0>"
      ]
     },
     "execution_count": 239,
     "metadata": {},
     "output_type": "execute_result"
    },
    {
     "data": {
      "image/png": "[encoded data removed]",
      "text/plain": [
       "<matplotlib.figure.Figure at 0x128bbdcf8>"
      ]
     },
     "metadata": {},
     "output_type": "display_data"
    }
   ],
   "source": [
    "summed = Quota_Berlin[['Women', 'Men']].divide(Quota_Berlin[['Men', 'Women']].sum(axis=1), axis=0)\n",
    "summed.plot(kind='bar', stacked=True, figsize=(20,3))#.invert_xaxis()\n",
    "#plt.savefig(\"Quota_Berlin_.pdf\")"
   ]
  },
  {
   "cell_type": "markdown",
   "metadata": {
    "collapsed": true
   },
   "source": [
    "# Finisher USA by gender"
   ]
  },
  {
   "cell_type": "code",
   "execution_count": 241,
   "metadata": {},
   "outputs": [
    {
     "data": {
      "text/html": [
       "<div>\n",
       "<style>\n",
       "    .dataframe thead tr:only-child th {\n",
       "        text-align: right;\n",
       "    }\n",
       "\n",
       "    .dataframe thead th {\n",
       "        text-align: left;\n",
       "    }\n",
       "\n",
       "    .dataframe tbody tr th {\n",
       "        vertical-align: top;\n",
       "    }\n",
       "</style>\n",
       "<table border=\"1\" class=\"dataframe\">\n",
       "  <thead>\n",
       "    <tr style=\"text-align: right;\">\n",
       "      <th></th>\n",
       "      <th>Unnamed: 0</th>\n",
       "      <th>Unnamed: 1</th>\n",
       "      <th>Unnamed: 2</th>\n",
       "    </tr>\n",
       "  </thead>\n",
       "  <tbody>\n",
       "    <tr>\n",
       "      <th>0</th>\n",
       "      <td>NaN</td>\n",
       "      <td>Statistic as Excel data file</td>\n",
       "      <td>NaN</td>\n",
       "    </tr>\n",
       "    <tr>\n",
       "      <th>1</th>\n",
       "      <td>NaN</td>\n",
       "      <td>Percentage of marathon finishers by gender in ...</td>\n",
       "      <td>NaN</td>\n",
       "    </tr>\n",
       "    <tr>\n",
       "      <th>2</th>\n",
       "      <td>NaN</td>\n",
       "      <td>Access data</td>\n",
       "      <td>NaN</td>\n",
       "    </tr>\n",
       "    <tr>\n",
       "      <th>3</th>\n",
       "      <td>NaN</td>\n",
       "      <td>NaN</td>\n",
       "      <td>NaN</td>\n",
       "    </tr>\n",
       "    <tr>\n",
       "      <th>4</th>\n",
       "      <td>NaN</td>\n",
       "      <td>NaN</td>\n",
       "      <td>NaN</td>\n",
       "    </tr>\n",
       "  </tbody>\n",
       "</table>\n",
       "</div>"
      ],
      "text/plain": [
       "   Unnamed: 0                                         Unnamed: 1 Unnamed: 2\n",
       "0         NaN                       Statistic as Excel data file        NaN\n",
       "1         NaN  Percentage of marathon finishers by gender in ...        NaN\n",
       "2         NaN                                        Access data        NaN\n",
       "3         NaN                                                NaN        NaN\n",
       "4         NaN                                                NaN        NaN"
      ]
     },
     "execution_count": 241,
     "metadata": {},
     "output_type": "execute_result"
    }
   ],
   "source": [
    "Quota_USA = pd.read_excel(\"statistic_id280440_share-of-marathon-finishers-in-the-united-states-by-gender-1980-2015.xlsx\")\n",
    "Quota_USA.head()"
   ]
  },
  {
   "cell_type": "code",
   "execution_count": null,
   "metadata": {
    "collapsed": true
   },
   "outputs": [],
   "source": []
  }
 ],
 "metadata": {
  "kernelspec": {
   "display_name": "Python 3",
   "language": "python",
   "name": "python3"
  },
  "language_info": {
   "codemirror_mode": {
    "name": "ipython",
    "version": 3
   },
   "file_extension": ".py",
   "mimetype": "text/x-python",
   "name": "python",
   "nbconvert_exporter": "python",
   "pygments_lexer": "ipython3",
   "version": "3.6.1"
  }
 },
 "nbformat": 4,
 "nbformat_minor": 2
}
